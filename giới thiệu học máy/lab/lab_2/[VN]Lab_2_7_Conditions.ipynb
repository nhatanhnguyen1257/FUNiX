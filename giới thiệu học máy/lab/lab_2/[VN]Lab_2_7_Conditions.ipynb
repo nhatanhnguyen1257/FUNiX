{
  "nbformat": 4,
  "nbformat_minor": 0,
  "metadata": {
    "kernelspec": {
      "display_name": "Python 3",
      "language": "python",
      "name": "python3"
    },
    "language_info": {
      "codemirror_mode": {
        "name": "ipython",
        "version": 3
      },
      "file_extension": ".py",
      "mimetype": "text/x-python",
      "name": "python",
      "nbconvert_exporter": "python",
      "pygments_lexer": "ipython3",
      "version": "3.7.6"
    },
    "colab": {
      "provenance": []
    }
  },
  "cells": [
    {
      "cell_type": "markdown",
      "metadata": {
        "id": "pAZErkx0fzpQ"
      },
      "source": [
        "# Điều kiện (Condition) trong Python\n",
        "\n",
        "Thời lượng ước tính: **20** phút\n",
        "\n",
        "## Mục tiêu\n",
        "\n",
        "Sau khi hoàn thành lab này, bạn sẽ có thể:\n",
        "\n",
        "-   Làm việc với các câu lệnh điều kiện trong Python gồm các toán tử và phân nhánh. \n"
      ]
    },
    {
      "cell_type": "markdown",
      "metadata": {
        "id": "9xzQhTJQfzpY"
      },
      "source": [
        "##<h2>Mục lục</h2>\n",
        "<div class=\"alert alert-block alert-info\" style=\"margin-top: 20px\">\n",
        "    <ul>\n",
        "        <li>\n",
        "            <a href=\"#cond\">Câu lệnh điều kiện</a>\n",
        "            <ul>\n",
        "                <li><a href=\"comp\">Toán tử so sánh</a></li>\n",
        "                <li><a href=\"branch\">Phân nhánh</a></li>\n",
        "                <li><a href=\"logic\">Toán tử logic</a></li>\n",
        "            </ul>\n",
        "        </li>\n",
        "        <li>\n",
        "            <a href=\"#quiz\">Quiz về Câu lệnh điều kiện</a>\n",
        "        </li>\n",
        "    </ul>\n",
        "\n",
        "</div>\n",
        "\n",
        "<hr>\n"
      ]
    },
    {
      "cell_type": "markdown",
      "metadata": {
        "id": "XMsDXalLfzpb"
      },
      "source": [
        "##<h2 id=\"cond\">Câu lệnh điều kiện</h2>\n"
      ]
    },
    {
      "cell_type": "markdown",
      "metadata": {
        "id": "64hsBedKfzpd"
      },
      "source": [
        "##<h3 id=\"comp\">Toán tử so sánh</h3>\n"
      ]
    },
    {
      "cell_type": "markdown",
      "metadata": {
        "id": "0If3q-Tdfzpe"
      },
      "source": [
        "Các phép so sánh sẽ so sánh một số giá trị hoặc toán hạng và tạo ra giá trị Boolean dựa trên một số điều kiện. Khi so sánh hai giá trị, bạn có thể sử dụng các toán tử sau:\n",
        "<ul>\n",
        "    <li>bằng: <b>==</b></li>\n",
        "    <li>không bằng: <b>!=</b></li>\n",
        "    <li>lớn hơn: <b>></b></li>\n",
        "    <li>nhỏ hơn: <b>&lt;</b></li>\n",
        "    <li>lớn hơn hoặc bằng: <b>>=</b></li>\n",
        "    <li>nhỏ hơn hoặc bằng: <b>&lt;=</b></li>\n",
        "</ul>\n"
      ]
    },
    {
      "cell_type": "markdown",
      "metadata": {
        "id": "9Chv4oQMfzpf"
      },
      "source": [
        "Hãy gán giá trị 5 cho<code> a</code>. Sử dụng toán tử bằng được biểu thị bằng hai dấu <b> ==</b> để xem hai giá trị có bằng nhau hay không. Trường hợp dưới đây so sánh biến <code> a</code> với 6."
      ]
    },
    {
      "cell_type": "code",
      "metadata": {
        "id": "QJr9K9jnfzpg",
        "outputId": "c7a31658-49fe-49fb-81f1-264a816992b3",
        "colab": {
          "base_uri": "https://localhost:8080/"
        }
      },
      "source": [
        "# Điều kiện bằng\n",
        "\n",
        "a = 5\n",
        "a == 6"
      ],
      "execution_count": 1,
      "outputs": [
        {
          "output_type": "execute_result",
          "data": {
            "text/plain": [
              "False"
            ]
          },
          "metadata": {},
          "execution_count": 1
        }
      ]
    },
    {
      "cell_type": "markdown",
      "metadata": {
        "id": "hUt5UPrqfzph"
      },
      "source": [
        "Kết quả là <b>False</b>, vì 5 không bằng 6.\n"
      ]
    },
    {
      "cell_type": "markdown",
      "metadata": {
        "id": "_CKcwIphfzpi"
      },
      "source": [
        "Hãy xem xét toán tử so sánh đẳng thức sau: <code> i > 5</code>. Nếu giá trị của toán hạng bên trái, trong trường hợp này là biến <b> i </b> lớn hơn giá trị của toán hạng bên phải, trong trường hợp này là 5, thì câu lệnh là <b> True </b>. Nếu không, câu lệnh là <b> False </b>. Nếu <b> i </b> bằng 6, vì 6 lớn hơn 5 nên kết quả là <b> True </b>."
      ]
    },
    {
      "cell_type": "code",
      "metadata": {
        "id": "C_1BK7Fwfzpi",
        "outputId": "d1f05d62-69ea-4efe-d105-b3c65ace4bff",
        "colab": {
          "base_uri": "https://localhost:8080/"
        }
      },
      "source": [
        "# Ký hiệu lớn hơn\n",
        "\n",
        "i = 6\n",
        "i > 5"
      ],
      "execution_count": 3,
      "outputs": [
        {
          "output_type": "execute_result",
          "data": {
            "text/plain": [
              "True"
            ]
          },
          "metadata": {},
          "execution_count": 3
        }
      ]
    },
    {
      "cell_type": "markdown",
      "metadata": {
        "id": "NKFFLY2wfzpj"
      },
      "source": [
        "Cho <code>i = 2</code>. Câu lệnh sẽ là false vì 2 không lớn hơn 5:\n"
      ]
    },
    {
      "cell_type": "code",
      "metadata": {
        "id": "5hWbiDZ1fzpj",
        "outputId": "8253364f-82ed-4a92-cd3c-4196f00a978c",
        "colab": {
          "base_uri": "https://localhost:8080/"
        }
      },
      "source": [
        "# Ký hiệu lớn hơn\n",
        "\n",
        "i = 2\n",
        "i > 5"
      ],
      "execution_count": 4,
      "outputs": [
        {
          "output_type": "execute_result",
          "data": {
            "text/plain": [
              "False"
            ]
          },
          "metadata": {},
          "execution_count": 4
        }
      ]
    },
    {
      "cell_type": "markdown",
      "metadata": {
        "id": "NRt8meivfzpj"
      },
      "source": [
        "Hãy hiển thị một số giá trị cho <code> i</code> trong hình. Đặt các giá trị lớn hơn 5 bằng màu xanh lá cây và phần còn lại là màu đỏ. Phần màu xanh lá cây thể hiện điều kiện là **True**, màu đỏ nơi câu lệnh là **False**. Nếu giá trị của <code> i</code> là 2, chúng ta được **False** vì 2 nằm trong phần màu đỏ. Tương tự, nếu giá trị của <code> i</code> là 6, chúng ta sẽ được **True** vì điều kiện nằm trong phần màu xanh."
      ]
    },
    {
      "cell_type": "markdown",
      "metadata": {
        "id": "h7FgMQRjfzpk"
      },
      "source": [
        "<img src=\"https://cf-courses-data.s3.us.cloud-object-storage.appdomain.cloud/IBMDeveloperSkillsNetwork-PY0101EN-SkillsNetwork/labs/Module%203/images/CondsGreater.gif\" width=\"650\" />\n"
      ]
    },
    {
      "cell_type": "markdown",
      "metadata": {
        "id": "0KBq6NGwfzpk"
      },
      "source": [
        "Thử bất đẳng thức sử dụng dấu chấm than đứng trước dấu bằng, nếu hai toán hạng không bằng nhau thì điều kiện trả về **True**. Ví dụ: điều kiện sau sẽ là **True** miễn là giá trị của <code> i</code> không bằng 6:"
      ]
    },
    {
      "cell_type": "code",
      "metadata": {
        "id": "i7pwU2H5fzpl",
        "outputId": "015e06d3-08b1-44d7-ca63-64fc1ba6e59d",
        "colab": {
          "base_uri": "https://localhost:8080/"
        }
      },
      "source": [
        "# Ký hiệu không bằng\n",
        "\n",
        "i = 2\n",
        "i != 6"
      ],
      "execution_count": 5,
      "outputs": [
        {
          "output_type": "execute_result",
          "data": {
            "text/plain": [
              "True"
            ]
          },
          "metadata": {},
          "execution_count": 5
        }
      ]
    },
    {
      "cell_type": "markdown",
      "metadata": {
        "id": "fn7NgRgMfzpl"
      },
      "source": [
        "Khi <code>i</code> bằng 6, biểu thức bất đẳng thức sẽ cho  <b>False</b>. \n"
      ]
    },
    {
      "cell_type": "code",
      "metadata": {
        "id": "Ndr_hNnwfzpl",
        "outputId": "210e09a2-6f2d-4fb4-c7e8-8c9f28034e67",
        "colab": {
          "base_uri": "https://localhost:8080/"
        }
      },
      "source": [
        "# Ký hiệu không bằng\n",
        "\n",
        "i = 6\n",
        "i != 6"
      ],
      "execution_count": 6,
      "outputs": [
        {
          "output_type": "execute_result",
          "data": {
            "text/plain": [
              "False"
            ]
          },
          "metadata": {},
          "execution_count": 6
        }
      ]
    },
    {
      "cell_type": "markdown",
      "metadata": {
        "id": "zQG4Gdzwfzpm"
      },
      "source": [
        "Xem dãy số bên dưới. Nếu điều kiện là **True**, các số tương ứng được đánh dấu màu xanh lá cây và nếu điều kiện là **False** thì số tương ứng được đánh dấu màu đỏ. Nếu chúng ta đặt <code> i</code> bằng 2 thì toán tử là true vì 2 nằm trong vùng màu xanh. Nếu đặt <code> i</code> bằng 6, ta được **False** vì điều kiện rơi vào phần màu đỏ."
      ]
    },
    {
      "cell_type": "markdown",
      "metadata": {
        "id": "xtZxTGSQfzpm"
      },
      "source": [
        "<img src=\"https://cf-courses-data.s3.us.cloud-object-storage.appdomain.cloud/IBMDeveloperSkillsNetwork-PY0101EN-SkillsNetwork/labs/Module%203/images/CondsIneq.gif\" width=\"650\" />\n"
      ]
    },
    {
      "cell_type": "markdown",
      "metadata": {
        "id": "hk7w0MS7fzpm"
      },
      "source": [
        "Chúng ta có thể áp dụng các phương thức tương tự với string. Ví dụ, sử dụng một toán tử bằng ở hai chuỗi khác nhau. Vì các chuỗi không bằng nhau, ta được **False**."
      ]
    },
    {
      "cell_type": "code",
      "metadata": {
        "id": "07K3opsXfzpn",
        "outputId": "7ff56d36-547b-410a-92b1-784e0927a07a",
        "colab": {
          "base_uri": "https://localhost:8080/"
        }
      },
      "source": [
        "# Sử dụng ký hiệu bằng để so sánh các string\n",
        "\n",
        "\"ACDC\" == \"Michael Jackson\""
      ],
      "execution_count": 7,
      "outputs": [
        {
          "output_type": "execute_result",
          "data": {
            "text/plain": [
              "False"
            ]
          },
          "metadata": {},
          "execution_count": 7
        }
      ]
    },
    {
      "cell_type": "markdown",
      "metadata": {
        "id": "NO4QrWBxfzpn"
      },
      "source": [
        "Nếu chúng ta sử dụng toán tử bất đẳng thức, đầu ra sẽ là **True** vì các string không bằng nhau."
      ]
    },
    {
      "cell_type": "code",
      "metadata": {
        "id": "wEjsQOYKfzpn",
        "outputId": "9349a5d8-115c-43e0-85ea-5d34f2c02dd3",
        "colab": {
          "base_uri": "https://localhost:8080/"
        }
      },
      "source": [
        "# Sử dụng ký hiệu không bằng để so sánh các string\n",
        "\n",
        "\"ACDC\" != \"Michael Jackson\""
      ],
      "execution_count": 8,
      "outputs": [
        {
          "output_type": "execute_result",
          "data": {
            "text/plain": [
              "True"
            ]
          },
          "metadata": {},
          "execution_count": 8
        }
      ]
    },
    {
      "cell_type": "markdown",
      "metadata": {
        "id": "gmzQ6BWdfzpn"
      },
      "source": [
        "Phép toán bất đẳng thức cũng được sử dụng để so sánh các chữ cái/từ/ký hiệu theo giá trị ASCII của các chữ cái. Giá trị thập phân được hiển thị trong bảng sau thể hiện thứ tự của ký tự:"
      ]
    },
    {
      "cell_type": "markdown",
      "metadata": {
        "id": "bCCDsy-0fzpo"
      },
      "source": [
        "Ví dụ: mã ASCII cho <b>!</b> là 33, trong khi mã ASCII cho <b> +</b> là 43. Do đó <b> +</b> lớn hơn <b>!</b> vì 43 lớn hơn 33."
      ]
    },
    {
      "cell_type": "markdown",
      "metadata": {
        "id": "2NB52E3efzpo"
      },
      "source": [
        "Tương tự, giá trị <b>A</b> là 65, và giá trị <b>B</b> là 66 nên:"
      ]
    },
    {
      "cell_type": "code",
      "metadata": {
        "id": "HH50mWBvfzpo",
        "outputId": "e3d84a4c-4e6d-4a9c-de85-344d27ebb4d7",
        "colab": {
          "base_uri": "https://localhost:8080/"
        }
      },
      "source": [
        "# So sánh các chữ cái\n",
        "\n",
        "'B' > 'A'"
      ],
      "execution_count": 9,
      "outputs": [
        {
          "output_type": "execute_result",
          "data": {
            "text/plain": [
              "True"
            ]
          },
          "metadata": {},
          "execution_count": 9
        }
      ]
    },
    {
      "cell_type": "markdown",
      "metadata": {
        "id": "tzhYgIOJfzpp"
      },
      "source": [
        "Khi có nhiều chữ cái thì chữ đầu tiên được ưu tiên về thứ tự:"
      ]
    },
    {
      "cell_type": "code",
      "metadata": {
        "id": "ZeLSZzwrfzpp",
        "outputId": "52cfbb79-1436-4531-d616-9a05ed15547a",
        "colab": {
          "base_uri": "https://localhost:8080/"
        }
      },
      "source": [
        "# So sánh các chữ cái\n",
        "\n",
        "'BA' > 'AB'"
      ],
      "execution_count": 10,
      "outputs": [
        {
          "output_type": "execute_result",
          "data": {
            "text/plain": [
              "True"
            ]
          },
          "metadata": {},
          "execution_count": 10
        }
      ]
    },
    {
      "cell_type": "markdown",
      "metadata": {
        "id": "4ARfl5D0fzpp"
      },
      "source": [
        "<b> Lưu ý</b>: Các chữ cái viết hoa có mã ASCII khác với các chữ viết thường, nghĩa là so sánh giữa các chữ cái trong Python có phân biệt chữ hoa chữ thường."
      ]
    },
    {
      "cell_type": "markdown",
      "metadata": {
        "id": "eG6FTM9Nfzpq"
      },
      "source": [
        "##<h3 id=\"branch\">Phân nhánh (Branching)</h3>\n"
      ]
    },
    {
      "cell_type": "markdown",
      "metadata": {
        "id": "kXmREwlvfzpt"
      },
      "source": [
        "Phân nhánh cho phép chúng ta chạy các câu lệnh khác nhau cho các đầu vào khác nhau. Hãy xem mệnh đề **if** như một căn phòng bị khóa, nếu mệnh đề là **Đúng** thì chúng ta có thể vào phòng và chương trình của bạn sẽ chạy một số tác vụ được xác định sẵn, nhưng nếu mệnh đề **Sai**, chương trình sẽ bỏ qua tác vụ."
      ]
    },
    {
      "cell_type": "markdown",
      "metadata": {
        "id": "COwAFpdYfzpu"
      },
      "source": [
        "Ví dụ, hãy xét hình chữ nhật màu xanh đại diện cho một buổi hòa nhạc ACDC. Nếu người tham dự 18 tuổi trở lên, họ có thể tham gia buổi hòa nhạc ACDC. Nếu họ từ 18 tuổi trở xuống thì không thể tham gia buổi hòa nhạc.\n",
        "  \n",
        "Hãy sử dụng các câu lệnh điều kiện đã học trước đó vì các điều kiện cần được kiểm tra trong câu lệnh **if**. Cú pháp đơn giản là <code>if<i> mệnh đề điều kiện</i>:</code>, chứa từ <code> if</code>, bất kỳ mệnh đề điều kiện nào và dấu hai chấm ở cuối. Để bắt đầu các tác vụ, cần thực thi trong điều kiện này ở một dòng mới có thụt lề. Các dòng code sau dấu hai chấm và có thụt lề sẽ chỉ được thực thi khi mênh đề **if** là **True**. Các tác vụ sẽ kết thúc khi dòng code không thụt lề.\n",
        "\n",
        "Trong trường hợp dưới đây, các tác vụ thực thi <code> print(“you can enter”)</code> chỉ xảy ra nếu biến <code>age</code> lớn hơn 18 là đúng vì dòng code này có thụt vào. Tuy nhiên, việc thực thi <code> print (“move on”)</code> sẽ không bị ảnh hưởng bởi câu lệnh if.\n"
      ]
    },
    {
      "cell_type": "code",
      "metadata": {
        "id": "e2aEGqcifzpy",
        "outputId": "f722c1a5-637a-41be-bdd4-7b8bcee65260",
        "colab": {
          "base_uri": "https://localhost:8080/"
        }
      },
      "source": [
        "# Ví dụ câu lệnh If\n",
        "\n",
        "age = 19\n",
        "#age = 18\n",
        "\n",
        "#biểu thức có thể là đúng hoặc sai\n",
        "if age > 18:\n",
        "    \n",
        "    #trong thụt lề, biểu thức sẽ chạy nếu điều kiện đúng\n",
        "    print(\"you can enter\" )\n",
        "\n",
        "#Câu lệnh sau lệnh if sẽ chạy bất kể điều kiện là đúng hay sai\n",
        "print(\"move on\")"
      ],
      "execution_count": 11,
      "outputs": [
        {
          "output_type": "stream",
          "name": "stdout",
          "text": [
            "you can enter\n",
            "move on\n"
          ]
        }
      ]
    },
    {
      "cell_type": "markdown",
      "metadata": {
        "id": "s7mJKtGIfzpy"
      },
      "source": [
        "<i> Hãy thử bỏ ghi chú biến độ tuổi </i>"
      ]
    },
    {
      "cell_type": "markdown",
      "metadata": {
        "id": "IasEJD_Rfzp0"
      },
      "source": [
        "Hãy sử dụng sơ đồ sau để minh họa quy trình. Ở phía bên trái, chúng ta thấy điều sẽ xảy ra khi điều kiện là <b>True</b>; người tham gia buổi hòa nhạc ACDC thể hiện code sau thụt lề đang được thực thi; sau đó chúng di chuyển. Ở phía bên phải, chúng ta thấy điều sẽ xảy ra khi điều kiện là <b>False</b>, người đó không được cấp quyền đi vào và di chuyển. Trong trường hợp này, đoạn code sau thụt lề không chạy, nhưng phần còn lại của các câu lệnh vẫn chạy."
      ]
    },
    {
      "cell_type": "markdown",
      "metadata": {
        "id": "YOZzapKxfzp0"
      },
      "source": [
        "<img src=\"https://cf-courses-data.s3.us.cloud-object-storage.appdomain.cloud/IBMDeveloperSkillsNetwork-PY0101EN-SkillsNetwork/labs/Module%203/images/CondsIf.gif\" width=\"650\" />\n"
      ]
    },
    {
      "cell_type": "markdown",
      "metadata": {
        "id": "sWTdup7xfzp0"
      },
      "source": [
        "Câu lệnh <code> else</code> chạy một khối code nếu không có điều kiện nào là **True** trước câu lệnh <code> else </code> này. Hãy sử dụng ví dụ về buổi hòa nhạc ACDC một lần nữa. Nếu người tham dự 17 tuổi, họ không thể đến buổi hòa nhạc ACDC, nhưng họ có thể đến buổi hòa nhạc Meatloaf.\n",
        "Cú pháp của câu lệnh <code>else</code> tương tự như cú pháp của câu lệnh <code> if</code>, là <code> else:</code>. Lưu ý rằng, không có mệnh đề điều kiện nào cho <code> else</code>.\n",
        "Hãy thử thay đổi các giá trị của <code> age</code> để xem điều gì sẽ xảy ra:"
      ]
    },
    {
      "cell_type": "code",
      "metadata": {
        "id": "55gSmShYfzp1",
        "outputId": "914a576d-073c-426a-cc3e-6718791eff00",
        "colab": {
          "base_uri": "https://localhost:8080/"
        }
      },
      "source": [
        "# Ví dụ câu lệnh else\n",
        "\n",
        "age = 18\n",
        "# age = 19\n",
        "\n",
        "if age > 18:\n",
        "    print(\"you can enter\" )\n",
        "else:\n",
        "    print(\"go see Meat Loaf\" )\n",
        "    \n",
        "print(\"move on\")"
      ],
      "execution_count": 12,
      "outputs": [
        {
          "output_type": "stream",
          "name": "stdout",
          "text": [
            "go see Meat Loaf\n",
            "move on\n"
          ]
        }
      ]
    },
    {
      "cell_type": "markdown",
      "metadata": {
        "id": "Jy0Oi2rGfzp1"
      },
      "source": [
        "Quá trình này được minh họa dưới đây, trong đó mỗi khả năng được thể hiện ở mỗi bên của hình ảnh. Bên trái là trường hợp tuổi 17, chúng ta đặt biến tuổi là 17, và điều này nghĩa là người tham dự sẽ tới buổi hòa nhạc Meatloaf. Phần bên phải hiển thị điều sẽ xảy ra khi người tham dự trên 18 tuổi, trong trường hợp này là 19 và người tham dự được đi vào vào buổi hòa nhạc."
      ]
    },
    {
      "cell_type": "markdown",
      "metadata": {
        "id": "G0EjLhy7fzp2"
      },
      "source": [
        "<img src=\"https://cf-courses-data.s3.us.cloud-object-storage.appdomain.cloud/IBMDeveloperSkillsNetwork-PY0101EN-SkillsNetwork/labs/Module%203/images/CondsElse.gif\" width=\"650\" />\n"
      ]
    },
    {
      "cell_type": "markdown",
      "metadata": {
        "id": "P5sGXe0Zfzp2"
      },
      "source": [
        "Câu lệnh <code> elif</code>, viết tắt của else if, cho phép chúng ta kiểm tra các điều kiện bổ sung nếu các câu lệnh điều kiện trước là <b>False</b>. Nếu điều kiện cho câu lệnh <code> elif</code> là <b> True</b>, các biểu thức thay thế sẽ được thực thi. Hãy xem ví dụ về buổi hòa nhạc, nếu người tham dự 18 tuổi, họ sẽ đến buổi hòa nhạc Pink Floyd thay vì buổi hòa nhạc ACDC hoặc Meat-loaf. Người 18 tuổi vào khu vực này, và vì họ không đủ 18 tuổi thì không thể xem ACDC, nhưng khi đủ 18 tuổi, họ tham dự Pink Floyd. Sau khi nhìn thấy Pink Floyd, họ tiếp tục. Cú pháp của câu lệnh <code> elif</code> tương tự ở chỗ chúng ta chỉ thay đổi <code> if</code> trong câu lệnh <code> if</code> thành <code> elif</code>."
      ]
    },
    {
      "cell_type": "code",
      "metadata": {
        "id": "x_HJC2V9fzp3",
        "outputId": "a540ff60-08b5-4321-df8b-5c8b43eddd0b",
        "colab": {
          "base_uri": "https://localhost:8080/"
        }
      },
      "source": [
        "# Ví dụ câu lệnh elif \n",
        "\n",
        "age = 18\n",
        "\n",
        "if age > 18:\n",
        "    print(\"you can enter\" )\n",
        "elif age == 18:\n",
        "    print(\"go see Pink Floyd\")\n",
        "else:\n",
        "    print(\"go see Meat Loaf\" )\n",
        "    \n",
        "print(\"move on\")"
      ],
      "execution_count": 13,
      "outputs": [
        {
          "output_type": "stream",
          "name": "stdout",
          "text": [
            "go see Pink Floyd\n",
            "move on\n"
          ]
        }
      ]
    },
    {
      "cell_type": "markdown",
      "metadata": {
        "id": "NDPAHyQOfzp3"
      },
      "source": [
        "Ba kết hợp được hiển thị trong hình bên dưới. Phần bên trái cho biết điều gì sẽ xảy ra khi người tham dự dưới 18 tuổi. Phần ở giữa hiển thị khi người tham dự 18 tuối. Phần bên phải hiển thị khi người tham dự trên 18 tuổi."
      ]
    },
    {
      "cell_type": "markdown",
      "metadata": {
        "id": "8f6BGH36fzp4"
      },
      "source": [
        "<img src =\"https://cf-courses-data.s3.us.cloud-object-storage.appdomain.cloud/IBMDeveloperSkillsNetwork-PY0101EN-SkillsNetwork/labs/Module%203/images/CondsElif.gif\" width=\"650\" />\n"
      ]
    },
    {
      "cell_type": "markdown",
      "metadata": {
        "id": "QPF_asWOfzp4"
      },
      "source": [
        "Hãy xem code sau:\n"
      ]
    },
    {
      "cell_type": "code",
      "metadata": {
        "id": "cTwZ-xkxfzp5",
        "outputId": "16f9c138-4d3b-48a3-9a00-630b39952fca",
        "colab": {
          "base_uri": "https://localhost:8080/"
        }
      },
      "source": [
        "# Ví dụ câu lệnh điều kiện \n",
        "\n",
        "album_year = 1983\n",
        "album_year = 1970\n",
        "\n",
        "if album_year > 1980:\n",
        "    print(\"Album year is greater than 1980\")\n",
        "    \n",
        "print('do something..')"
      ],
      "execution_count": 14,
      "outputs": [
        {
          "output_type": "stream",
          "name": "stdout",
          "text": [
            "do something..\n"
          ]
        }
      ]
    },
    {
      "cell_type": "markdown",
      "metadata": {
        "id": "JUHrAK5Tfzp5"
      },
      "source": [
        "Hãy thay giá trị <code>album_year</code> thành các giá trị khác -- bạn sẽ thấy kết quả thay đổi!\n"
      ]
    },
    {
      "cell_type": "markdown",
      "metadata": {
        "id": "hDYsr4rgfzp5"
      },
      "source": [
        "Lưu ý rằng code trong khối <b> thụt lề </b> ở trên sẽ chỉ được thực thi nếu kết quả là <b>True</b>."
      ]
    },
    {
      "cell_type": "markdown",
      "metadata": {
        "id": "Cy_hHueqfzp5"
      },
      "source": [
        "Như trước, chúng ta có thể thêm khối <code>else</code> vào khối <code>if</code>. Code trong khối <code>else</code> sẽ chỉ được thực thi nếu kết quả là <b>False</b>.\n",
        "\n",
        "<b>Cú pháp:</b> \n",
        "\n",
        "if (condition):\n",
        "\\# do something\n",
        "else:\n",
        "\\# do something else\n"
      ]
    },
    {
      "cell_type": "markdown",
      "metadata": {
        "id": "msSNXTV0fzp6"
      },
      "source": [
        "Nếu điều kiện trong câu lệnh <code> if</code> là <b> False</b>, câu lệnh sau khối <code> else</code> sẽ thực thi. Điều này được thể hiện trong hình:"
      ]
    },
    {
      "cell_type": "markdown",
      "metadata": {
        "id": "QDP86XuFfzp6"
      },
      "source": [
        "<img src=\"https://cf-courses-data.s3.us.cloud-object-storage.appdomain.cloud/IBMDeveloperSkillsNetwork-PY0101EN-SkillsNetwork/labs/Module%203/images/CondsLogicMap.png\" width=\"650\" />\n"
      ]
    },
    {
      "cell_type": "code",
      "metadata": {
        "id": "MacZ7cRefzqB",
        "outputId": "dcd6eb29-75ab-4eb8-f0fd-3f46e047f5e4",
        "colab": {
          "base_uri": "https://localhost:8080/"
        }
      },
      "source": [
        "# Ví dụ câu lệnh điều kiện \n",
        "\n",
        "album_year = 1983\n",
        "#album_year = 1970\n",
        "\n",
        "if album_year > 1980:\n",
        "    print(\"Album year is greater than 1980\")\n",
        "else:\n",
        "    print(\"less than 1980\")\n",
        "\n",
        "print('do something..')"
      ],
      "execution_count": 15,
      "outputs": [
        {
          "output_type": "stream",
          "name": "stdout",
          "text": [
            "Album year is greater than 1980\n",
            "do something..\n"
          ]
        }
      ]
    },
    {
      "cell_type": "markdown",
      "metadata": {
        "id": "yzEtQMQTfzqC"
      },
      "source": [
        "Hãy thay đổi giá trị <code> album_year</code> thành các giá trị khác - bạn sẽ thấy rằng kết quả cũng thay đổi!"
      ]
    },
    {
      "cell_type": "markdown",
      "metadata": {
        "id": "Y_URDIeVfzqC"
      },
      "source": [
        "##<h3 id=\"logic\">Toán tử logic</h3>\n"
      ]
    },
    {
      "cell_type": "markdown",
      "metadata": {
        "id": "6BAcM4GFfzqC"
      },
      "source": [
        "Đôi khi bạn muốn kiểm tra nhiều điều kiện cùng một lúc. Ví dụ: bạn có thể muốn kiểm tra xem điều kiện này và điều kiện khác có phải là **True** hay không. Toán tử logic cho phép bạn kết hợp hoặc sửa đổi các điều kiện.\n",
        "\n",
        "<ul>\n",
        "    <li><code>and</code></li>\n",
        "    <li><code>or</code></li>\n",
        "    <li><code>not</code></li>\n",
        "</ul>\n",
        " \n",
        "Các toán tử này được tóm lược cho hai biến bằng cách sử dụng bảng sự chân lý (truth table) sau: "
      ]
    },
    {
      "cell_type": "markdown",
      "metadata": {
        "id": "VdWBE4vBfzqD"
      },
      "source": [
        "<img src=\"https://cf-courses-data.s3.us.cloud-object-storage.appdomain.cloud/IBMDeveloperSkillsNetwork-PY0101EN-SkillsNetwork/labs/Module%203/images/CondsTable.png\" width=\"650\" />\n"
      ]
    },
    {
      "cell_type": "markdown",
      "metadata": {
        "id": "MIo9RUkpfzqD"
      },
      "source": [
        "Câu lệnh <code>and</code> chỉ đúng khi cả hai điều kiện đều đúng. Câu lệnh <code>or</code> đúng nếu một điều kiện là đúng. Câu lệnh <code>not</code> xuất ra giá trị thật ngược lại."
      ]
    },
    {
      "cell_type": "markdown",
      "metadata": {
        "id": "1DbHkVfnfzqD"
      },
      "source": [
        "Hãy xem cách xác định xem một album được phát hành sau năm 1979 (không bao gồm năm 1979) và trước năm 1990 (không bao gồm năm 1990). Khoảng thời gian từ 1980 đến 1989 thỏa mãn điều kiện này. Điều này được thể hiện trong hình bên dưới. Màu xanh trên các đường <strong> a </strong> và <strong> b </strong> biểu thị các khoảng thời gian mà câu lệnh là **True**. Màu xanh trên đường <strong> c </strong> biểu thị vị trí của cả hai điều kiện là **True**, điều này tương ứng với vị trí các vùng màu xanh chồng lên nhau."
      ]
    },
    {
      "cell_type": "markdown",
      "metadata": {
        "id": "lY0WlBuKfzqD"
      },
      "source": [
        "<img src=\"https://cf-courses-data.s3.us.cloud-object-storage.appdomain.cloud/IBMDeveloperSkillsNetwork-PY0101EN-SkillsNetwork/labs/Module%203/images/CondsEgOne.png\" width=\"650\" />\n"
      ]
    },
    {
      "cell_type": "markdown",
      "metadata": {
        "id": "6zcvcVQcfzqD"
      },
      "source": [
        "Khối code thực hiện kiểm tra này được cung cấp bởi:"
      ]
    },
    {
      "cell_type": "code",
      "metadata": {
        "id": "1PQfPzLJfzqD",
        "outputId": "9c7584f1-a755-4997-d4dc-a343231691e1",
        "colab": {
          "base_uri": "https://localhost:8080/"
        }
      },
      "source": [
        "# Ví dụ câu lệnh điều kiện\n",
        "\n",
        "album_year = 1980\n",
        "\n",
        "if(album_year > 1979) and (album_year < 1990):\n",
        "    print (\"Album year was in between 1980 and 1989\")\n",
        "    \n",
        "print(\"\")\n",
        "print(\"Do Stuff..\")"
      ],
      "execution_count": 16,
      "outputs": [
        {
          "output_type": "stream",
          "name": "stdout",
          "text": [
            "Album year was in between 1980 and 1989\n",
            "\n",
            "Do Stuff..\n"
          ]
        }
      ]
    },
    {
      "cell_type": "markdown",
      "metadata": {
        "id": "pT6DhQnufzqE"
      },
      "source": [
        "Để xác định xem một album được phát hành trước năm 1980 (~ - 1979) hay sau năm 1989 (1990 - ~ ), có thể sử dụng câu lệnh **or**. Khoảng thời gian trước năm 1980 (~ - 1979) hoặc sau năm 1989 (1990 - ~) thỏa mãn điều kiện này. Điều này được thể hiện trong hình sau, màu xanh ở <strong> a </strong> và <strong> b </strong> thể hiện các khoảng thời gian mà câu lệnh là đúng. Màu xanh ở **c** thể hiện nơi có ít nhất một trong các điều kiện là đúng."
      ]
    },
    {
      "cell_type": "markdown",
      "metadata": {
        "id": "PG7w1rTWfzqE"
      },
      "source": [
        "<img src=\"https://cf-courses-data.s3.us.cloud-object-storage.appdomain.cloud/IBMDeveloperSkillsNetwork-PY0101EN-SkillsNetwork/labs/Module%203/images/CondsEgTwo.png\" width=\"650\" />\n"
      ]
    },
    {
      "cell_type": "markdown",
      "metadata": {
        "id": "Llz3Ct7zfzqE"
      },
      "source": [
        "Khối code thực hiện kiểm tra này được cung cấp bởi:"
      ]
    },
    {
      "cell_type": "code",
      "metadata": {
        "id": "mueQvPdmfzqE",
        "outputId": "e35dcb4f-77a5-44e8-8a51-780f5efb7095",
        "colab": {
          "base_uri": "https://localhost:8080/"
        }
      },
      "source": [
        "# Ví dụ câu lệnh điều kiện\n",
        "\n",
        "album_year = 1990\n",
        "\n",
        "if(album_year < 1980) or (album_year > 1989):\n",
        "    print (\"Album was not made in the 1980's\")\n",
        "else:\n",
        "    print(\"The Album was made in the 1980's \")"
      ],
      "execution_count": 17,
      "outputs": [
        {
          "output_type": "stream",
          "name": "stdout",
          "text": [
            "Album was not made in the 1980's\n"
          ]
        }
      ]
    },
    {
      "cell_type": "markdown",
      "metadata": {
        "id": "vnJfWvP3fzqF"
      },
      "source": [
        "Câu lệnh <code>not</code> kiểm tra liệu câu lệnh có sai:\n"
      ]
    },
    {
      "cell_type": "code",
      "metadata": {
        "id": "SR-KeuwpfzqF"
      },
      "source": [
        "# Ví dụ câu lệnh điều kiện\n",
        "\n",
        "album_year = 1983\n",
        "\n",
        "if not (album_year == '1984'):\n",
        "    print (\"Album year is not 1984\")"
      ],
      "execution_count": null,
      "outputs": []
    },
    {
      "cell_type": "markdown",
      "metadata": {
        "id": "kjOtN0uPfzqF"
      },
      "source": [
        "<hr>\n"
      ]
    },
    {
      "cell_type": "markdown",
      "metadata": {
        "id": "fi9KKOahfzqF"
      },
      "source": [
        "##<h2 id=\"quiz\">Quiz về câu lệnh điều kiện</h2>\n"
      ]
    },
    {
      "cell_type": "markdown",
      "metadata": {
        "id": "WmgmulaEfzqF"
      },
      "source": [
        "Viết câu lệnh if để xác định một album có xếp hạng lớn hơn 8. Kiểm tra bằng cách sử dụng xếp hạng cho album <b> “Back in Black” </b> có xếp hạng 8,5. Nếu câu lệnh là đúng, hãy in ra \"This album is Amazing!\""
      ]
    },
    {
      "cell_type": "code",
      "metadata": {
        "id": "6tcodFUJfzqG",
        "outputId": "fe14084e-037d-495a-c817-80700f3d71a5",
        "colab": {
          "base_uri": "https://localhost:8080/"
        }
      },
      "source": [
        "# Viết code của bạn xuống đây và nhấn Shift+Enter để thực hiện\n",
        "rate = 9\n",
        "if rate > 8:\n",
        "    print (\"This album is Amazing!\")"
      ],
      "execution_count": 19,
      "outputs": [
        {
          "output_type": "stream",
          "name": "stdout",
          "text": [
            "This album is Amazing!\n"
          ]
        }
      ]
    },
    {
      "cell_type": "markdown",
      "metadata": {
        "id": "b_XOeqJffzqG"
      },
      "source": [
        "<details><summary>Click vào đây để xem lời giải</summary>\n",
        "\n",
        "```python\n",
        "rating = 8.5\n",
        "if rating > 8:\n",
        "    print (\"This album is Amazing!\")\n",
        "```\n",
        "\n",
        "</details>\n"
      ]
    },
    {
      "cell_type": "markdown",
      "metadata": {
        "id": "hgNuTiMCfzqG"
      },
      "source": [
        "<hr>\n"
      ]
    },
    {
      "cell_type": "markdown",
      "metadata": {
        "id": "t2-kHf9ffzqG"
      },
      "source": [
        "Viết một câu lệnh if-else thực hiện các thao tác sau. Nếu xếp hạng lớn hơn 8 thì in “this album is amazing”. Nếu xếp hạng nhỏ hơn hoặc bằng 8 thì in ra “this album is ok”."
      ]
    },
    {
      "cell_type": "code",
      "metadata": {
        "id": "eZR_vUVmfzqH",
        "outputId": "0d7603b0-203a-4b8a-a34f-e70ce4662e1c",
        "colab": {
          "base_uri": "https://localhost:8080/"
        }
      },
      "source": [
        "# Viết code của bạn xuống đây và nhấn Shift+Enter để thực hiện\n",
        "rating = 9\n",
        "if rating > 8:\n",
        "  print ('This album is Amazing!')\n",
        "else:\n",
        "  print('this album is ok')"
      ],
      "execution_count": 23,
      "outputs": [
        {
          "output_type": "stream",
          "name": "stdout",
          "text": [
            "This album is Amazing!\n"
          ]
        }
      ]
    },
    {
      "cell_type": "markdown",
      "metadata": {
        "id": "qZTK1yibfzqH"
      },
      "source": [
        "<details><summary>Click vào đây để xem lời giải</summary>\n",
        "\n",
        "```python\n",
        "rating = 8.5\n",
        "if rating > 8:\n",
        "    print (\"this album is amazing\")\n",
        "else:\n",
        "    print (\"this album is ok\")\n",
        "    \n",
        "```\n",
        "\n",
        "</details>\n"
      ]
    },
    {
      "cell_type": "markdown",
      "metadata": {
        "id": "EK6c5jhffzqH"
      },
      "source": [
        "<hr>\n"
      ]
    },
    {
      "cell_type": "markdown",
      "metadata": {
        "id": "6hx740bgfzqH"
      },
      "source": [
        "Viết câu lệnh if để xác định xem album ra mắt trước năm 1980 hay vào những năm: 1991 hay 1993. Nếu điều kiện là đúng, hãy in ra năm album ra mắt."
      ]
    },
    {
      "cell_type": "code",
      "metadata": {
        "id": "Qz8nH7qJfzqH",
        "outputId": "43f401ba-a362-4097-c3ed-1bd361313c99",
        "colab": {
          "base_uri": "https://localhost:8080/"
        }
      },
      "source": [
        "# Viết code của bạn xuống đây và nhấn Shift+Enter để thực hiện\n",
        "album_year = 1993\n",
        "\n",
        "if album_year < 1980 or album_year == 1991 or album_year == 1993:\n",
        "    print (\"năm album ra mắt %d\" %album_year)\n",
        "\n",
        "album_year = 1970\n",
        "\n",
        "if album_year < 1980 or album_year == 1991 or album_year == 1993:\n",
        "    print (\"năm album ra mắt %d\" %album_year)"
      ],
      "execution_count": 27,
      "outputs": [
        {
          "output_type": "stream",
          "name": "stdout",
          "text": [
            "năm album ra mắt 1993\n",
            "năm album ra mắt 1970\n"
          ]
        }
      ]
    },
    {
      "cell_type": "markdown",
      "metadata": {
        "id": "UCcHnWwGfzqI"
      },
      "source": [
        "<details><summary>Click vào đây để xem lời giải</summary>\n",
        "\n",
        "```python\n",
        "album_year = 1979\n",
        "\n",
        "if album_year < 1980 or album_year == 1991 or album_year == 1993:\n",
        "    print (\"This album came out in year %d\" %album_year)\n",
        "    \n",
        "```\n",
        "\n",
        "</details>\n"
      ]
    }
  ]
}