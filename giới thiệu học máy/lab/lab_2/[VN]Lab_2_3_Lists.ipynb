{
  "nbformat": 4,
  "nbformat_minor": 0,
  "metadata": {
    "kernelspec": {
      "display_name": "Python 3",
      "language": "python",
      "name": "python3"
    },
    "language_info": {
      "codemirror_mode": {
        "name": "ipython",
        "version": 3
      },
      "file_extension": ".py",
      "mimetype": "text/x-python",
      "name": "python",
      "nbconvert_exporter": "python",
      "pygments_lexer": "ipython3",
      "version": "3.7.6"
    },
    "colab": {
      "provenance": []
    }
  },
  "cells": [
    {
      "cell_type": "markdown",
      "metadata": {
        "id": "62sIDkT9Fte1"
      },
      "source": [
        "# List trong  Python\n",
        "\n",
        "Thời lượng ước tính: **15** phút\n",
        "\n",
        "## Mục tiêu\n",
        "\n",
        "Sau khi hoàn thành lab này, bạn sẽ có thể:\n",
        "\n",
        "-   Thực hiện các thao tác với List (danh sách) trong Python, bao gồm chỉ mục, thao tác list và sao chép/tạo bản sao list.\n"
      ]
    },
    {
      "cell_type": "markdown",
      "metadata": {
        "id": "esfuVSIUFtfE"
      },
      "source": [
        "<h2>Mục lục</h2>\n",
        "<div class=\"alert alert-block alert-info\" style=\"margin-top: 20px\">\n",
        "    <ul>\n",
        "        <li>\n",
        "            <a href=\"#dataset\">Về tập dữ liệu</a>\n",
        "        </li>\n",
        "        <li>\n",
        "            <a href=\"#list\">List</a>\n",
        "            <ul>\n",
        "                <li><a href=\"index\">Chỉ mục</a></li>\n",
        "                <li><a href=\"content\">Nội dung list</a></li>\n",
        "                <li><a href=\"op\">Thao tác list</a></li>\n",
        "                <li><a href=\"co\">Sao chép và tạo bản sao list</a></li>\n",
        "            </ul>\n",
        "        </li>\n",
        "        <li>\n",
        "            <a href=\"#quiz\">Quiz về List</a>\n",
        "        </li>\n",
        "    </ul>\n",
        "   \n",
        "</div>\n",
        "\n",
        "<hr>\n"
      ]
    },
    {
      "cell_type": "markdown",
      "metadata": {
        "id": "sR39-gP-FtfG"
      },
      "source": [
        "###<h2 id=\"#dataset\">Về tập dữ liệu</h2>\n"
      ]
    },
    {
      "cell_type": "markdown",
      "metadata": {
        "id": "cQ8It7wvFtfG"
      },
      "source": [
        "Hãy tưởng tượng bạn nhận được các đề xuất về album từ bạn bè và tổng hợp tất cả các gợi ý vào một bảng, với thông tin cụ thể về từng album.\n",
        "\n",
        "Trong bảng, thông tin mỗi bộ phim nằm trong một hàng và các cột:\n",
        "\n",
        "-   **artist** - Tên nghệ sĩ\n",
        "-   **album** - Tên album\n",
        "-   **released_year** - Năm phát hành album\n",
        "-   **length_min_sec** - Độ dài album (giờ, phút, giây)\n",
        "-   **genre** - Thể loại album\n",
        "-   **music_recording_sales_millions** - Doanh thu đĩa nhạc (triệu USD) trên [SONG://DATABASE](http://www.song-database.com?cm_mmc=Email_Newsletter-_-Developer_Ed%2BTech-_-WW_WW-_-SkillsNetwork-Courses-IBMDeveloperSkillsNetwork-PY0101EN-SkillsNetwork-19487395&cm_mmca1=000026UJ&cm_mmca2=10006555&cm_mmca3=M12345678&cvosrc=email.Newsletter.M12345678&cvo_campaign=000026UJ&cm_mmc=Email_Newsletter-_-Developer_Ed%2BTech-_-WW_WW-_-SkillsNetwork-Courses-IBMDeveloperSkillsNetwork-PY0101EN-SkillsNetwork-19487395&cm_mmca1=000026UJ&cm_mmca2=10006555&cm_mmca3=M12345678&cvosrc=email.Newsletter.M12345678&cvo_campaign=000026UJ&cm_mmc=Email_Newsletter-_-Developer_Ed%2BTech-_-WW_WW-_-SkillsNetwork-Courses-IBMDeveloperSkillsNetwork-PY0101EN-SkillsNetwork-19487395&cm_mmca1=000026UJ&cm_mmca2=10006555&cm_mmca3=M12345678&cvosrc=email.Newsletter.M12345678&cvo_campaign=000026UJ)\n",
        "-   **claimed_sales_millions** - Doanh số đã tuyên bố của album (triệu USD) trên [SONG://DATABASE](http://www.song-database.com?cm_mmc=Email_Newsletter-_-Developer_Ed%2BTech-_-WW_WW-_-SkillsNetwork-Courses-IBMDeveloperSkillsNetwork-PY0101EN-SkillsNetwork-19487395&cm_mmca1=000026UJ&cm_mmca2=10006555&cm_mmca3=M12345678&cvosrc=email.Newsletter.M12345678&cvo_campaign=000026UJ)\n",
        "-   **date_released** - Ngày phát hành album\n",
        "-   **soundtrack** - Cho biết album có phải là movie soundtrack (Y - Có) hay không (N - không)\n",
        "-   **rating_of_friends** - Cho biết xếp hạng từ bạn bè từ 1 tới 10\n",
        "    <br>\n",
        "    <br>\n",
        "\n",
        "Có thể xem tập dữ liệu bên dưới:\n",
        "\n",
        "<font size=\"1\">\n",
        "<table font-size:xx-small>\n",
        "  <tr>\n",
        "    <th>Artist</th>\n",
        "    <th>Album</th> \n",
        "    <th>Released</th>\n",
        "    <th>Length</th>\n",
        "    <th>Genre</th> \n",
        "    <th>Music recording sales (millions)</th>\n",
        "    <th>Claimed sales (millions)</th>\n",
        "    <th>Released</th>\n",
        "    <th>Soundtrack</th>\n",
        "    <th>Rating (friends)</th>\n",
        "  </tr>\n",
        "  <tr>\n",
        "    <td>Michael Jackson</td>\n",
        "    <td>Thriller</td> \n",
        "    <td>1982</td>\n",
        "    <td>00:42:19</td>\n",
        "    <td>Pop, rock, R&B</td>\n",
        "    <td>46</td>\n",
        "    <td>65</td>\n",
        "    <td>30-Nov-82</td>\n",
        "    <td></td>\n",
        "    <td>10.0</td>\n",
        "  </tr>\n",
        "  <tr>\n",
        "    <td>AC/DC</td>\n",
        "    <td>Back in Black</td> \n",
        "    <td>1980</td>\n",
        "    <td>00:42:11</td>\n",
        "    <td>Hard rock</td>\n",
        "    <td>26.1</td>\n",
        "    <td>50</td>\n",
        "    <td>25-Jul-80</td>\n",
        "    <td></td>\n",
        "    <td>8.5</td>\n",
        "  </tr>\n",
        "    <tr>\n",
        "    <td>Pink Floyd</td>\n",
        "    <td>The Dark Side of the Moon</td> \n",
        "    <td>1973</td>\n",
        "    <td>00:42:49</td>\n",
        "    <td>Progressive rock</td>\n",
        "    <td>24.2</td>\n",
        "    <td>45</td>\n",
        "    <td>01-Mar-73</td>\n",
        "    <td></td>\n",
        "    <td>9.5</td>\n",
        "  </tr>\n",
        "    <tr>\n",
        "    <td>Whitney Houston</td>\n",
        "    <td>The Bodyguard</td> \n",
        "    <td>1992</td>\n",
        "    <td>00:57:44</td>\n",
        "    <td>Soundtrack/R&B, soul, pop</td>\n",
        "    <td>26.1</td>\n",
        "    <td>50</td>\n",
        "    <td>25-Jul-80</td>\n",
        "    <td>Y</td>\n",
        "    <td>7.0</td>\n",
        "  </tr>\n",
        "    <tr>\n",
        "    <td>Meat Loaf</td>\n",
        "    <td>Bat Out of Hell</td> \n",
        "    <td>1977</td>\n",
        "    <td>00:46:33</td>\n",
        "    <td>Hard rock, progressive rock</td>\n",
        "    <td>20.6</td>\n",
        "    <td>43</td>\n",
        "    <td>21-Oct-77</td>\n",
        "    <td></td>\n",
        "    <td>7.0</td>\n",
        "  </tr>\n",
        "    <tr>\n",
        "    <td>Eagles</td>\n",
        "    <td>Their Greatest Hits (1971-1975)</td> \n",
        "    <td>1976</td>\n",
        "    <td>00:43:08</td>\n",
        "    <td>Rock, soft rock, folk rock</td>\n",
        "    <td>32.2</td>\n",
        "    <td>42</td>\n",
        "    <td>17-Feb-76</td>\n",
        "    <td></td>\n",
        "    <td>9.5</td>\n",
        "  </tr>\n",
        "    <tr>\n",
        "    <td>Bee Gees</td>\n",
        "    <td>Saturday Night Fever</td> \n",
        "    <td>1977</td>\n",
        "    <td>1:15:54</td>\n",
        "    <td>Disco</td>\n",
        "    <td>20.6</td>\n",
        "    <td>40</td>\n",
        "    <td>15-Nov-77</td>\n",
        "    <td>Y</td>\n",
        "    <td>9.0</td>\n",
        "  </tr>\n",
        "    <tr>\n",
        "    <td>Fleetwood Mac</td>\n",
        "    <td>Rumours</td> \n",
        "    <td>1977</td>\n",
        "    <td>00:40:01</td>\n",
        "    <td>Soft rock</td>\n",
        "    <td>27.9</td>\n",
        "    <td>40</td>\n",
        "    <td>04-Feb-77</td>\n",
        "    <td></td>\n",
        "    <td>9.5</td>\n",
        "  </tr>\n",
        "</table></font>\n"
      ]
    },
    {
      "cell_type": "markdown",
      "metadata": {
        "id": "NTaP0SszFtfI"
      },
      "source": [
        "<hr>\n"
      ]
    },
    {
      "cell_type": "markdown",
      "metadata": {
        "id": "ruVc9Q8VX6hi"
      },
      "source": [
        "##<h2 id=\"list\">List</h2>\n"
      ]
    },
    {
      "cell_type": "markdown",
      "metadata": {
        "id": "YeBbptVbX6hi"
      },
      "source": [
        "###<h3 id=\"index\">Chỉ mục</h3>\n"
      ]
    },
    {
      "cell_type": "markdown",
      "metadata": {
        "id": "PP-hc3gZFtfK"
      },
      "source": [
        "Chúng ta sẽ xem xét list trong Python. List là tập hợp các đối tượng khác nhau được sắp xếp theo thứ tự cho trước. List có thể nhiều kiểu dữ liệu khác nhau và danh sách khác. Địa chỉ của mỗi phần tử trong danh sách được gọi là <b> chỉ mục</b>. Một chỉ mục được sử dụng để truy cập và tham chiếu đến các mục trong list.\n"
      ]
    },
    {
      "cell_type": "markdown",
      "metadata": {
        "id": "ozXpvAj3FtfL"
      },
      "source": [
        "<img src=\"https://cf-courses-data.s3.us.cloud-object-storage.appdomain.cloud/IBMDeveloperSkillsNetwork-PY0101EN-SkillsNetwork/labs/Module%202/images/ListsIndex.png\" width=\"1000\" />\n"
      ]
    },
    {
      "cell_type": "markdown",
      "metadata": {
        "id": "GJ4QbbckFtfM"
      },
      "source": [
        "Hãy thử nào! Để tạo list, hãy nhập list trong dấu ngoặc vuông <b> [ ]</b>, với nội dung đặt trong dấu ngoặc đơn và được phân tách bằng dấu phẩy. Hãy thử!\n"
      ]
    },
    {
      "cell_type": "code",
      "metadata": {
        "id": "hl6NRvRIFtfN",
        "outputId": "3182f328-139d-4fab-f524-6580bdab88b1",
        "colab": {
          "base_uri": "https://localhost:8080/"
        }
      },
      "source": [
        "# Tạo một list\n",
        "\n",
        "L = [\"Michael Jackson\", 10.1, 1982]\n",
        "L"
      ],
      "execution_count": 2,
      "outputs": [
        {
          "output_type": "execute_result",
          "data": {
            "text/plain": [
              "['Michael Jackson', 10.1, 1982]"
            ]
          },
          "metadata": {},
          "execution_count": 2
        }
      ]
    },
    {
      "cell_type": "markdown",
      "metadata": {
        "id": "obfjOzNGFtfN"
      },
      "source": [
        "Chúng ta có thể sử dụng chỉ mục âm và thường với list:\n"
      ]
    },
    {
      "cell_type": "markdown",
      "metadata": {
        "id": "X8WiL4mYFtfO"
      },
      "source": [
        "<img src=\"https://cf-courses-data.s3.us.cloud-object-storage.appdomain.cloud/IBMDeveloperSkillsNetwork-PY0101EN-SkillsNetwork/labs/Module%202/images/ListsNeg.png\" width=\"1000\" />\n"
      ]
    },
    {
      "cell_type": "code",
      "metadata": {
        "id": "2T9shX9DFtfO",
        "outputId": "490117c8-f4b2-40dc-e12e-70c2c73297cd",
        "colab": {
          "base_uri": "https://localhost:8080/"
        }
      },
      "source": [
        "# In ra các phần tử trên mỗi chỉ mục\n",
        "\n",
        "print('the same element using negative and positive indexing:\\n Postive:',L[0],\n",
        "'\\n Negative:' , L[-3]  )\n",
        "print('the same element using negative and positive indexing:\\n Postive:',L[1],\n",
        "'\\n Negative:' , L[-2]  )\n",
        "print('the same element using negative and positive indexing:\\n Postive:',L[2],\n",
        "'\\n Negative:' , L[-1]  )"
      ],
      "execution_count": 3,
      "outputs": [
        {
          "output_type": "stream",
          "name": "stdout",
          "text": [
            "the same element using negative and positive indexing:\n",
            " Postive: Michael Jackson \n",
            " Negative: Michael Jackson\n",
            "the same element using negative and positive indexing:\n",
            " Postive: 10.1 \n",
            " Negative: 10.1\n",
            "the same element using negative and positive indexing:\n",
            " Postive: 1982 \n",
            " Negative: 1982\n"
          ]
        }
      ]
    },
    {
      "cell_type": "markdown",
      "metadata": {
        "id": "W57UjBbkX6hk"
      },
      "source": [
        "###<h3 id=\"content\">Nội dung List</h3>\n"
      ]
    },
    {
      "cell_type": "markdown",
      "metadata": {
        "id": "x8ZKAwuTFtfP"
      },
      "source": [
        "List có thể chứa string, float và số nguyên. Chúng ta có thể lồng các list khác, cũng có thể lồng các tuple và các cấu trúc dữ liệu khác. Các quy ước chỉ mục tương tự áp dụng cho lồng ghép:\n"
      ]
    },
    {
      "cell_type": "code",
      "metadata": {
        "id": "liptAC0_FtfP",
        "outputId": "7255ad6f-2fe5-409d-c94a-89a5a8af4f85",
        "colab": {
          "base_uri": "https://localhost:8080/"
        }
      },
      "source": [
        "# List mẫu\n",
        "\n",
        "[\"Michael Jackson\", 10.1, 1982, [1, 2], (\"A\", 1)]"
      ],
      "execution_count": 4,
      "outputs": [
        {
          "output_type": "execute_result",
          "data": {
            "text/plain": [
              "['Michael Jackson', 10.1, 1982, [1, 2], ('A', 1)]"
            ]
          },
          "metadata": {},
          "execution_count": 4
        }
      ]
    },
    {
      "cell_type": "markdown",
      "metadata": {
        "id": "HOtbkg0KX6hl"
      },
      "source": [
        "###<h3 id=\"op\">Thao tác với List</h3>\n"
      ]
    },
    {
      "cell_type": "markdown",
      "metadata": {
        "id": "HleObNgRFtfQ"
      },
      "source": [
        "Chúng ta cũng có thể thực hiện slicing trong list. Ví dụ, nếu muốn 2 phần tử cuối cùng, có thể sử dụng lệnh sau:\n"
      ]
    },
    {
      "cell_type": "code",
      "metadata": {
        "id": "LUJUYTYpFtfQ",
        "outputId": "45026071-115e-43c4-b65b-3eb897d00819",
        "colab": {
          "base_uri": "https://localhost:8080/"
        }
      },
      "source": [
        "# List mẫu\n",
        "\n",
        "L = [\"Michael Jackson\", 10.1,1982,\"MJ\",1]\n",
        "L"
      ],
      "execution_count": 5,
      "outputs": [
        {
          "output_type": "execute_result",
          "data": {
            "text/plain": [
              "['Michael Jackson', 10.1, 1982, 'MJ', 1]"
            ]
          },
          "metadata": {},
          "execution_count": 5
        }
      ]
    },
    {
      "cell_type": "markdown",
      "metadata": {
        "id": "ohsNQn2-FtfQ"
      },
      "source": [
        "<img src=\"https://cf-courses-data.s3.us.cloud-object-storage.appdomain.cloud/IBMDeveloperSkillsNetwork-PY0101EN-SkillsNetwork/labs/Module%202/images/ListsSlice.png\" width=\"1000\">\n"
      ]
    },
    {
      "cell_type": "code",
      "metadata": {
        "id": "-1CLb47hFtfR",
        "outputId": "b441e220-b25b-41fb-b0d2-3e0b4217c6fd",
        "colab": {
          "base_uri": "https://localhost:8080/"
        }
      },
      "source": [
        "# List slicing\n",
        "\n",
        "L[3:5]"
      ],
      "execution_count": 6,
      "outputs": [
        {
          "output_type": "execute_result",
          "data": {
            "text/plain": [
              "['MJ', 1]"
            ]
          },
          "metadata": {},
          "execution_count": 6
        }
      ]
    },
    {
      "cell_type": "markdown",
      "metadata": {
        "id": "voysQcSAFtfR"
      },
      "source": [
        "Chúng ta có thể sử dụng phương thức <code> extension</code> để thêm các phần tử mới vào list:\n"
      ]
    },
    {
      "cell_type": "code",
      "metadata": {
        "id": "v2pYvz9OFtfS",
        "outputId": "b139458e-0e8b-4756-afdf-5089ddcd04ed",
        "colab": {
          "base_uri": "https://localhost:8080/"
        }
      },
      "source": [
        "# Sử dụng extend để thêm phần tử vào list\n",
        "\n",
        "L = [ \"Michael Jackson\", 10.2]\n",
        "L.extend(['pop', 10])\n",
        "L"
      ],
      "execution_count": 7,
      "outputs": [
        {
          "output_type": "execute_result",
          "data": {
            "text/plain": [
              "['Michael Jackson', 10.2, 'pop', 10]"
            ]
          },
          "metadata": {},
          "execution_count": 7
        }
      ]
    },
    {
      "cell_type": "markdown",
      "metadata": {
        "id": "faMUD5_qFtfS"
      },
      "source": [
        "Một phương thức tương tự khác là <code> append</code>. Nếu áp dụng <code> append</code> thay vì <code> extension</code>, chúng ta sẽ thêm một phần tử vào list:\n"
      ]
    },
    {
      "cell_type": "code",
      "metadata": {
        "id": "F1EEyhLZFtfS",
        "outputId": "9a807f91-0e2b-48ec-bd00-29e90a8f7c39",
        "colab": {
          "base_uri": "https://localhost:8080/"
        }
      },
      "source": [
        "# Sử dụng append để thêm phần tử vào list\n",
        "\n",
        "L = [ \"Michael Jackson\", 10.2]\n",
        "L.append(['pop', 10])\n",
        "L"
      ],
      "execution_count": 8,
      "outputs": [
        {
          "output_type": "execute_result",
          "data": {
            "text/plain": [
              "['Michael Jackson', 10.2, ['pop', 10]]"
            ]
          },
          "metadata": {},
          "execution_count": 8
        }
      ]
    },
    {
      "cell_type": "markdown",
      "metadata": {
        "id": "eeH-kqnBFtfT"
      },
      "source": [
        "Mỗi khi áp dụng một phương thức, list sẽ thay đổi. Nếu áp dụng <code> extension</code>, chúng ta sẽ thêm hai phần tử mới vào list. List <code> L</code> sau đó được sửa đổi bằng cách thêm hai phần tử mới:\n"
      ]
    },
    {
      "cell_type": "code",
      "metadata": {
        "id": "qRexNR7lFtfT",
        "outputId": "33d10db4-d20c-4374-b35d-a4b996b80ae9",
        "colab": {
          "base_uri": "https://localhost:8080/"
        }
      },
      "source": [
        "# Sử dụng extend để thêm phần tử vào list\n",
        "\n",
        "L = [ \"Michael Jackson\", 10.2]\n",
        "L.extend(['pop', 10])\n",
        "L"
      ],
      "execution_count": 9,
      "outputs": [
        {
          "output_type": "execute_result",
          "data": {
            "text/plain": [
              "['Michael Jackson', 10.2, 'pop', 10]"
            ]
          },
          "metadata": {},
          "execution_count": 9
        }
      ]
    },
    {
      "cell_type": "markdown",
      "metadata": {
        "id": "9mc6IIJLFtfT"
      },
      "source": [
        "Nếu nối list <code> ['a','b']</code>, chúng ta có một phần tử mới gồm một list lồng nhau:\n"
      ]
    },
    {
      "cell_type": "code",
      "metadata": {
        "id": "jqa9ok6jFtfU",
        "outputId": "24e4aecc-af26-4ecf-f7c2-ec76ae9f95c8",
        "colab": {
          "base_uri": "https://localhost:8080/"
        }
      },
      "source": [
        "# Sử dụng append để thêm phần tử vào list\n",
        "\n",
        "L.append(['a','b'])\n",
        "L"
      ],
      "execution_count": 10,
      "outputs": [
        {
          "output_type": "execute_result",
          "data": {
            "text/plain": [
              "['Michael Jackson', 10.2, 'pop', 10, ['a', 'b']]"
            ]
          },
          "metadata": {},
          "execution_count": 10
        }
      ]
    },
    {
      "cell_type": "markdown",
      "metadata": {
        "id": "HcyQDXWSFtfU"
      },
      "source": [
        "Vì list có thể thay đổi nên chúng ta có thể thay đổi chúng. Ví dụ, chúng ta có thể thay đổi phần tử đầu tiên như sau:\n"
      ]
    },
    {
      "cell_type": "code",
      "metadata": {
        "id": "H_khomBAFtfU",
        "outputId": "b788f378-7068-4523-a37f-1ced9271fd5f",
        "colab": {
          "base_uri": "https://localhost:8080/"
        }
      },
      "source": [
        "# Thay đổi phần tử dựa trên chỉ mục\n",
        "\n",
        "A = [\"disco\", 10, 1.2]\n",
        "print('Before change:', A)\n",
        "A[0] = 'hard rock'\n",
        "print('After change:', A)"
      ],
      "execution_count": 11,
      "outputs": [
        {
          "output_type": "stream",
          "name": "stdout",
          "text": [
            "Before change: ['disco', 10, 1.2]\n",
            "After change: ['hard rock', 10, 1.2]\n"
          ]
        }
      ]
    },
    {
      "cell_type": "markdown",
      "metadata": {
        "id": "-DCK--xiFtfU"
      },
      "source": [
        "Chúng ta cũng có thể xóa một phần tử của list bằng lệnh <code> del</code>:\n",
        "\n",
        "\n"
      ]
    },
    {
      "cell_type": "code",
      "metadata": {
        "id": "xA0rfldrFtfV",
        "outputId": "b00d751c-4b7b-46d1-b1bb-c3e631798492",
        "colab": {
          "base_uri": "https://localhost:8080/"
        }
      },
      "source": [
        "# Xóa phần tử dựa trên chỉ mục\n",
        "\n",
        "print('Before change:', A)\n",
        "del(A[0])\n",
        "print('After change:', A)"
      ],
      "execution_count": 12,
      "outputs": [
        {
          "output_type": "stream",
          "name": "stdout",
          "text": [
            "Before change: ['hard rock', 10, 1.2]\n",
            "After change: [10, 1.2]\n"
          ]
        }
      ]
    },
    {
      "cell_type": "markdown",
      "metadata": {
        "id": "TJ08hEJ_FtfV"
      },
      "source": [
        "Chúng ta có thể chuyển đổi một string thành list bằng cách sử dụng <code> split</code>. Ví dụ: phương thức <code> split </code> dịch mọi nhóm ký tự được phân tách bằng dấu cách thành một phần tử trong list:\n"
      ]
    },
    {
      "cell_type": "code",
      "metadata": {
        "id": "D7H9-_NtFtfV",
        "outputId": "53b908d3-1e07-4e86-babb-b99198021321",
        "colab": {
          "base_uri": "https://localhost:8080/"
        }
      },
      "source": [
        "# Tách string, mặc định bằng dấu cách\n",
        "\n",
        "'hard rock'.split()"
      ],
      "execution_count": 13,
      "outputs": [
        {
          "output_type": "execute_result",
          "data": {
            "text/plain": [
              "['hard', 'rock']"
            ]
          },
          "metadata": {},
          "execution_count": 13
        }
      ]
    },
    {
      "cell_type": "markdown",
      "metadata": {
        "id": "624dYOEBFtfV"
      },
      "source": [
        "Chúng ta có thể sử dụng hàm split để tách các chuỗi trên một ký tự cụ thể. Chuyển ký tự mà chúng ta muốn tách vào đối số, trong trường hợp này là dấu phẩy. Kết quả được một list và mỗi phần tử tương ứng với một tập hợp các ký tự được phân tách bằng dấu phẩy:\n"
      ]
    },
    {
      "cell_type": "code",
      "metadata": {
        "id": "aZYd0BrmFtfW",
        "outputId": "c686cb2f-958b-4842-a2e4-419e5b621415",
        "colab": {
          "base_uri": "https://localhost:8080/"
        }
      },
      "source": [
        "# Tách string bằng dấu phẩy\n",
        "\n",
        "'A,B,C,D'.split(',')"
      ],
      "execution_count": 14,
      "outputs": [
        {
          "output_type": "execute_result",
          "data": {
            "text/plain": [
              "['A', 'B', 'C', 'D']"
            ]
          },
          "metadata": {},
          "execution_count": 14
        }
      ]
    },
    {
      "cell_type": "markdown",
      "metadata": {
        "id": "_em-1-KfX6ho"
      },
      "source": [
        "###<h3 id=\"co\">Sao chép và tạo bản sao List</h3>\n"
      ]
    },
    {
      "cell_type": "markdown",
      "metadata": {
        "id": "7ziFwWvIFtfW"
      },
      "source": [
        "Khi chúng ta đặt một biến <b> B</b> bằng <b> A</b>; cả <b> A </b> và <b> B </b> đều tham chiếu đến cùng một danh sách trong bộ nhớ:\n"
      ]
    },
    {
      "cell_type": "code",
      "metadata": {
        "id": "vBakmDDJFtfW",
        "outputId": "99c555e3-edfc-4dba-bee0-86716d27112a",
        "colab": {
          "base_uri": "https://localhost:8080/"
        }
      },
      "source": [
        "# Sao chép (sao chép tham chiểu) list A\n",
        "\n",
        "A = [\"hard rock\", 10, 1.2]\n",
        "B = A\n",
        "print('A:', A)\n",
        "print('B:', B)"
      ],
      "execution_count": 15,
      "outputs": [
        {
          "output_type": "stream",
          "name": "stdout",
          "text": [
            "A: ['hard rock', 10, 1.2]\n",
            "B: ['hard rock', 10, 1.2]\n"
          ]
        }
      ]
    },
    {
      "cell_type": "markdown",
      "metadata": {
        "id": "74N3Qv3jFtfX"
      },
      "source": [
        "<img src=\"https://cf-courses-data.s3.us.cloud-object-storage.appdomain.cloud/IBMDeveloperSkillsNetwork-PY0101EN-SkillsNetwork/labs/Module%202/images/ListsRef.png\" width=\"1000\" align=\"center\">\n"
      ]
    },
    {
      "cell_type": "markdown",
      "metadata": {
        "id": "o24PfQ_6FtfX"
      },
      "source": [
        "Ban đầu, giá trị của phần tử đầu tiên trong <b> B </b> được đặt là hard rock. Nếu thay đổi phần tử đầu tiên trong <b> A </b> thành <b> banana </b>, chúng ta sẽ nhận được một tác dụng phụ không mong muốn. Vì <b> A </b> và <b> B </b> đang tham chiếu đến cùng một list, nếu chúng ta thay đổi list <b> A </b>, thì list <b> B </b> cũng thay đổi. Nếu kiểm tra phần tử đầu tiên của <b> B </b>, chúng ta được banana thay vì hard rock:\n"
      ]
    },
    {
      "cell_type": "code",
      "metadata": {
        "id": "4GWv3-xnFtfX",
        "outputId": "81d4f46e-2edb-45d6-e00b-8e135273f075",
        "colab": {
          "base_uri": "https://localhost:8080/"
        }
      },
      "source": [
        "# Kiểm tra sao chép tham chiếu\n",
        "\n",
        "print('B[0]:', B[0])\n",
        "A[0] = \"banana\"\n",
        "print('B[0]:', B[0])"
      ],
      "execution_count": 16,
      "outputs": [
        {
          "output_type": "stream",
          "name": "stdout",
          "text": [
            "B[0]: hard rock\n",
            "B[0]: banana\n"
          ]
        }
      ]
    },
    {
      "cell_type": "markdown",
      "metadata": {
        "id": "GLG-I08-FtfY"
      },
      "source": [
        "Điều này được thể hiện trong hình sau:\n"
      ]
    },
    {
      "cell_type": "markdown",
      "metadata": {
        "id": "myOMBNZlFtfY"
      },
      "source": [
        "<img src = \"https://cf-courses-data.s3.us.cloud-object-storage.appdomain.cloud/IBMDeveloperSkillsNetwork-PY0101EN-SkillsNetwork/labs/Module%202/images/ListsRefGif.gif\" width=\"1000\" />\n"
      ]
    },
    {
      "cell_type": "markdown",
      "metadata": {
        "id": "yn00_S7XFtfY"
      },
      "source": [
        "Bạn có thể tạo bản sao của list **A** bằng cách sử dụng cú pháp sau:\n"
      ]
    },
    {
      "cell_type": "code",
      "metadata": {
        "id": "8oxUG2fjFtfZ",
        "outputId": "45146cbc-8401-44f5-da7a-2bc8c5f7ef5c",
        "colab": {
          "base_uri": "https://localhost:8080/"
        }
      },
      "source": [
        "# Tạo bản sao (bản sao theo giá trị) list A\n",
        "\n",
        "B = A[:]\n",
        "B"
      ],
      "execution_count": 17,
      "outputs": [
        {
          "output_type": "execute_result",
          "data": {
            "text/plain": [
              "['banana', 10, 1.2]"
            ]
          },
          "metadata": {},
          "execution_count": 17
        }
      ]
    },
    {
      "cell_type": "markdown",
      "metadata": {
        "id": "AWtA1NOvFtfZ"
      },
      "source": [
        "Biến **B** tham chiếu đến một bản sao mới hoặc bản sao của danh sách gốc; điều này được thể hiện trong hình sau:\n"
      ]
    },
    {
      "cell_type": "markdown",
      "metadata": {
        "id": "JNP6fk-yFtfb"
      },
      "source": [
        "<img src=\"https://cf-courses-data.s3.us.cloud-object-storage.appdomain.cloud/IBMDeveloperSkillsNetwork-PY0101EN-SkillsNetwork/labs/Module%202/images/ListsVal.gif\" width=\"1000\" />\n"
      ]
    },
    {
      "cell_type": "markdown",
      "metadata": {
        "id": "QMsd2VXxFtfb"
      },
      "source": [
        "Bây giờ nếu bạn thay đổi <b> A </b>, <b> B </b> sẽ không thay đổi:\n"
      ]
    },
    {
      "cell_type": "code",
      "metadata": {
        "id": "GBahNR6xFtfc",
        "outputId": "ba70b229-a7ac-4e6f-fe06-586153f272b9",
        "colab": {
          "base_uri": "https://localhost:8080/"
        }
      },
      "source": [
        "print('B[0]:', B[0])\n",
        "A[0] = \"hard rock\"\n",
        "print('B[0]:', B[0])"
      ],
      "execution_count": 18,
      "outputs": [
        {
          "output_type": "stream",
          "name": "stdout",
          "text": [
            "B[0]: banana\n",
            "B[0]: banana\n"
          ]
        }
      ]
    },
    {
      "cell_type": "markdown",
      "metadata": {
        "id": "RoZb_hlfX6hq"
      },
      "source": [
        "##<h2 id=\"quiz\">Quiz về List</h2>\n"
      ]
    },
    {
      "cell_type": "markdown",
      "metadata": {
        "id": "QpREUCquFtfc"
      },
      "source": [
        "Tạo danh sách <code> a_list</code>, với các phần tử <code> 1</code>, <code> hello</code>, <code> [1,2,3]</code> và <code>True</code>.\n"
      ]
    },
    {
      "cell_type": "code",
      "metadata": {
        "id": "wzgInKldFtfc",
        "outputId": "e989a62a-48a5-4efa-b585-400987c6126b",
        "colab": {
          "base_uri": "https://localhost:8080/"
        }
      },
      "source": [
        "# Viết code của bạn bên dưới và nhấn Shift+Enter để thực hiện\n",
        "\n",
        "a_list = [1, 'hello', [1,2,3], True]\n",
        "print (a_list)\n"
      ],
      "execution_count": 19,
      "outputs": [
        {
          "output_type": "stream",
          "name": "stdout",
          "text": [
            "[1, 'hello', [1, 2, 3], True]\n"
          ]
        }
      ]
    },
    {
      "cell_type": "markdown",
      "metadata": {
        "id": "U5AaLYLxFtfd"
      },
      "source": [
        "<details><summary>Click vào đây để xem lời giải</summary>\n",
        "\n",
        "```python\n",
        "a_list = [1, 'hello', [1, 2, 3] , True]\n",
        "a_list\n",
        "\n",
        "```\n",
        "\n",
        "</details>\n"
      ]
    },
    {
      "cell_type": "markdown",
      "metadata": {
        "id": "8deIq7xhFtfd"
      },
      "source": [
        "Tìm giá trị được lưu trữ tại chỉ mục 1 của <code> a_list</code>.\n"
      ]
    },
    {
      "cell_type": "code",
      "metadata": {
        "id": "WixkSVTvFtfd",
        "outputId": "b141ed0f-c23e-4345-aa91-3544518abe8a",
        "colab": {
          "base_uri": "https://localhost:8080/"
        }
      },
      "source": [
        "# Viết code của bạn bên dưới và nhấn Shift+Enter để thực hiện\n",
        "print(a_list[1])"
      ],
      "execution_count": 20,
      "outputs": [
        {
          "output_type": "stream",
          "name": "stdout",
          "text": [
            "hello\n"
          ]
        }
      ]
    },
    {
      "cell_type": "markdown",
      "metadata": {
        "id": "BG0jO8qsFtfd"
      },
      "source": [
        "<details><summary>Click vào đây để xem lời giải</summary>\n",
        "\n",
        "```python\n",
        "a_list[1]\n",
        "\n",
        "```\n",
        "\n",
        "</details>\n"
      ]
    },
    {
      "cell_type": "markdown",
      "metadata": {
        "id": "FkjPLMVQFtfe"
      },
      "source": [
        "Truy xuất các phần tử được lưu trữ tại chỉ mục 1, 2 và 3 của <code> a_list</code>.\n"
      ]
    },
    {
      "cell_type": "code",
      "metadata": {
        "id": "aA2ZZye8Ftfe",
        "outputId": "620f543d-20ed-43b3-e15d-41f793bbf1b2",
        "colab": {
          "base_uri": "https://localhost:8080/"
        }
      },
      "source": [
        "# Viết code của bạn bên dưới và nhấn Shift+Enter để thực hiện\n",
        "print(a_list[1:4])\n"
      ],
      "execution_count": 22,
      "outputs": [
        {
          "output_type": "stream",
          "name": "stdout",
          "text": [
            "['hello', [1, 2, 3], True]\n"
          ]
        }
      ]
    },
    {
      "cell_type": "markdown",
      "metadata": {
        "id": "BP0bpXhKFtfe"
      },
      "source": [
        "<details><summary>Click vào đây để xem lời giải</summary>\n",
        "\n",
        "```python\n",
        "a_list[1:4]\n",
        "\n",
        "```\n",
        "\n",
        "</details>\n"
      ]
    },
    {
      "cell_type": "markdown",
      "metadata": {
        "id": "vOCrT6BoFtfe"
      },
      "source": [
        "Nối các danh sách <code> A = [1, 'a']</code> và <code> B = [2, 1, 'd']</code>:"
      ]
    },
    {
      "cell_type": "code",
      "metadata": {
        "collapsed": true,
        "id": "k44t8PZQFtfe",
        "outputId": "e259111e-6e99-4d8c-80ad-a2619f6571eb",
        "colab": {
          "base_uri": "https://localhost:8080/"
        }
      },
      "source": [
        "# Viết code của bạn bên dưới và nhấn Shift+Enter để thực hiện\n",
        "\n",
        "A = [1, 'a'] \n",
        "B = [2, 1, 'd']\n",
        "\n",
        "print(A + B)"
      ],
      "execution_count": 25,
      "outputs": [
        {
          "output_type": "stream",
          "name": "stdout",
          "text": [
            "[1, 'a', 2, 1, 'd']\n"
          ]
        }
      ]
    },
    {
      "cell_type": "markdown",
      "metadata": {
        "id": "r00s_PzDFtff"
      },
      "source": [
        "<details><summary>Click vào đây để xem lời giải</summary>\n",
        "\n",
        "```python\n",
        "A = [1, 'a'] \n",
        "B = [2, 1, 'd']\n",
        "A + B\n",
        "\n",
        "```\n",
        "\n",
        "</details>\n"
      ]
    }
  ]
}