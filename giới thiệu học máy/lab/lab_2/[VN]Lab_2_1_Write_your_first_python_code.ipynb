{
  "nbformat": 4,
  "nbformat_minor": 0,
  "metadata": {
    "kernelspec": {
      "display_name": "Python 3",
      "language": "python",
      "name": "python3"
    },
    "language_info": {
      "codemirror_mode": {
        "name": "ipython",
        "version": 3
      },
      "file_extension": ".py",
      "mimetype": "text/x-python",
      "name": "python",
      "nbconvert_exporter": "python",
      "pygments_lexer": "ipython3",
      "version": "3.7.6"
    },
    "colab": {
      "provenance": [],
      "toc_visible": true
    }
  },
  "cells": [
    {
      "cell_type": "markdown",
      "metadata": {
        "id": "b_Y8AI4SvED_"
      },
      "source": [
        "# Viết code Python đầu tiên của bạn\n",
        "\n",
        "Thời lượng ước tính: **25** phút\n",
        "\n",
        "## Mục tiêu\n",
        "\n",
        "Sau khi làm lab này, học viên sẽ có thể:\n",
        "\n",
        "- Viết code cơ bản trong Python\n",
        "- Làm việc với nhiều kiểu dữ liệu khác nhau trong Python\n",
        "- Chuyển đổi dữ liệu từ kiểu này sang kiểu khác\n",
        "- Sử dụng các biểu thức và biến để thực hiện các phép toán\n"
      ]
    },
    {
      "cell_type": "markdown",
      "metadata": {
        "id": "Z2np_xcivEED"
      },
      "source": [
        "<h2>Mục lục</h2>\n",
        "<div class=\"alert alert-block alert-info\" style=\"margin-top: 20px\">\n",
        "    <ul>\n",
        "        <li>\n",
        "            <a href=\"#hello\">Nói \"Hello\" trong Python</a>\n",
        "            <ul>\n",
        "                <li><a href=\"version\">Chúng ta đang dùng Python phiên bản nào?</a></li>\n",
        "                <li><a href=\"comments\">Viết chú thích trong Python</a></li>\n",
        "                <li><a href=\"errors\">Lỗi trong Python</a></li>\n",
        "                <li><a href=\"python_error\">Python có biết lỗi của bạn trước khi chạy code không?</a></li>\n",
        "                <li><a href=\"exercise\">Exercise: Chương trình đầu tiên</a></li>\n",
        "            </ul>\n",
        "        </li>\n",
        "        <li>\n",
        "            <a href=\"#types_objects\">Các kiểu đối tượng trong Python</a>\n",
        "            <ul>\n",
        "                <li><a href=\"int\">Số nguyên</a></li>\n",
        "                <li><a href=\"float\">Số thực</a></li>\n",
        "                <li><a href=\"convert\">Chuyển đổi một kiểu đối tượng này sang một kiểu đối tượng khác</a></li>\n",
        "                <li><a href=\"bool\">Kiểu dữ liệu Boolean</a></li>\n",
        "                <li><a href=\"exer_type\">Exercise: Các kiểu dữ liệu</a></li>\n",
        "            </ul>\n",
        "        </li>\n",
        "        <li>\n",
        "            <a href=\"#expressions\">Biểu thức và biến</a>\n",
        "            <ul>\n",
        "                <li><a href=\"exp\">Biểu thức</a></li>\n",
        "                <li><a href=\"exer_exp\">Exercise: Biểu thức</a></li>\n",
        "                <li><a href=\"var\">Biến</a></li>\n",
        "                <li><a href=\"exer_exp_var\">Exercise: Biểu thức và biến trong Python</a></li>\n",
        "            </ul>\n",
        "        </li>\n",
        "    </ul>\n",
        "    <p>\n",
        "        Thời lượng ước tính: <strong>25 phút</strong>\n",
        "    </p>\n",
        "</div>\n",
        "\n",
        "<hr>\n"
      ]
    },
    {
      "cell_type": "markdown",
      "metadata": {
        "id": "e-0ih1zgvEED"
      },
      "source": [
        "### <h2 id=\"hello\">Nói \"Hello\" với thế giới trong Python</h2>\n"
      ]
    },
    {
      "cell_type": "markdown",
      "metadata": {
        "id": "0ji3PRjVvEEE"
      },
      "source": [
        "Khi học một ngôn ngữ lập trình mới, theo thông lệ, bạn nên bắt đầu với ví dụ \"hello world\". Nói một cách đơn giản, một dòng code lập trình này sẽ đảm bảo rằng chúng ta biết cách in một chuỗi ở đầu ra và cách thực hiện code trong các cell trong notebook.\n"
      ]
    },
    {
      "cell_type": "markdown",
      "metadata": {
        "id": "xBSqCJThvEEE"
      },
      "source": [
        "<hr/>\n",
        "<div class=\"alert alert-success alertsuccess\" style=\"margin-top: 20px\">\n",
        "[Tip]: Để thực thi code Python trong cell code bên dưới, hãy nhấp vào cell để chọn và nhấn <kbd>Shift</kbd> + <kbd>Enter</kbd>.\n",
        "</div>\n",
        "<hr/>\n"
      ]
    },
    {
      "cell_type": "code",
      "metadata": {
        "id": "77wSJvyovEEF",
        "outputId": "87e5ddd4-5350-4107-f193-b472b6832241",
        "colab": {
          "base_uri": "https://localhost:8080/"
        }
      },
      "source": [
        "# Thử output Python đầu tiên\n",
        "\n",
        "print('Hello, Python!')"
      ],
      "execution_count": 2,
      "outputs": [
        {
          "output_type": "stream",
          "name": "stdout",
          "text": [
            "Hello, Python!\n"
          ]
        }
      ]
    },
    {
      "cell_type": "markdown",
      "metadata": {
        "id": "31QwDcp7vEEH"
      },
      "source": [
        "Sau khi thực thi cell ở trên, bạn sẽ thấy Python in ra <code>Hello, Python!</code>. Chúc mừng bạn đã chạy code Python đầu tiên của mình!\n",
        "\n"
      ]
    },
    {
      "cell_type": "markdown",
      "metadata": {
        "id": "92-kOLh_vEEH"
      },
      "source": [
        "<hr/>\n",
        "<div class=\"alert alert-success alertsuccess\" style=\"margin-top: 20px\">\n",
        "    [Tip:] <code>print()</code> là một hàm. Bạn truyền string <code>'Hello, Python!'</code> làm đối số để hướng dẫn những gì Python cần in.\n",
        "</div>\n",
        "<hr/>\n"
      ]
    },
    {
      "cell_type": "markdown",
      "metadata": {
        "id": "9ZOtvPLQvEEI"
      },
      "source": [
        "<h3 id=\"version\">Chúng ta đang dùng Python phiên bản nào?</h3>\n"
      ]
    },
    {
      "cell_type": "markdown",
      "metadata": {
        "id": "fN4BlX-vvEEI"
      },
      "source": [
        "<p>\n",
        "    Có hai phiên bản phổ biến của ngôn ngữ lập trình Python được sử dụng hiện nay là Python 2 và Python 3. Cộng đồng Python đã quyết định chuyển từ Python 2 sang Python 3 và nhiều thư viện phổ biến đã thông báo rằng họ sẽ không hỗ trợ Python 2 nữa.\n",
        "</p>\n",
        "<p>\n",
        "    Vì Python 3 là xu hướng của tương lai nên trong khóa học này, chúng tôi sẽ chỉ sử dụng nó. Làm cách nào để biết rằng notebook của chúng ta được thực thi bởi Python 3 runtime? Chúng ta có thể nhìn vào góc trên bên phải của notebook này và thấy \"Python 3\".\n",
        "</p>\n",
        "<p>\n",
        "    Chúng ta cũng có thể hỏi trực tiếp Python và nhận được câu trả lời chi tiết. Hãy thử thực hiện code sau:\n",
        "</p>\n"
      ]
    },
    {
      "cell_type": "code",
      "metadata": {
        "id": "QkuUWafhvEEI",
        "outputId": "4a9ff7af-9691-4f5e-bfdf-bb8c27a90325",
        "colab": {
          "base_uri": "https://localhost:8080/"
        }
      },
      "source": [
        "# Kiểm tra phiên bản Python\n",
        "\n",
        "import sys\n",
        "print(sys.version)"
      ],
      "execution_count": 3,
      "outputs": [
        {
          "output_type": "stream",
          "name": "stdout",
          "text": [
            "3.10.11 (main, Apr  5 2023, 14:15:10) [GCC 9.4.0]\n"
          ]
        }
      ]
    },
    {
      "cell_type": "markdown",
      "metadata": {
        "id": "aLdsExKvvEEJ"
      },
      "source": [
        "<hr/>\n",
        "<div class=\"alert alert-success alertsuccess\" style=\"margin-top: 20px\">\n",
        "    [Tip:] <code>sys</code> là một mô-đun tích hợp có chứa nhiều tham số và hàm dành riêng cho hệ thống, bao gồm cả phiên bản Python đang được sử dụng. Trước khi sử dụng, chúng ta phải <code>import</code> nó.\n",
        "</div>\n",
        "<hr/>\n"
      ]
    },
    {
      "cell_type": "markdown",
      "metadata": {
        "id": "SOqvR8hSvEEJ"
      },
      "source": [
        "<h3 id=\"comments\">Viết chú thích trong Python</h3>\n"
      ]
    },
    {
      "cell_type": "markdown",
      "metadata": {
        "id": "XIwQOHGtvEEJ"
      },
      "source": [
        "<p>\n",
        "    Ngoài việc viết code, hãy lưu ý rằng bạn luôn nên thêm chú thích vào code của mình. Nó sẽ giúp người khác hiểu điều bạn đang cố gắng hoàn thành (lý do tại sao bạn viết một đoạn code nhất định). Điều này không chỉ giúp <strong>người khác</strong> hiểu code của bạn, nó cũng giúp nhắc nhở <strong>bạn</strong> khi bạn quay trở lại sau vài tuần hoặc vài tháng.</p>\n",
        "\n",
        "<p>\n",
        "    Để viết chú thích bằng Python, hãy sử dụng ký hiệu số <code>#</code> trước khi viết chú thích. Khi bạn chạy code, Python sẽ bỏ qua mọi thứ sau <code>#</code> trên một dòng nhất định.\n",
        "</p>\n"
      ]
    },
    {
      "cell_type": "code",
      "metadata": {
        "id": "VO9to-OgvEEK",
        "outputId": "c54baff6-4c96-45c6-d7ce-f289597d24de",
        "colab": {
          "base_uri": "https://localhost:8080/"
        }
      },
      "source": [
        "# Thực hành viết chú thích\n",
        "\n",
        "print('Hello, Python!') # This line prints a string\n",
        "# print('Hi')"
      ],
      "execution_count": 4,
      "outputs": [
        {
          "output_type": "stream",
          "name": "stdout",
          "text": [
            "Hello, Python!\n"
          ]
        }
      ]
    },
    {
      "cell_type": "markdown",
      "metadata": {
        "id": "KbHOqlEcvEEK"
      },
      "source": [
        "<p>\n",
        "    Sau khi thực thi cell ở trên, bạn sẽ nhận thấy rằng <code>This line prints a string</code> không xuất hiện ở output, vì đó là một chú thích (nên bị Python bỏ qua).\n",
        "</p>\n",
        "<p>\n",
        "    Dòng thứ hai cũng không được thực thi vì <code> print('Hi')</code> cũng được đặt trước bởi kí hiệu số (<code>#</code>)! Vì đây không phải là một chú thích giải thích từ lập trình viên, mà là một dòng code thực tế, chúng ta có thể nói rằng lập trình viên đã <em>chú thích</em> dòng code thứ hai đó.\n",
        "</p>\n"
      ]
    },
    {
      "cell_type": "markdown",
      "metadata": {
        "id": "Oud-FJBzvEEK"
      },
      "source": [
        "<h3 id=\"errors\">Lỗi trong Python</h3>\n"
      ]
    },
    {
      "cell_type": "markdown",
      "metadata": {
        "id": "OXOZoTsZvEEL"
      },
      "source": [
        "<p>Ai cũng mắc sai lầm. Đối với nhiều loại lỗi, Python sẽ đưa ra thông báo để cho bạn biết rằng bạn đã mắc lỗi. Điều quan trọng là phải đọc các thông báo lỗi một cách cẩn thận để thực sự hiểu bạn đã mắc lỗi ở đâu và cách bạn có thể sửa nó.</p>\n",
        "<p>Ví dụ, nếu bạn viết sai chính tả <code>print</code> thành <code>frint</code>, Python sẽ hiển thị thông báo lỗi. Bạn hãy thử xem:</p>\n",
        "\n"
      ]
    },
    {
      "cell_type": "code",
      "metadata": {
        "id": "v3egNv4GvEEL",
        "outputId": "68b7714e-4d93-44b3-f856-941582c2cae3",
        "colab": {
          "base_uri": "https://localhost:8080/",
          "height": 200
        }
      },
      "source": [
        "# In ra thông báo lỗi\n",
        "\n",
        "frint(\"Hello, Python!\")"
      ],
      "execution_count": 5,
      "outputs": [
        {
          "output_type": "error",
          "ename": "NameError",
          "evalue": "ignored",
          "traceback": [
            "\u001b[0;31m---------------------------------------------------------------------------\u001b[0m",
            "\u001b[0;31mNameError\u001b[0m                                 Traceback (most recent call last)",
            "\u001b[0;32m<ipython-input-5-f7c1e3d2f2a3>\u001b[0m in \u001b[0;36m<cell line: 3>\u001b[0;34m()\u001b[0m\n\u001b[1;32m      1\u001b[0m \u001b[0;31m# In ra thông báo lỗi\u001b[0m\u001b[0;34m\u001b[0m\u001b[0;34m\u001b[0m\u001b[0m\n\u001b[1;32m      2\u001b[0m \u001b[0;34m\u001b[0m\u001b[0m\n\u001b[0;32m----> 3\u001b[0;31m \u001b[0mfrint\u001b[0m\u001b[0;34m(\u001b[0m\u001b[0;34m\"Hello, Python!\"\u001b[0m\u001b[0;34m)\u001b[0m\u001b[0;34m\u001b[0m\u001b[0;34m\u001b[0m\u001b[0m\n\u001b[0m",
            "\u001b[0;31mNameError\u001b[0m: name 'frint' is not defined"
          ]
        }
      ]
    },
    {
      "cell_type": "markdown",
      "metadata": {
        "id": "JtPheyOGvEEL"
      },
      "source": [
        "<p>Thông báo lỗi cho bạn biết:  \n",
        "<ol>\n",
        "    <li>nơi nào có lỗi (hữu ích hơn trong các tập lệnh hoặc cell notebook lớn)</li> \n",
        "    <li>đó là loại lỗi nào (Tên lỗi)</li> \n",
        "</ol>\n",
        "<p>Ở đây, Python đã cố gắng chạy hàm <code> frint</code>, nhưng không thể xác định <code> frint</code> là gì vì nó không phải là một hàm tích hợp và chúng ta cũng chưa xác định nó trước đó.</p>\n"
      ]
    },
    {
      "cell_type": "markdown",
      "metadata": {
        "id": "4a0dUEBwvEEL"
      },
      "source": [
        "\n",
        "<p>\n",
        "   Bạn sẽ nhận thấy rằng nếu chúng ta mắc một loại lỗi khác, do quên đóng string, chúng ta sẽ gặp một lỗi khác (ví dụ, <code>SyntaxError</code>). Thử nó dưới đây:\n",
        "</p>\n"
      ]
    },
    {
      "cell_type": "code",
      "metadata": {
        "id": "xV7s7wD1vEEM",
        "outputId": "e9caf509-c33d-4ee4-a541-2ef0958df0c6",
        "colab": {
          "base_uri": "https://localhost:8080/",
          "height": 130
        }
      },
      "source": [
        "# Hãy thử tạo một thông báo lỗi\n",
        "\n",
        "print(\"Hello, Python!)"
      ],
      "execution_count": 6,
      "outputs": [
        {
          "output_type": "error",
          "ename": "SyntaxError",
          "evalue": "ignored",
          "traceback": [
            "\u001b[0;36m  File \u001b[0;32m\"<ipython-input-6-2fbf701fec55>\"\u001b[0;36m, line \u001b[0;32m3\u001b[0m\n\u001b[0;31m    print(\"Hello, Python!)\u001b[0m\n\u001b[0m          ^\u001b[0m\n\u001b[0;31mSyntaxError\u001b[0m\u001b[0;31m:\u001b[0m unterminated string literal (detected at line 3)\n"
          ]
        }
      ]
    },
    {
      "cell_type": "markdown",
      "metadata": {
        "id": "t7UrN41yvEEM"
      },
      "source": [
        "<h3 id=\"python_error\">Python có nhận ra lỗi của bạn trước khi nó chạy code không?</h3>\n"
      ]
    },
    {
      "cell_type": "markdown",
      "metadata": {
        "id": "v8s_R-PkvEEM"
      },
      "source": [
        "Python được gọi là <em>ngôn ngữ thông dịch</em>. Ngôn ngữ biên dịch sẽ kiểm tra toàn bộ chương trình tại thời điểm biên dịch và có thể cảnh bảo bạn về toàn bộ lớp lỗi trước khi thực thi. Ngược lại, python thông dịch dòng tập lệnh khi nó thực thi.Pyhton sẽ ngừng thực thi toàn bộ chương trình khi nó gặp lỗi (trừ khi lỗi được dự tính và xử lý bới lập trình viên, đây là chủ đề nâng cao mà chúng ta sẽ đề cập sau trong khóa này).\n"
      ]
    },
    {
      "cell_type": "markdown",
      "metadata": {
        "id": "NLEDMEjAvEEM"
      },
      "source": [
        "Hãy thử chạy code trong cell bên dưới và xem điều gì sẽ xảy ra:\n"
      ]
    },
    {
      "cell_type": "code",
      "metadata": {
        "id": "cYUeXgbxvEEM",
        "outputId": "8b9fd09c-2aef-4e2a-86b0-6f5f86c27461",
        "colab": {
          "base_uri": "https://localhost:8080/",
          "height": 235
        }
      },
      "source": [
        "# In string và lỗi để xem thứ tự chạy\n",
        "\n",
        "print(\"This will be printed\")\n",
        "frint(\"This will cause an error\")\n",
        "print(\"This will NOT be printed\")"
      ],
      "execution_count": 7,
      "outputs": [
        {
          "output_type": "stream",
          "name": "stdout",
          "text": [
            "This will be printed\n"
          ]
        },
        {
          "output_type": "error",
          "ename": "NameError",
          "evalue": "ignored",
          "traceback": [
            "\u001b[0;31m---------------------------------------------------------------------------\u001b[0m",
            "\u001b[0;31mNameError\u001b[0m                                 Traceback (most recent call last)",
            "\u001b[0;32m<ipython-input-7-41e33ed1f1bc>\u001b[0m in \u001b[0;36m<cell line: 4>\u001b[0;34m()\u001b[0m\n\u001b[1;32m      2\u001b[0m \u001b[0;34m\u001b[0m\u001b[0m\n\u001b[1;32m      3\u001b[0m \u001b[0mprint\u001b[0m\u001b[0;34m(\u001b[0m\u001b[0;34m\"This will be printed\"\u001b[0m\u001b[0;34m)\u001b[0m\u001b[0;34m\u001b[0m\u001b[0;34m\u001b[0m\u001b[0m\n\u001b[0;32m----> 4\u001b[0;31m \u001b[0mfrint\u001b[0m\u001b[0;34m(\u001b[0m\u001b[0;34m\"This will cause an error\"\u001b[0m\u001b[0;34m)\u001b[0m\u001b[0;34m\u001b[0m\u001b[0;34m\u001b[0m\u001b[0m\n\u001b[0m\u001b[1;32m      5\u001b[0m \u001b[0mprint\u001b[0m\u001b[0;34m(\u001b[0m\u001b[0;34m\"This will NOT be printed\"\u001b[0m\u001b[0;34m)\u001b[0m\u001b[0;34m\u001b[0m\u001b[0;34m\u001b[0m\u001b[0m\n",
            "\u001b[0;31mNameError\u001b[0m: name 'frint' is not defined"
          ]
        }
      ]
    },
    {
      "cell_type": "markdown",
      "metadata": {
        "id": "pjwoA7pvvEEN"
      },
      "source": [
        "<h3 id=\"exercise\">Exercise: Chương trình đầu tiên</h3>\n"
      ]
    },
    {
      "cell_type": "markdown",
      "metadata": {
        "id": "R0jlnepHvEEN"
      },
      "source": [
        "<p>Nhiều thế hệ lập trình viên đã bắt đầu sự nghiệp viết code của họ bằng cách in dòng chữ \"Hello, world!\". Bạn sẽ theo bước họ.</p>\n",
        "<p>Trong cell code bên dưới, sử dụng hàm <code> print()</code> để in ra cụm: <code> Hello, world!</code></p>\n",
        "\n"
      ]
    },
    {
      "cell_type": "code",
      "metadata": {
        "id": "cZY3eUUwvEEN",
        "outputId": "dfb71ec1-9f59-40a3-b936-9121a1c60154",
        "colab": {
          "base_uri": "https://localhost:8080/"
        }
      },
      "source": [
        "# Viết code của bạn xuống dưới đây. Đừng quên ấn Shift+Enter để thực thi cell\n",
        "print('Hello, world!')\n"
      ],
      "execution_count": 8,
      "outputs": [
        {
          "output_type": "stream",
          "name": "stdout",
          "text": [
            "Hello, world!\n"
          ]
        }
      ]
    },
    {
      "cell_type": "markdown",
      "metadata": {
        "id": "8UXUFkMcvEEN"
      },
      "source": [
        "<details><summary>Click vào đây để xem lời giải</summary>\n",
        "\n",
        "```python\n",
        "print(\"Hello, world!\")\n",
        "\n",
        "```\n",
        "\n",
        "</details>\n"
      ]
    },
    {
      "cell_type": "markdown",
      "metadata": {
        "id": "hbg_fijcvEEN"
      },
      "source": [
        "<p>Bây giờ, hãy nâng cao code của bạn bằng một chú thích. Trong cell code bên dưới, hãy in ra cụm: <code> Hello, world! </code> và chú thích nó bằng cụm <code> Print the hello world </code> truyền thống, tất cả trong một dòng code.</p>\n"
      ]
    },
    {
      "cell_type": "code",
      "metadata": {
        "id": "vFVC3hiHvEEO",
        "outputId": "1308c900-becb-480a-df02-cbaa270d6705",
        "colab": {
          "base_uri": "https://localhost:8080/"
        }
      },
      "source": [
        "# Write your code below. Don't forget to press Shift+Enter to execute the cell\n",
        "\n",
        "print('Hello, world!') #Print the hello world\n"
      ],
      "execution_count": 9,
      "outputs": [
        {
          "output_type": "stream",
          "name": "stdout",
          "text": [
            "Hello, world!\n"
          ]
        }
      ]
    },
    {
      "cell_type": "markdown",
      "metadata": {
        "id": "xj9g97givEEO"
      },
      "source": [
        "<details><summary>Click vào đây để xem lời giải</summary>\n",
        "\n",
        "```python\n",
        "print(\"Hello, world!\") # Print the traditional hello world\n",
        "\n",
        "```\n",
        "\n",
        "</details>\n"
      ]
    },
    {
      "cell_type": "markdown",
      "metadata": {
        "id": "GqHFE9t1vEEO"
      },
      "source": [
        "<hr>\n"
      ]
    },
    {
      "cell_type": "markdown",
      "metadata": {
        "id": "_x36aVyuvEEO"
      },
      "source": [
        "<h2 id=\"types_objects\" align=\"center\">Các kiểu đối tượng trong Python</h2>\n"
      ]
    },
    {
      "cell_type": "markdown",
      "metadata": {
        "id": "s9SXF9sRvEEO"
      },
      "source": [
        "<p>Python là ngôn ngữ hướng đối tượng. Có nhiều loại đối tượng khác nhau trong Python. Hãy bắt đầu với các loại đối tượng phổ biến nhất: <i> string (chuỗi) </i>, <i> integer (số nguyên)</i> và <i> float (số thực)</i>. Bất cứ khi nào bạn viết từ (văn bản) bằng Python, bạn đang sử dụng <i> chuỗi ký tự </i> (viết tắt là chuỗi). Mặt khác, các số phổ biến nhất là <i> số nguyên </i> (ví dụ: -1, 0, 100) và <i> float </i>, đại diện cho các số thực (ví dụ: 3,14, -42,0).</p>\n"
      ]
    },
    {
      "cell_type": "markdown",
      "metadata": {
        "id": "k2PWkyM6vEEO"
      },
      "source": [
        "<a align=\"center\">\n",
        "    <img src=\"https://cf-courses-data.s3.us.cloud-object-storage.appdomain.cloud/IBMDeveloperSkillsNetwork-PY0101EN-SkillsNetwork/labs/Module%201/images/TypesObjects.png\" width=\"600\">\n",
        "</a>\n"
      ]
    },
    {
      "cell_type": "markdown",
      "metadata": {
        "id": "U5Vh6VcJvEEP"
      },
      "source": [
        "<p>Các cell code sau chứa một số ví dụ.</p>\n"
      ]
    },
    {
      "cell_type": "code",
      "metadata": {
        "id": "O6zlijcivEEP",
        "outputId": "797964ac-da01-482b-cec9-3c1d095fdbc8",
        "colab": {
          "base_uri": "https://localhost:8080/"
        }
      },
      "source": [
        "# Integer\n",
        "\n",
        "11"
      ],
      "execution_count": 13,
      "outputs": [
        {
          "output_type": "execute_result",
          "data": {
            "text/plain": [
              "11"
            ]
          },
          "metadata": {},
          "execution_count": 13
        }
      ]
    },
    {
      "cell_type": "code",
      "metadata": {
        "id": "VkDEJmWLvEEP"
      },
      "source": [
        "# Float\n",
        "\n",
        "2.14"
      ],
      "execution_count": null,
      "outputs": []
    },
    {
      "cell_type": "code",
      "metadata": {
        "id": "TYH-oDPYvEEP"
      },
      "source": [
        "# String\n",
        "\n",
        "\"Hello, Python 101!\""
      ],
      "execution_count": null,
      "outputs": []
    },
    {
      "cell_type": "markdown",
      "metadata": {
        "id": "ud7tiFahvEEQ"
      },
      "source": [
        "<p>Bạn có thể yêu cầu Python cho bạn biết kiểu của biểu thức bằng cách sử dụng hàm <code> type()</code> tích hợp sẵn. Bạn sẽ nhận thấy rằng Python đề cập đến các số nguyên là <code> int</code>, số thực là <code> float</code> và các chuỗi ký tự là <code>str</code>.</p>\n"
      ]
    },
    {
      "cell_type": "code",
      "metadata": {
        "id": "BTMlS1oPvEEQ",
        "outputId": "d21f9d84-c38c-4ab7-aa43-75cb86f8cf18",
        "colab": {
          "base_uri": "https://localhost:8080/"
        }
      },
      "source": [
        "# Kiểu của 12\n",
        "\n",
        "type(12)"
      ],
      "execution_count": 10,
      "outputs": [
        {
          "output_type": "execute_result",
          "data": {
            "text/plain": [
              "int"
            ]
          },
          "metadata": {},
          "execution_count": 10
        }
      ]
    },
    {
      "cell_type": "code",
      "metadata": {
        "id": "SYYxdD0dvEEQ",
        "outputId": "25b560dc-de50-42c2-de74-3cf5261cc513",
        "colab": {
          "base_uri": "https://localhost:8080/"
        }
      },
      "source": [
        "# Kiểu của 2.14\n",
        "\n",
        "type(2.14)"
      ],
      "execution_count": 11,
      "outputs": [
        {
          "output_type": "execute_result",
          "data": {
            "text/plain": [
              "float"
            ]
          },
          "metadata": {},
          "execution_count": 11
        }
      ]
    },
    {
      "cell_type": "code",
      "metadata": {
        "id": "2SC3spx4vEEQ",
        "outputId": "7f92c09c-43f8-48bf-d0e7-c15a17308735",
        "colab": {
          "base_uri": "https://localhost:8080/"
        }
      },
      "source": [
        "# Kiểu của \"Hello, Python 101!\"\n",
        "\n",
        "type(\"Hello, Python 101!\")"
      ],
      "execution_count": 12,
      "outputs": [
        {
          "output_type": "execute_result",
          "data": {
            "text/plain": [
              "str"
            ]
          },
          "metadata": {},
          "execution_count": 12
        }
      ]
    },
    {
      "cell_type": "markdown",
      "metadata": {
        "id": "gIBQbgkLvEEQ"
      },
      "source": [
        "\n",
        "<p>Trong cell code bên dưới, sử dụng hàm <code> type()</code> để kiểm tra kiểu đối tượng của <code>12.0</code>.\n"
      ]
    },
    {
      "cell_type": "code",
      "metadata": {
        "id": "GCdXEeMovEER",
        "outputId": "e1d5febf-706f-4dea-de37-1bf45e3d5b07",
        "colab": {
          "base_uri": "https://localhost:8080/"
        }
      },
      "source": [
        "# Write your code below. Don't forget to press Shift+Enter to execute the cell\n",
        "type(12)"
      ],
      "execution_count": 14,
      "outputs": [
        {
          "output_type": "execute_result",
          "data": {
            "text/plain": [
              "int"
            ]
          },
          "metadata": {},
          "execution_count": 14
        }
      ]
    },
    {
      "cell_type": "markdown",
      "metadata": {
        "id": "LGRF5f77vEER"
      },
      "source": [
        "<details><summary>Click vào đây để xem lời giải</summary>\n",
        "\n",
        "```python\n",
        "type(12.0)\n",
        "\n",
        "```\n",
        "\n",
        "</details>\n"
      ]
    },
    {
      "cell_type": "markdown",
      "metadata": {
        "id": "p6mwST13vEER"
      },
      "source": [
        "<h3 id=\"int\">Số nguyên</h3>\n"
      ]
    },
    {
      "cell_type": "markdown",
      "metadata": {
        "id": "qL9vvXvtvEER"
      },
      "source": [
        "<p>Dưới đây là một số ví dụ về số nguyên. Số nguyên có thể là số âm hoặc số dương:</p>\n"
      ]
    },
    {
      "cell_type": "markdown",
      "metadata": {
        "id": "q9q8CHifvEER"
      },
      "source": [
        "<a align=\"center\">\n",
        "    <img src=\"https://cf-courses-data.s3.us.cloud-object-storage.appdomain.cloud/IBMDeveloperSkillsNetwork-PY0101EN-SkillsNetwork/labs/Module%201/images/TypesInt.png\" width=\"600\">\n",
        "</a>\n"
      ]
    },
    {
      "cell_type": "markdown",
      "metadata": {
        "id": "w4Yg4-ljvEER"
      },
      "source": [
        "<p> Chúng ta có thể xác minh đây là trường hợp bằng cách sử dụng, chắc bạn cũng đoán được, là hàm <code>type()</code>:\n"
      ]
    },
    {
      "cell_type": "code",
      "metadata": {
        "id": "yNaIGvHkvEES",
        "outputId": "64014e96-df9f-4b7d-b15f-e539a9154833",
        "colab": {
          "base_uri": "https://localhost:8080/"
        }
      },
      "source": [
        "# In ra kiểu của -1\n",
        "\n",
        "type(-1)"
      ],
      "execution_count": 15,
      "outputs": [
        {
          "output_type": "execute_result",
          "data": {
            "text/plain": [
              "int"
            ]
          },
          "metadata": {},
          "execution_count": 15
        }
      ]
    },
    {
      "cell_type": "code",
      "metadata": {
        "id": "cEMTwwKjvEES",
        "outputId": "1836362b-931f-4257-deb7-4bc9c5eed8c3",
        "colab": {
          "base_uri": "https://localhost:8080/"
        }
      },
      "source": [
        "# In ra kiểu của 4\n",
        "\n",
        "type(4)"
      ],
      "execution_count": 16,
      "outputs": [
        {
          "output_type": "execute_result",
          "data": {
            "text/plain": [
              "int"
            ]
          },
          "metadata": {},
          "execution_count": 16
        }
      ]
    },
    {
      "cell_type": "code",
      "metadata": {
        "id": "U_vFdzAAvEES",
        "outputId": "0426650b-4caf-4aa2-9e1f-2f8eba3b3beb",
        "colab": {
          "base_uri": "https://localhost:8080/"
        }
      },
      "source": [
        "# In ra kiểu của 0\n",
        "\n",
        "type(0)"
      ],
      "execution_count": 17,
      "outputs": [
        {
          "output_type": "execute_result",
          "data": {
            "text/plain": [
              "int"
            ]
          },
          "metadata": {},
          "execution_count": 17
        }
      ]
    },
    {
      "cell_type": "markdown",
      "metadata": {
        "id": "6YIZJTcjvEES"
      },
      "source": [
        "<h3 id=\"float\">Float</h3> \n"
      ]
    },
    {
      "cell_type": "markdown",
      "metadata": {
        "id": "5SrlkCF1vEES"
      },
      "source": [
        "<p> Float đại diện cho số thực; chúng là một tập hợp các số nguyên nhưng cũng bao gồm \"các số thập phân\". Có một số hạn chế khi nói đến máy biểu diễn số thực, nhưng số dấu phẩy động là một đại diện tốt trong hầu hết các trường hợp. Bạn có thể tìm hiểu chi tiết thêm về float cho môi trường runtime, bằng cách kiểm tra giá trị của <code> sys.float_info</code>. Điều này cũng sẽ cho bạn biết số lớn nhất và nhỏ nhất có thể được biểu thị với chúng là gì.</p>\n",
        "\n",
        "<p>Một lần nữa, có thể kiểm tra một số ví dụ với hàm <code> type()</code>:\n"
      ]
    },
    {
      "cell_type": "code",
      "metadata": {
        "id": "2n2ZIwoZvEES",
        "outputId": "85fa5e37-cd99-4c1c-da3f-8a6af6add936",
        "colab": {
          "base_uri": "https://localhost:8080/"
        }
      },
      "source": [
        "# In ra kiểu của 1.0\n",
        "\n",
        "type(1.0) # Notice that 1 is an int, and 1.0 is a float"
      ],
      "execution_count": 18,
      "outputs": [
        {
          "output_type": "execute_result",
          "data": {
            "text/plain": [
              "float"
            ]
          },
          "metadata": {},
          "execution_count": 18
        }
      ]
    },
    {
      "cell_type": "code",
      "metadata": {
        "id": "V98Z3E7cvEET",
        "outputId": "e529b81f-09be-45ee-bbb4-9a04e88b8f38",
        "colab": {
          "base_uri": "https://localhost:8080/"
        }
      },
      "source": [
        "# In ra kiểu của 0.5\n",
        "\n",
        "type(0.5)"
      ],
      "execution_count": 19,
      "outputs": [
        {
          "output_type": "execute_result",
          "data": {
            "text/plain": [
              "float"
            ]
          },
          "metadata": {},
          "execution_count": 19
        }
      ]
    },
    {
      "cell_type": "code",
      "metadata": {
        "id": "c-qR-RuHvEET",
        "outputId": "5da1cc49-8477-4ea6-e708-77cfd6dd9d4e",
        "colab": {
          "base_uri": "https://localhost:8080/"
        }
      },
      "source": [
        "# In ra kiểu của 0.56\n",
        "\n",
        "type(0.56)"
      ],
      "execution_count": 20,
      "outputs": [
        {
          "output_type": "execute_result",
          "data": {
            "text/plain": [
              "float"
            ]
          },
          "metadata": {},
          "execution_count": 20
        }
      ]
    },
    {
      "cell_type": "code",
      "metadata": {
        "id": "y3UjFvbcvEET",
        "outputId": "0c415204-8133-4226-b1e5-1c905f3d151d",
        "colab": {
          "base_uri": "https://localhost:8080/"
        }
      },
      "source": [
        "# Thiết lập hệ thống về kiểu của float\n",
        "\n",
        "sys.float_info"
      ],
      "execution_count": 21,
      "outputs": [
        {
          "output_type": "execute_result",
          "data": {
            "text/plain": [
              "sys.float_info(max=1.7976931348623157e+308, max_exp=1024, max_10_exp=308, min=2.2250738585072014e-308, min_exp=-1021, min_10_exp=-307, dig=15, mant_dig=53, epsilon=2.220446049250313e-16, radix=2, rounds=1)"
            ]
          },
          "metadata": {},
          "execution_count": 21
        }
      ]
    },
    {
      "cell_type": "markdown",
      "metadata": {
        "id": "g-nRC80-vEET"
      },
      "source": [
        "<h3 id=\"convert\">Chuyển đổi một kiểu đối tượng sang kiểu đối tượng khác</h3>\n"
      ]
    },
    {
      "cell_type": "markdown",
      "metadata": {
        "id": "LnafWOjdvEEU"
      },
      "source": [
        "<p> Bạn có thể thay đổi kiểu đối tượng trong Python; điều này được gọi là typecasting (ép kiểu). Ví dụ: bạn có thể chuyển đổi <i> số nguyên </i> thành <i> số thực </i> (ví dụ: 2 thành 2.0). </p>\n",
        "<p> Hãy thử nó: </p>\n"
      ]
    },
    {
      "cell_type": "code",
      "metadata": {
        "id": "9CG7ma5yvEEU",
        "outputId": "ae921948-4b5a-4727-fede-b5d3fc7e0515",
        "colab": {
          "base_uri": "https://localhost:8080/"
        }
      },
      "source": [
        "# Xác thực đây là một số nguyên\n",
        "\n",
        "type(2)"
      ],
      "execution_count": 22,
      "outputs": [
        {
          "output_type": "execute_result",
          "data": {
            "text/plain": [
              "int"
            ]
          },
          "metadata": {},
          "execution_count": 22
        }
      ]
    },
    {
      "cell_type": "markdown",
      "metadata": {
        "id": "ph1CB_1svEEU"
      },
      "source": [
        "<h4>Chuyển số nguyên thành số thực</h4>\n",
        "<p>Hãy chuyển số nguyên 2 thành số thực:</p>\n"
      ]
    },
    {
      "cell_type": "code",
      "metadata": {
        "id": "2WXPnHKQvEEU",
        "outputId": "1751eb9d-0fe3-4c15-8394-f247882e4be5",
        "colab": {
          "base_uri": "https://localhost:8080/"
        }
      },
      "source": [
        "# Chuyển 2 thành một số thực\n",
        "\n",
        "float(2)"
      ],
      "execution_count": 23,
      "outputs": [
        {
          "output_type": "execute_result",
          "data": {
            "text/plain": [
              "2.0"
            ]
          },
          "metadata": {},
          "execution_count": 23
        }
      ]
    },
    {
      "cell_type": "code",
      "metadata": {
        "id": "Mh573VXFvEEU",
        "outputId": "fa16c634-461b-4d76-ee00-dbbfb6d063ad",
        "colab": {
          "base_uri": "https://localhost:8080/"
        }
      },
      "source": [
        "# Chuyển số nguyên 2 thành một số thực và kiểm tra kiểu của nó\n",
        "\n",
        "type(float(2))"
      ],
      "execution_count": 24,
      "outputs": [
        {
          "output_type": "execute_result",
          "data": {
            "text/plain": [
              "float"
            ]
          },
          "metadata": {},
          "execution_count": 24
        }
      ]
    },
    {
      "cell_type": "markdown",
      "metadata": {
        "id": "A1NAiZS9vEEU"
      },
      "source": [
        "\n",
        "<p> Khi chúng ta chuyển đổi một số nguyên thành một số thực, chúng ta không thực sự thay đổi giá trị (tức là ý nghĩa) của số đó. Tuy nhiên, nếu chúng ta ép kiểu số thực thành một số nguyên, chúng ta có thể mất một số thông tin. Ví dụ: nếu chúng ta ép kiểu số thực 1.1 thành số nguyên, chúng ta sẽ nhận được 1 và mất thông tin phần thập phân (tức là 0,1): </p>\n",
        "\n"
      ]
    },
    {
      "cell_type": "code",
      "metadata": {
        "id": "jKy4vNplvEEV",
        "outputId": "58d1d70a-472d-4dcf-c05d-2c28b4643026",
        "colab": {
          "base_uri": "https://localhost:8080/"
        }
      },
      "source": [
        "# Ép kiểu 1.1 thành số nguyên sẽ mất thông tin\n",
        "\n",
        "int(1.1)"
      ],
      "execution_count": 25,
      "outputs": [
        {
          "output_type": "execute_result",
          "data": {
            "text/plain": [
              "1"
            ]
          },
          "metadata": {},
          "execution_count": 25
        }
      ]
    },
    {
      "cell_type": "markdown",
      "metadata": {
        "id": "by0gvkhtvEEV"
      },
      "source": [
        "<h4> Chuyển đổi từ string thành số nguyên hoặc số thực </h4>\n"
      ]
    },
    {
      "cell_type": "markdown",
      "metadata": {
        "id": "5W0g1H_FvEEV"
      },
      "source": [
        "<p> Đôi khi, chúng ta có thể có một string chứa một số bên trong nó. Nếu đúng như vậy, chúng ta có thể ép string biểu thị một số thành một số nguyên bằng cách sử dụng <code> int()</code>: </p>\n"
      ]
    },
    {
      "cell_type": "code",
      "metadata": {
        "id": "-Fu_yKrovEEV",
        "outputId": "602b1dbd-fb83-4881-9fde-1f02b8f0d45b",
        "colab": {
          "base_uri": "https://localhost:8080/"
        }
      },
      "source": [
        "# Chuyển string thành một số nguyên\n",
        "\n",
        "int('1')"
      ],
      "execution_count": 26,
      "outputs": [
        {
          "output_type": "execute_result",
          "data": {
            "text/plain": [
              "1"
            ]
          },
          "metadata": {},
          "execution_count": 26
        }
      ]
    },
    {
      "cell_type": "markdown",
      "metadata": {
        "id": "zWC-VtgavEEV"
      },
      "source": [
        "<p> Nhưng nếu bạn cố gắng làm như vậy với một string không phải là một kết hợp hoàn hảo cho một số, bạn sẽ gặp lỗi. Hãy thử những cách sau: </p>\n"
      ]
    },
    {
      "cell_type": "code",
      "metadata": {
        "id": "XgGB2zCFvEEW",
        "outputId": "f6af4e0f-cb35-4929-a7eb-66e807363f08",
        "colab": {
          "base_uri": "https://localhost:8080/",
          "height": 183
        }
      },
      "source": [
        "# Chuyển string thành một số nguyên với lỗi\n",
        "int('1 or 2 people')"
      ],
      "execution_count": 27,
      "outputs": [
        {
          "output_type": "error",
          "ename": "ValueError",
          "evalue": "ignored",
          "traceback": [
            "\u001b[0;31m---------------------------------------------------------------------------\u001b[0m",
            "\u001b[0;31mValueError\u001b[0m                                Traceback (most recent call last)",
            "\u001b[0;32m<ipython-input-27-991dd283c4f5>\u001b[0m in \u001b[0;36m<cell line: 2>\u001b[0;34m()\u001b[0m\n\u001b[1;32m      1\u001b[0m \u001b[0;31m# Chuyển string thành một số nguyên với lỗi\u001b[0m\u001b[0;34m\u001b[0m\u001b[0;34m\u001b[0m\u001b[0m\n\u001b[0;32m----> 2\u001b[0;31m \u001b[0mint\u001b[0m\u001b[0;34m(\u001b[0m\u001b[0;34m'1 or 2 people'\u001b[0m\u001b[0;34m)\u001b[0m\u001b[0;34m\u001b[0m\u001b[0;34m\u001b[0m\u001b[0m\n\u001b[0m",
            "\u001b[0;31mValueError\u001b[0m: invalid literal for int() with base 10: '1 or 2 people'"
          ]
        }
      ]
    },
    {
      "cell_type": "markdown",
      "metadata": {
        "id": "HVFuSB39vEEW"
      },
      "source": [
        "<p> Bạn cũng có thể chuyển đổi các string chứa số dấu phẩy động thành các đối tượng <i> số thực</i>: </p>\n"
      ]
    },
    {
      "cell_type": "code",
      "metadata": {
        "id": "Y_SLI0lRvEEW",
        "outputId": "38781e36-3a3a-47e3-8224-120d48973505",
        "colab": {
          "base_uri": "https://localhost:8080/"
        }
      },
      "source": [
        "# Chuyển đổi string \"1.2\" thành một số thực\n",
        "\n",
        "float('1.2')"
      ],
      "execution_count": 28,
      "outputs": [
        {
          "output_type": "execute_result",
          "data": {
            "text/plain": [
              "1.2"
            ]
          },
          "metadata": {},
          "execution_count": 28
        }
      ]
    },
    {
      "cell_type": "markdown",
      "metadata": {
        "id": "coAyShP8vEEW"
      },
      "source": [
        "<hr/>\n",
        "<div class=\"alert alert-success alertsuccess\" style=\"margin-top: 20px\">\n",
        "    [Tip:] Lưu ý rằng các string có thể được biểu diễn bằng các dấu nháy đơn (<code>'1.2'</code>) hoặc dấu nháy đôi (<code>\"1.2\"</code>), nhưng bạn không thể kết hợp cả hai (ví dụ, <code>\"1.2'</code>).\n",
        "</div>\n",
        "<hr/>\n"
      ]
    },
    {
      "cell_type": "markdown",
      "metadata": {
        "id": "zXZu3TcbvEEW"
      },
      "source": [
        "<h4>Chuyển số thành string</h4>\n"
      ]
    },
    {
      "cell_type": "markdown",
      "metadata": {
        "id": "DNEwcovavEEX"
      },
      "source": [
        "\n",
        "<p>Nếu chúng ta có thể chuyển đổi string thành số, thì chúng ta cũng có thể chuyển đổi số thành string phải không?</p>\n"
      ]
    },
    {
      "cell_type": "code",
      "metadata": {
        "id": "VX2dZznjvEEX",
        "outputId": "23b821cd-6cfc-4bf9-b0a8-3a2a56b07180",
        "colab": {
          "base_uri": "https://localhost:8080/",
          "height": 35
        }
      },
      "source": [
        "# Chuyển đổi số nguyên thành string\n",
        "\n",
        "str(1)\n"
      ],
      "execution_count": 29,
      "outputs": [
        {
          "output_type": "execute_result",
          "data": {
            "text/plain": [
              "'1'"
            ],
            "application/vnd.google.colaboratory.intrinsic+json": {
              "type": "string"
            }
          },
          "metadata": {},
          "execution_count": 29
        }
      ]
    },
    {
      "cell_type": "markdown",
      "metadata": {
        "id": "pGcjYSn3vEEX"
      },
      "source": [
        "<p>Và không có lý do gì chúng ta không thể biến số thực thành string:</p> \n"
      ]
    },
    {
      "cell_type": "code",
      "metadata": {
        "id": "jCrAJ0Y_vEEX",
        "outputId": "f1d73038-89b8-4595-8356-c6b16e456abd",
        "colab": {
          "base_uri": "https://localhost:8080/",
          "height": 35
        }
      },
      "source": [
        "# Chuyển đổi thực thành string\n",
        "\n",
        "str(1.2)"
      ],
      "execution_count": 30,
      "outputs": [
        {
          "output_type": "execute_result",
          "data": {
            "text/plain": [
              "'1.2'"
            ],
            "application/vnd.google.colaboratory.intrinsic+json": {
              "type": "string"
            }
          },
          "metadata": {},
          "execution_count": 30
        }
      ]
    },
    {
      "cell_type": "markdown",
      "metadata": {
        "id": "_rCC8yhFvEEY"
      },
      "source": [
        "<h3 id=\"bool\">Kiểu dữ liệu Boolean</h3>\n"
      ]
    },
    {
      "cell_type": "markdown",
      "metadata": {
        "id": "uAWBWDfTvEEY"
      },
      "source": [
        "\n",
        "<p> <i> Boolean </i> là một kiểu dữ liệu quan trọng khác trong Python. Đối tượng kiểu <i> Boolean </i> có thể nhận một trong hai giá trị <code> True</code> hoặc <code> False</code>: </p>\n"
      ]
    },
    {
      "cell_type": "code",
      "metadata": {
        "id": "3Acj_YhpvEEY"
      },
      "source": [
        "# Giá trị True\n",
        "\n",
        "True"
      ],
      "execution_count": null,
      "outputs": []
    },
    {
      "cell_type": "markdown",
      "metadata": {
        "id": "3Ji5AqLqvEEY"
      },
      "source": [
        "<p> Lưu ý rằng giá trị <code> True </code> có chữ \"T\" viết hoa. Điều này cũng đúng với <code> False </code> (tức là bạn phải sử dụng chữ \"F\" viết hoa). </p>\n"
      ]
    },
    {
      "cell_type": "code",
      "metadata": {
        "id": "LwVL5CgtvEEY"
      },
      "source": [
        "# Giá trị False\n",
        "\n",
        "False"
      ],
      "execution_count": null,
      "outputs": []
    },
    {
      "cell_type": "markdown",
      "metadata": {
        "id": "m_W8vMddvEEY"
      },
      "source": [
        "\n",
        "<p> Khi bạn yêu cầu Python hiển thị kiểu đối tượng Boolean, nó sẽ hiển thị <code> bool</code> là viết tắt của <i> boolean</i>: </p>\n"
      ]
    },
    {
      "cell_type": "code",
      "metadata": {
        "id": "Sq-df8fZvEEZ",
        "outputId": "6a66e27e-79b9-4a71-ae3d-c95a2c89dee7",
        "colab": {
          "base_uri": "https://localhost:8080/"
        }
      },
      "source": [
        "# Kiểu của True\n",
        "\n",
        "type(True)"
      ],
      "execution_count": 32,
      "outputs": [
        {
          "output_type": "execute_result",
          "data": {
            "text/plain": [
              "bool"
            ]
          },
          "metadata": {},
          "execution_count": 32
        }
      ]
    },
    {
      "cell_type": "code",
      "metadata": {
        "id": "GbbZoKBFvEEZ",
        "outputId": "9ac52410-9369-4ff4-bbee-b10d6f2a48e0",
        "colab": {
          "base_uri": "https://localhost:8080/"
        }
      },
      "source": [
        "# Kiểu của False\n",
        "\n",
        "type(False)"
      ],
      "execution_count": 31,
      "outputs": [
        {
          "output_type": "execute_result",
          "data": {
            "text/plain": [
              "bool"
            ]
          },
          "metadata": {},
          "execution_count": 31
        }
      ]
    },
    {
      "cell_type": "markdown",
      "metadata": {
        "id": "p_NU8WKuvEEZ"
      },
      "source": [
        "<p> Chúng ta có thể chuyển đối tượng boolean sang các kiểu dữ liệu khác. Nếu chúng ta chuyển kiểu boolean có giá trị <code> True</code> thành một số nguyên hoặc số thực, chúng ta sẽ nhận được 1. Nếu chuyển kiểu boolean có giá trị <code> False </code> thành một số nguyên hoặc số thực, chúng ta sẽ nhận được 0. Tương tự, nếu chúng ta chuyển 1 thành Boolean, bạn sẽ nhận được <code> True</code>. Và nếu chúng ta chuyển 0 thành Boolean, chúng ta sẽ nhận được <code> False</code>. Hãy thử xem: </p>\n"
      ]
    },
    {
      "cell_type": "code",
      "metadata": {
        "id": "-cAwX__OvEEZ",
        "outputId": "a04e9127-2dad-42a6-effe-ceafa0440f9a",
        "colab": {
          "base_uri": "https://localhost:8080/"
        }
      },
      "source": [
        "# Chuyển True thành int\n",
        "\n",
        "int(True)"
      ],
      "execution_count": 33,
      "outputs": [
        {
          "output_type": "execute_result",
          "data": {
            "text/plain": [
              "1"
            ]
          },
          "metadata": {},
          "execution_count": 33
        }
      ]
    },
    {
      "cell_type": "code",
      "metadata": {
        "id": "bkoG9XC5vEEZ",
        "outputId": "d9cc33c3-50e7-4a76-b5e0-fbd94e520d4f",
        "colab": {
          "base_uri": "https://localhost:8080/"
        }
      },
      "source": [
        "# Chuyển 1 thành boolean\n",
        "\n",
        "bool(1)"
      ],
      "execution_count": 34,
      "outputs": [
        {
          "output_type": "execute_result",
          "data": {
            "text/plain": [
              "True"
            ]
          },
          "metadata": {},
          "execution_count": 34
        }
      ]
    },
    {
      "cell_type": "code",
      "metadata": {
        "id": "VX6AvFWuvEEZ",
        "outputId": "3058fa01-1b63-47dc-e1da-c9d3a11dd4d0",
        "colab": {
          "base_uri": "https://localhost:8080/"
        }
      },
      "source": [
        "# Chuyển 0 thành boolean\n",
        "\n",
        "bool(0)"
      ],
      "execution_count": 36,
      "outputs": [
        {
          "output_type": "execute_result",
          "data": {
            "text/plain": [
              "False"
            ]
          },
          "metadata": {},
          "execution_count": 36
        }
      ]
    },
    {
      "cell_type": "code",
      "metadata": {
        "id": "MSc3T4xcvEEa",
        "outputId": "49d7de3e-ceb4-4d53-d8a8-03f5983ce217",
        "colab": {
          "base_uri": "https://localhost:8080/"
        }
      },
      "source": [
        "# Chuyển True thành float\n",
        "\n",
        "float(True)"
      ],
      "execution_count": 35,
      "outputs": [
        {
          "output_type": "execute_result",
          "data": {
            "text/plain": [
              "1.0"
            ]
          },
          "metadata": {},
          "execution_count": 35
        }
      ]
    },
    {
      "cell_type": "markdown",
      "metadata": {
        "id": "bWolNRzcvEEa"
      },
      "source": [
        "<h3 id=\"exer_type\">Exercise: Các kiểu dữ liệu</h3>\n"
      ]
    },
    {
      "cell_type": "markdown",
      "metadata": {
        "id": "LKJxpuW6vEEa"
      },
      "source": [
        "<p>Kiểu dữ liệu của kết quả sau là: <code>6 / 2</code>?</p>\n"
      ]
    },
    {
      "cell_type": "code",
      "metadata": {
        "id": "OaTohWHovEEa",
        "outputId": "0191b772-700c-4621-b092-6b98d9935bd2",
        "colab": {
          "base_uri": "https://localhost:8080/"
        }
      },
      "source": [
        "# Viêt code của bạn xuống dưới đây. Đừng quên ấn Shift+Enter để thực thi code\n",
        "type(6/2)"
      ],
      "execution_count": 37,
      "outputs": [
        {
          "output_type": "execute_result",
          "data": {
            "text/plain": [
              "float"
            ]
          },
          "metadata": {},
          "execution_count": 37
        }
      ]
    },
    {
      "cell_type": "markdown",
      "metadata": {
        "id": "4i2Zyy8JvEEa"
      },
      "source": [
        "<details><summary>Click vào đây để xem lời giải</summary>\n",
        "\n",
        "```python\n",
        "type(6/2) # float\n",
        "\n",
        "```\n",
        "\n",
        "</details>\n"
      ]
    },
    {
      "cell_type": "markdown",
      "metadata": {
        "id": "jARV1IvbvEEb"
      },
      "source": [
        "<p>Kiểu dữ liệu của kết quả sau là: <code>6 // 2</code>? (Chú ý dấu <code>//</code>.)</p>\n"
      ]
    },
    {
      "cell_type": "code",
      "metadata": {
        "id": "SpWQD6AMvEEb",
        "outputId": "a0200e14-f77f-4108-8190-76bb3dfe536a",
        "colab": {
          "base_uri": "https://localhost:8080/"
        }
      },
      "source": [
        "# Viêt code của bạn xuống dưới đây. Đừng quên ấn Shift+Enter để thực thi code\n",
        "type(6//2)"
      ],
      "execution_count": 38,
      "outputs": [
        {
          "output_type": "execute_result",
          "data": {
            "text/plain": [
              "int"
            ]
          },
          "metadata": {},
          "execution_count": 38
        }
      ]
    },
    {
      "cell_type": "markdown",
      "metadata": {
        "id": "nC6NUyvuvEEb"
      },
      "source": [
        "<details><summary>Click vào đây để xem lời giải</summary>\n",
        "\n",
        "```python\n",
        "type(6//2) # int, as the double slashes stand for integer division \n",
        "\n",
        "```\n",
        "\n",
        "</details>\n"
      ]
    },
    {
      "cell_type": "markdown",
      "metadata": {
        "id": "UgajNHlevEEb"
      },
      "source": [
        "<hr>\n"
      ]
    },
    {
      "cell_type": "markdown",
      "metadata": {
        "id": "jIXwdMNAvEEb"
      },
      "source": [
        "<h2 id=\"expressions\">Biểu thức và biến</h2>\n"
      ]
    },
    {
      "cell_type": "markdown",
      "metadata": {
        "id": "ehLf1izZvEEb"
      },
      "source": [
        "<h3 id=\"exp\">Biểu thức</h3>\n"
      ]
    },
    {
      "cell_type": "markdown",
      "metadata": {
        "id": "5NBiBZ-PvEEc"
      },
      "source": [
        "<p> Các biểu thức trong Python có thể gồm các phép toán của các kiểu tương thích (ví dụ: số nguyên và số thực). Ví dụ: các phép toán số học cơ bản như cộng nhiều số: </p>"
      ]
    },
    {
      "cell_type": "code",
      "metadata": {
        "id": "WWovHbhFvEEc",
        "outputId": "8cf2b406-e519-460c-f4a6-006cca81860c",
        "colab": {
          "base_uri": "https://localhost:8080/"
        }
      },
      "source": [
        "# Biểu thức phép cộng\n",
        "\n",
        "43 + 60 + 16 + 41"
      ],
      "execution_count": 39,
      "outputs": [
        {
          "output_type": "execute_result",
          "data": {
            "text/plain": [
              "160"
            ]
          },
          "metadata": {},
          "execution_count": 39
        }
      ]
    },
    {
      "cell_type": "markdown",
      "metadata": {
        "id": "HI6brLuwvEEc"
      },
      "source": [
        "\n",
        "<p> Chúng ta có thể thực hiện các phép tính trừ bằng toán tử trừ. Trong trường hợp này, kết quả là một số âm: </p>\n"
      ]
    },
    {
      "cell_type": "code",
      "metadata": {
        "id": "srTMc7TAvEEc",
        "outputId": "99d2e348-73d0-4ea2-8d2f-58e51e9f6412",
        "colab": {
          "base_uri": "https://localhost:8080/"
        }
      },
      "source": [
        "# Biểu thức phép trừ\n",
        "\n",
        "50 - 60"
      ],
      "execution_count": 40,
      "outputs": [
        {
          "output_type": "execute_result",
          "data": {
            "text/plain": [
              "-10"
            ]
          },
          "metadata": {},
          "execution_count": 40
        }
      ]
    },
    {
      "cell_type": "markdown",
      "metadata": {
        "id": "eNczp-0RvEEc"
      },
      "source": [
        "<p>Chúng ta có thể thực hiện phép nhân sử dụng dấu hoa thị: </p>"
      ]
    },
    {
      "cell_type": "code",
      "metadata": {
        "id": "FmT_d4CGvEEd",
        "outputId": "43bc3c15-46b3-4697-c4c8-f91ebb4ff1f6",
        "colab": {
          "base_uri": "https://localhost:8080/"
        }
      },
      "source": [
        "# Biểu thức phép nhân\n",
        "\n",
        "5 * 5"
      ],
      "execution_count": 41,
      "outputs": [
        {
          "output_type": "execute_result",
          "data": {
            "text/plain": [
              "25"
            ]
          },
          "metadata": {},
          "execution_count": 41
        }
      ]
    },
    {
      "cell_type": "markdown",
      "metadata": {
        "id": "V6PQcc9JvEEd"
      },
      "source": [
        "<p>Chúng ta cũng có thể thực hiện phép chia bằng dấu gạch chéo:\n"
      ]
    },
    {
      "cell_type": "code",
      "metadata": {
        "id": "fI5D2c_svEEd",
        "outputId": "d6ed6223-3dd1-4acb-a0fd-accf60ce0e8e",
        "colab": {
          "base_uri": "https://localhost:8080/"
        }
      },
      "source": [
        "# Biểu thức phép chia\n",
        "\n",
        "25 / 5"
      ],
      "execution_count": 42,
      "outputs": [
        {
          "output_type": "execute_result",
          "data": {
            "text/plain": [
              "5.0"
            ]
          },
          "metadata": {},
          "execution_count": 42
        }
      ]
    },
    {
      "cell_type": "code",
      "metadata": {
        "id": "HqULSXfcvEEd",
        "outputId": "772b6cd9-5ad4-4d14-ffd1-fefa4c430abe",
        "colab": {
          "base_uri": "https://localhost:8080/"
        }
      },
      "source": [
        "# Biểu thức phép chia\n",
        "\n",
        "25 / 6"
      ],
      "execution_count": 43,
      "outputs": [
        {
          "output_type": "execute_result",
          "data": {
            "text/plain": [
              "4.166666666666667"
            ]
          },
          "metadata": {},
          "execution_count": 43
        }
      ]
    },
    {
      "cell_type": "markdown",
      "metadata": {
        "id": "j9di2FlMvEEd"
      },
      "source": [
        "\n",
        "<p> Như đã thấy ở quiz ở trên, chúng ta có thể sử dụng dấu gạch chéo kép để chia số nguyên, trong đó kết quả được làm tròn tới số nguyên gần nhất:"
      ]
    },
    {
      "cell_type": "code",
      "metadata": {
        "id": "B8X8ub_AvEEe",
        "outputId": "d6938a5d-4ffa-4228-ede0-59232b130421",
        "colab": {
          "base_uri": "https://localhost:8080/"
        }
      },
      "source": [
        "# Biểu thức phép chia số nguyên\n",
        "\n",
        "25 // 5"
      ],
      "execution_count": 44,
      "outputs": [
        {
          "output_type": "execute_result",
          "data": {
            "text/plain": [
              "5"
            ]
          },
          "metadata": {},
          "execution_count": 44
        }
      ]
    },
    {
      "cell_type": "code",
      "metadata": {
        "id": "oSaotm3CvEEe",
        "outputId": "c2d06184-8c09-49e2-edb1-a8c06ea7d469",
        "colab": {
          "base_uri": "https://localhost:8080/"
        }
      },
      "source": [
        "# Biểu thức phép chia số nguyên\n",
        "\n",
        "25 // 6"
      ],
      "execution_count": 45,
      "outputs": [
        {
          "output_type": "execute_result",
          "data": {
            "text/plain": [
              "4"
            ]
          },
          "metadata": {},
          "execution_count": 45
        }
      ]
    },
    {
      "cell_type": "markdown",
      "metadata": {
        "id": "c5g4x-c-vEEe"
      },
      "source": [
        "<h3 id=\"exer_exp\">Exercise: Biểu thức</h3>\n"
      ]
    },
    {
      "cell_type": "markdown",
      "metadata": {
        "id": "Oe5ol9vrvEEe"
      },
      "source": [
        "\n",
        "<p> Hãy viết biểu thức tính xem có bao nhiêu giờ trong 160 phút:"
      ]
    },
    {
      "cell_type": "code",
      "metadata": {
        "id": "2fnVNBvqvEEe",
        "outputId": "53c41948-cf7f-4c7c-e08b-7449501bdc35",
        "colab": {
          "base_uri": "https://localhost:8080/"
        }
      },
      "source": [
        "# Viêt code của bạn xuống dưới đây. Đừng quên ấn Shift+Enter để thực thi code\n",
        "h = 160;\n",
        "print('Số Giờ Trong '+ str(h) + \": \" + str(160//60) + ' Giờ')\n"
      ],
      "execution_count": 50,
      "outputs": [
        {
          "output_type": "stream",
          "name": "stdout",
          "text": [
            "Số Giờ Trong 160: 2 Giờ\n"
          ]
        }
      ]
    },
    {
      "cell_type": "markdown",
      "metadata": {
        "id": "nyuSUTLmvEEe"
      },
      "source": [
        "<details><summary>Click vào đây để xem lời giải</summary>\n",
        "\n",
        "```python\n",
        "160/60 \n",
        "\n",
        "# Or \n",
        "\n",
        "160//60\n",
        "\n",
        "```\n",
        "\n",
        "</details>\n"
      ]
    },
    {
      "cell_type": "markdown",
      "metadata": {
        "id": "4lmxoNvQvEEf"
      },
      "source": [
        "\n",
        "<p> Python tuân theo các quy ước toán học được thống nhất khi xét các biểu thức toán học. Trong ví dụ sau, Python thêm 30 vào kết quả của phép nhân (tức là 120).\n"
      ]
    },
    {
      "cell_type": "code",
      "metadata": {
        "id": "OBvR3osGvEEf",
        "outputId": "0ba76618-6701-4c52-c350-fe90a3478f11",
        "colab": {
          "base_uri": "https://localhost:8080/"
        }
      },
      "source": [
        "# Biểu thức toán học\n",
        "\n",
        "30 + 2 * 60"
      ],
      "execution_count": 51,
      "outputs": [
        {
          "output_type": "execute_result",
          "data": {
            "text/plain": [
              "150"
            ]
          },
          "metadata": {},
          "execution_count": 51
        }
      ]
    },
    {
      "cell_type": "markdown",
      "metadata": {
        "id": "U8j5CdFqvEEf"
      },
      "source": [
        "\n",
        "<p> Và cũng giống như toán học, các biểu thức được đặt trong dấu ngoặc đơn được ưu tiên thực hiện trước. Vì vậy, sau đây nhân 32 với 60.\n"
      ]
    },
    {
      "cell_type": "code",
      "metadata": {
        "id": "GOfP6_r_vEEf",
        "outputId": "d67589ec-ee22-464e-ec46-a9a7e407e16d",
        "colab": {
          "base_uri": "https://localhost:8080/"
        }
      },
      "source": [
        "# Biểu thức toán học\n",
        "\n",
        "(30 + 2) * 60"
      ],
      "execution_count": 52,
      "outputs": [
        {
          "output_type": "execute_result",
          "data": {
            "text/plain": [
              "1920"
            ]
          },
          "metadata": {},
          "execution_count": 52
        }
      ]
    },
    {
      "cell_type": "markdown",
      "metadata": {
        "id": "ZjmDeJtqvEEf"
      },
      "source": [
        "<h3 id=\"var\">Biến</h3>\n"
      ]
    },
    {
      "cell_type": "markdown",
      "metadata": {
        "id": "emBBGMntvEEf"
      },
      "source": [
        "\n",
        "<p> Cũng giống như với hầu hết các ngôn ngữ lập trình, chúng ta có thể lưu trữ các giá trị trong <i> biến</i> để có thể sử dụng chúng sau này. Ví dụ: </p>"
      ]
    },
    {
      "cell_type": "code",
      "metadata": {
        "id": "avhwclAsvEEg"
      },
      "source": [
        "# Lưu trữ giá trị trong biến\n",
        "\n",
        "x = 43 + 60 + 16 + 41"
      ],
      "execution_count": 53,
      "outputs": []
    },
    {
      "cell_type": "markdown",
      "metadata": {
        "id": "wo6oxnyxvEEg"
      },
      "source": [
        "\n",
        "<p> Để xem giá trị của <code> x</code> trong Notebook, chúng ta chỉ cần đặt nó vào dòng cuối cùng của cell: </p>\n"
      ]
    },
    {
      "cell_type": "code",
      "metadata": {
        "id": "1wOwCeWCvEEg",
        "outputId": "0e66fa5c-50dc-450a-b9e2-9ad900bb861d",
        "colab": {
          "base_uri": "https://localhost:8080/"
        }
      },
      "source": [
        "# In ra giá trị trong biến\n",
        "\n",
        "x"
      ],
      "execution_count": 54,
      "outputs": [
        {
          "output_type": "execute_result",
          "data": {
            "text/plain": [
              "160"
            ]
          },
          "metadata": {},
          "execution_count": 54
        }
      ]
    },
    {
      "cell_type": "markdown",
      "metadata": {
        "id": "NjSGPXu3vEEg"
      },
      "source": [
        "<p> Chúng ta cũng có thể thực hiện các phép toán trên <code> x</code> và lưu kết quả vào một biến mới: </p>\n"
      ]
    },
    {
      "cell_type": "code",
      "metadata": {
        "id": "_834ZifzvEEh",
        "outputId": "5f188a47-ce00-4392-a47b-b400039dc10c",
        "colab": {
          "base_uri": "https://localhost:8080/"
        }
      },
      "source": [
        "# Sử dụng một biến khác để lưu kết quả của phép toán giữa biến và giá trị\n",
        "\n",
        "y = x / 60\n",
        "y"
      ],
      "execution_count": 55,
      "outputs": [
        {
          "output_type": "execute_result",
          "data": {
            "text/plain": [
              "2.6666666666666665"
            ]
          },
          "metadata": {},
          "execution_count": 55
        }
      ]
    },
    {
      "cell_type": "markdown",
      "metadata": {
        "id": "UXdJtqdivEEh"
      },
      "source": [
        "<p> Nếu chúng ta lưu giá trị vào một biến hiện có, giá trị mới sẽ ghi đè lên giá trị trước đó: </p>\n"
      ]
    },
    {
      "cell_type": "code",
      "metadata": {
        "id": "8YKWejvevEEh",
        "outputId": "1a8180bc-c3ee-49d1-dd7a-63bfd926b021",
        "colab": {
          "base_uri": "https://localhost:8080/"
        }
      },
      "source": [
        "# Ghi đè biến với giá trị mới\n",
        "\n",
        "x = x / 60\n",
        "x"
      ],
      "execution_count": 56,
      "outputs": [
        {
          "output_type": "execute_result",
          "data": {
            "text/plain": [
              "2.6666666666666665"
            ]
          },
          "metadata": {},
          "execution_count": 56
        }
      ]
    },
    {
      "cell_type": "markdown",
      "metadata": {
        "id": "JW3zFyqevEEi"
      },
      "source": [
        "<p> Có một cách hay là sử dụng các tên biến có ý nghĩa để bạn và những người khác có thể đọc và hiểu code dễ dàng hơn: </p>\n"
      ]
    },
    {
      "cell_type": "code",
      "metadata": {
        "id": "Cgx0UhGQvEEi",
        "outputId": "4e72cfdc-2e21-4509-dc76-02502d7f8f9c",
        "colab": {
          "base_uri": "https://localhost:8080/"
        }
      },
      "source": [
        "# Đặt tên biến có ý nghĩa\n",
        "\n",
        "total_min = 43 + 42 + 57 # Tổng thời gian của album tính theo phút\n",
        "total_min"
      ],
      "execution_count": 57,
      "outputs": [
        {
          "output_type": "execute_result",
          "data": {
            "text/plain": [
              "142"
            ]
          },
          "metadata": {},
          "execution_count": 57
        }
      ]
    },
    {
      "cell_type": "code",
      "metadata": {
        "id": "UWmZhJV4vEEi",
        "outputId": "fd43c098-b54f-4824-ea18-d77937992f6d",
        "colab": {
          "base_uri": "https://localhost:8080/"
        }
      },
      "source": [
        "# Đặt tên biến có ý nghĩa\n",
        "\n",
        "total_hours = total_min / 60 # Tổng thời gian của album tính theo giờ\n",
        "total_hours"
      ],
      "execution_count": 58,
      "outputs": [
        {
          "output_type": "execute_result",
          "data": {
            "text/plain": [
              "2.3666666666666667"
            ]
          },
          "metadata": {},
          "execution_count": 58
        }
      ]
    },
    {
      "cell_type": "markdown",
      "metadata": {
        "id": "ftr884cnvEEi"
      },
      "source": [
        "\n",
        "<p> Trong các cell ở trên, chúng ta đã thêm thời lượng của 3 album tính bằng phút và lưu trữ nó trong <code> total_min</code>. Sau đó, chúng ta chia nó cho 60 để tính tổng thời lượng <code> total_hours </code> theo giờ. Bạn cũng có thể thực hiện tất cả cùng một lúc trong một biểu thức, miễn là bạn sử dụng dấu ngoặc đơn để thêm độ dài album trước khi chia, như minh họa bên dưới. </p>\n"
      ]
    },
    {
      "cell_type": "code",
      "metadata": {
        "id": "2wryyELTvEEj",
        "outputId": "f8b4b6d0-a0c4-4d6d-abf6-0b48f7d8f56b",
        "colab": {
          "base_uri": "https://localhost:8080/"
        }
      },
      "source": [
        "# Biểu thức phức tạp\n",
        "\n",
        "total_hours = (43 + 42 + 57) / 60  # Tổng số giờ trong một biểu thức duy nhất\n",
        "total_hours"
      ],
      "execution_count": 59,
      "outputs": [
        {
          "output_type": "execute_result",
          "data": {
            "text/plain": [
              "2.3666666666666667"
            ]
          },
          "metadata": {},
          "execution_count": 59
        }
      ]
    },
    {
      "cell_type": "markdown",
      "metadata": {
        "id": "YmBfDsyuvEEj"
      },
      "source": [
        "\n",
        "<p> Nếu bạn muốn có tổng số giờ dưới dạng số nguyên, tất nhiên bạn có thể thay thế phép chia dấu phẩy động bằng phép chia số nguyên (tức là <code> //</code>). </p>\n"
      ]
    },
    {
      "cell_type": "markdown",
      "metadata": {
        "id": "ybSr9zQcvEEj"
      },
      "source": [
        "<h3 id=\"exer_exp_var\">Exercise: Biểu thức và Biến trong Python</h3>\n"
      ]
    },
    {
      "cell_type": "markdown",
      "metadata": {
        "id": "sKx21u2yvEEj"
      },
      "source": [
        "<p>Giá trị của <code>x</code> trong <code>x = 3 + 2 * 2</code> là gì?</p>\n"
      ]
    },
    {
      "cell_type": "code",
      "metadata": {
        "id": "9gEZPkH7vEEj",
        "outputId": "5efd85ff-aff5-463e-dbdf-8f2ca89b5be0",
        "colab": {
          "base_uri": "https://localhost:8080/"
        }
      },
      "source": [
        "# Viêt code của bạn xuống dưới đây. Đừng quên ấn Shift+Enter để thực thi code\n",
        "x = 3 + 2 * 2\n",
        "print(x)"
      ],
      "execution_count": 60,
      "outputs": [
        {
          "output_type": "stream",
          "name": "stdout",
          "text": [
            "7\n"
          ]
        }
      ]
    },
    {
      "cell_type": "markdown",
      "metadata": {
        "id": "Yz37BZVnvEEj"
      },
      "source": [
        "<details><summary>Click vào đây để xem lời giải</summary>\n",
        "\n",
        "```python\n",
        "7\n",
        "\n",
        "```\n",
        "\n",
        "</details>\n"
      ]
    },
    {
      "cell_type": "markdown",
      "metadata": {
        "id": "jO9lwLJ6vEEk"
      },
      "source": [
        "<p>Giá trị của <code>y</code> trong <code>y = (3 + 2) * 2</code> là gì?</p>\n"
      ]
    },
    {
      "cell_type": "code",
      "metadata": {
        "id": "gicGOhIHvEEk",
        "outputId": "6de95e60-edf1-4559-f0bd-286ad4ddaecf",
        "colab": {
          "base_uri": "https://localhost:8080/"
        }
      },
      "source": [
        "# Viêt code của bạn xuống dưới đây. Đừng quên ấn Shift+Enter để thực thi code\n",
        "y = (3 + 2) * 2\n",
        "print(y)"
      ],
      "execution_count": 61,
      "outputs": [
        {
          "output_type": "stream",
          "name": "stdout",
          "text": [
            "10\n"
          ]
        }
      ]
    },
    {
      "cell_type": "markdown",
      "metadata": {
        "id": "PqsWCz5NvEEk"
      },
      "source": [
        "<details><summary>Click vào đây để xem lời giải</summary>\n",
        "\n",
        "```python\n",
        "10\n",
        "\n",
        "```\n",
        "\n",
        "</details>\n"
      ]
    },
    {
      "cell_type": "markdown",
      "metadata": {
        "id": "JYM7Fg07vEEk"
      },
      "source": [
        "<p>Giá trị của <code>z</code> trong <code>z = x + y</code> là gì?</p>\n"
      ]
    },
    {
      "cell_type": "code",
      "metadata": {
        "id": "GCL7QEb0vEEk",
        "outputId": "a011f050-2736-459d-82e1-139273892a91",
        "colab": {
          "base_uri": "https://localhost:8080/"
        }
      },
      "source": [
        "# Viêt code của bạn xuống dưới đây. Đừng quên ấn Shift+Enter để thực thi code\n",
        "z = x + y\n",
        "print(z)"
      ],
      "execution_count": 62,
      "outputs": [
        {
          "output_type": "stream",
          "name": "stdout",
          "text": [
            "17\n"
          ]
        }
      ]
    },
    {
      "cell_type": "markdown",
      "metadata": {
        "id": "CRZHNtVnvEEk"
      },
      "source": [
        "<details><summary>Click vào đây để xem lời giải</summary>\n",
        "\n",
        "```python\n",
        "17\n",
        "\n",
        "```\n",
        "\n",
        "</details>\n"
      ]
    }
  ]
}