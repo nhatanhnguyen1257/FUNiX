{
  "nbformat": 4,
  "nbformat_minor": 0,
  "metadata": {
    "kernelspec": {
      "display_name": "Python 3",
      "language": "python",
      "name": "python3"
    },
    "language_info": {
      "codemirror_mode": {
        "name": "ipython",
        "version": 3
      },
      "file_extension": ".py",
      "mimetype": "text/x-python",
      "name": "python",
      "nbconvert_exporter": "python",
      "pygments_lexer": "ipython3",
      "version": "3.7.6"
    },
    "colab": {
      "provenance": []
    }
  },
  "cells": [
    {
      "cell_type": "markdown",
      "metadata": {
        "id": "VV-3U7qc_ZV5"
      },
      "source": [
        "# Vòng lặp trong Python\n",
        "\n",
        "Thời lượng ước tính: **20** phút\n",
        "\n",
        "## Mục tiêu\n",
        "\n",
        "Sau khi hoàn thành lab này, bạn sẽ có thể:\n",
        "\n",
        "-  Làm việc với các câu lệnh vòng lặp trong Python, gồm vòng lặp for và vòng lặp while.\n"
      ]
    },
    {
      "cell_type": "markdown",
      "metadata": {
        "id": "Bogkt9mb_ZWH"
      },
      "source": [
        "##<h2>Mục lục</h2>\n",
        "<div class=\"alert alert-block alert-info\" style=\"margin-top: 20px\">\n",
        "    <ul>\n",
        "        <li>\n",
        "            <a href=\"#loop\">Vòng lặp</a>\n",
        "            <ul>\n",
        "                <li><a href=\"range\">Range</a></li>\n",
        "                <li><a href=\"for\">Vòng lặp <code>for</code> là gì?</a></li>\n",
        "                <li><a href=\"while\">Vòng lặp <code>while</code> là gì?</a></li>\n",
        "            </ul>\n",
        "        </li>\n",
        "        <li>\n",
        "            <a href=\"#quiz\">Quiz về vòng lặp</a>\n",
        "        </li>\n",
        "    </ul>\n",
        "\n",
        "</div>\n",
        "\n",
        "<hr>\n"
      ]
    },
    {
      "cell_type": "markdown",
      "metadata": {
        "id": "tBmn145j_ZWH"
      },
      "source": [
        "##<h2 id=\"loop\">Vòng lặp</h2>\n"
      ]
    },
    {
      "cell_type": "markdown",
      "metadata": {
        "id": "lD3fO0ms_ZWI"
      },
      "source": [
        "##<h3 id=\"range\">Range</h3>\n"
      ]
    },
    {
      "cell_type": "markdown",
      "metadata": {
        "id": "Oj9u6ufA_ZWI"
      },
      "source": [
        "Đôi khi bạn muốn lặp lại một thao tác nhất định nhiều lần. Những lần thực thi lặp đi lặp lại như thế này được thực hiện bởi các <b> vòng lặp</b>. Chúng ta sẽ xem xét 2 loại vòng lặp: vòng lặp <code> for</code> và vòng lặp <code> while</code>.\n",
        "\n",
        "Trước khi nói về vòng lặp, chúng ta hãy thảo luận về đối tượng <code> range</code>. Hãy coi range như một danh sách có thứ tự. Còn bây giờ, chúng ta hãy xem xét trường hợp đơn giản nhất. Nếu muốn tạo một đối tượng có chứa các phần tử được sắp xếp từ 0 đến 2, chúng ta chỉ cần sử dụng lệnh sau:"
      ]
    },
    {
      "cell_type": "code",
      "metadata": {
        "id": "oLZbgH70_ZWI",
        "outputId": "0059350f-20a9-47be-dfd1-65f57938f453",
        "colab": {
          "base_uri": "https://localhost:8080/"
        }
      },
      "source": [
        "# Sử dụng range\n",
        "\n",
        "range(3)"
      ],
      "execution_count": 1,
      "outputs": [
        {
          "output_type": "execute_result",
          "data": {
            "text/plain": [
              "range(0, 3)"
            ]
          },
          "metadata": {},
          "execution_count": 1
        }
      ]
    },
    {
      "cell_type": "markdown",
      "metadata": {
        "id": "ObuzEpAy_ZWJ"
      },
      "source": [
        "<img src=\"https://cf-courses-data.s3.us.cloud-object-storage.appdomain.cloud/IBMDeveloperSkillsNetwork-PY0101EN-SkillsNetwork/labs/Module%203/images/range.PNG\" width=\"300\" />\n"
      ]
    },
    {
      "cell_type": "markdown",
      "metadata": {
        "id": "7-le90ax_ZWK"
      },
      "source": [
        "**_LƯU Ý: Trong Python 2.x, sẽ trả về một list như đã thấy trong các video bài học, trong 3.x, nó trả về đối tượng range._**"
      ]
    },
    {
      "cell_type": "markdown",
      "metadata": {
        "id": "wGtEA4V3_ZWK"
      },
      "source": [
        "##<h3 id=\"for\">Vòng lặp <code>for</code> là gì?</h3>\n"
      ]
    },
    {
      "cell_type": "markdown",
      "metadata": {
        "id": "ibUITdkk_ZWK"
      },
      "source": [
        "Vòng lặp <code> for</code> cho phép bạn thực thi một khối code nhiều lần. Ví dụ, bạn sẽ dùng nó nếu bạn muốn in ra mọi phần tử trong một list.\n",
        "\n",
        "Hãy thử dùng vòng lặp <code> for</code> để in tất cả các năm được trình bày trong list <code> date </code>:\n"
      ]
    },
    {
      "cell_type": "markdown",
      "metadata": {
        "id": "WHga_X9r_ZWL"
      },
      "source": [
        "Điều này có thể thực hiện như sau:"
      ]
    },
    {
      "cell_type": "code",
      "metadata": {
        "id": "nGZ6zwt8_ZWL",
        "outputId": "08f6d7d3-45d3-47c4-9c47-0cafc93e5642",
        "colab": {
          "base_uri": "https://localhost:8080/"
        }
      },
      "source": [
        "# Ví dụ vòng lặp for\n",
        "\n",
        "dates = [1982,1980,1973]\n",
        "N = len(dates)\n",
        "\n",
        "for i in range(N):\n",
        "    print(dates[i])     "
      ],
      "execution_count": 2,
      "outputs": [
        {
          "output_type": "stream",
          "name": "stdout",
          "text": [
            "1982\n",
            "1980\n",
            "1973\n"
          ]
        }
      ]
    },
    {
      "cell_type": "markdown",
      "metadata": {
        "id": "H7mVlHGV_ZWL"
      },
      "source": [
        "Code sau thụt lề được thực thi <code> N</code> lần, giá trị của <code> i</code> được tăng lên 1 cho mỗi lần thực thi. Câu lệnh được thực thi để <code> in</code> ra giá trị trong list tại chỉ mục <code> i</code> như được hiển thị ở đây:"
      ]
    },
    {
      "cell_type": "markdown",
      "metadata": {
        "id": "spubMPZ2_ZWL"
      },
      "source": [
        "<img src=\"https://cf-courses-data.s3.us.cloud-object-storage.appdomain.cloud/IBMDeveloperSkillsNetwork-PY0101EN-SkillsNetwork/labs/Module%203/images/LoopsForRange.gif\" width=\"800\" />\n"
      ]
    },
    {
      "cell_type": "markdown",
      "metadata": {
        "id": "ebfkUjU-_ZWM"
      },
      "source": [
        "Trong ví dụ này, chúng ta có thể in ra một dãy số từ 0 đến 7:"
      ]
    },
    {
      "cell_type": "code",
      "metadata": {
        "id": "8gvZ93az_ZWM",
        "outputId": "4968accf-7652-48fd-c0a7-88cf72f9290d",
        "colab": {
          "base_uri": "https://localhost:8080/"
        }
      },
      "source": [
        "# Ví dụ về vòng lặp for\n",
        "\n",
        "for i in range(0, 8):\n",
        "    print(i)"
      ],
      "execution_count": 3,
      "outputs": [
        {
          "output_type": "stream",
          "name": "stdout",
          "text": [
            "0\n",
            "1\n",
            "2\n",
            "3\n",
            "4\n",
            "5\n",
            "6\n",
            "7\n"
          ]
        }
      ]
    },
    {
      "cell_type": "markdown",
      "metadata": {
        "id": "fjZuwpt4_ZWM"
      },
      "source": [
        "Trong Python, chúng ta có thể truy cập trực tiếp các phần tử trong list như sau:"
      ]
    },
    {
      "cell_type": "code",
      "metadata": {
        "id": "w4UnrlFs_ZWM",
        "outputId": "1c189b78-fa69-4664-e154-ec4a5e19c70a",
        "colab": {
          "base_uri": "https://localhost:8080/"
        }
      },
      "source": [
        "# Ví dụ về vòng lặp for lặp qua list\n",
        "\n",
        "for year in dates:  \n",
        "    print(year)   "
      ],
      "execution_count": 4,
      "outputs": [
        {
          "output_type": "stream",
          "name": "stdout",
          "text": [
            "1982\n",
            "1980\n",
            "1973\n"
          ]
        }
      ]
    },
    {
      "cell_type": "markdown",
      "metadata": {
        "id": "YDzoOLre_ZWN"
      },
      "source": [
        "Đối với mỗi lần lặp, giá trị của biến <code> years</code> hoạt động giống như giá trị của <code> dates[i]</code> trong ví dụ đầu tiên:"
      ]
    },
    {
      "cell_type": "markdown",
      "metadata": {
        "id": "DMUYgZtw_ZWN"
      },
      "source": [
        "<img src=\"https://cf-courses-data.s3.us.cloud-object-storage.appdomain.cloud/IBMDeveloperSkillsNetwork-PY0101EN-SkillsNetwork/labs/Module%203/images/LoopsForList.gif\" width=\"800\">\n"
      ]
    },
    {
      "cell_type": "markdown",
      "metadata": {
        "id": "3-8lqvxk_ZWO"
      },
      "source": [
        "Chúng ta thay đổi các phần tử trong một list:"
      ]
    },
    {
      "cell_type": "code",
      "metadata": {
        "id": "COAUgqu6_ZWP",
        "outputId": "11d1e056-3c78-49b2-ca92-524655b59154",
        "colab": {
          "base_uri": "https://localhost:8080/"
        }
      },
      "source": [
        "# Sử dụng vòng lặp for để thay đổi phần tử trong list\n",
        "\n",
        "squares = ['red', 'yellow', 'green', 'purple', 'blue']\n",
        "\n",
        "for i in range(0, 5):\n",
        "    print(\"Before square \", i, 'is',  squares[i])\n",
        "    squares[i] = 'white'\n",
        "    print(\"After square \", i, 'is',  squares[i])"
      ],
      "execution_count": 5,
      "outputs": [
        {
          "output_type": "stream",
          "name": "stdout",
          "text": [
            "Before square  0 is red\n",
            "After square  0 is white\n",
            "Before square  1 is yellow\n",
            "After square  1 is white\n",
            "Before square  2 is green\n",
            "After square  2 is white\n",
            "Before square  3 is purple\n",
            "After square  3 is white\n",
            "Before square  4 is blue\n",
            "After square  4 is white\n"
          ]
        }
      ]
    },
    {
      "cell_type": "markdown",
      "metadata": {
        "id": "8sNyn2p5_ZWQ"
      },
      "source": [
        "Chúng ta có thể truy cập chỉ mục và các phần tử của list như sau:"
      ]
    },
    {
      "cell_type": "code",
      "metadata": {
        "id": "SyHLabjv_ZWR",
        "outputId": "5e6e6c32-0ae8-423a-99f0-66b8292ea9f4",
        "colab": {
          "base_uri": "https://localhost:8080/"
        }
      },
      "source": [
        "# Vòng lặp qua list và lặp lại ở cả chỉ mục và giá trị phần tử\n",
        "\n",
        "squares=['red', 'yellow', 'green', 'purple', 'blue']\n",
        "\n",
        "for i, square in enumerate(squares):\n",
        "    print(i, square)"
      ],
      "execution_count": 6,
      "outputs": [
        {
          "output_type": "stream",
          "name": "stdout",
          "text": [
            "0 red\n",
            "1 yellow\n",
            "2 green\n",
            "3 purple\n",
            "4 blue\n"
          ]
        }
      ]
    },
    {
      "cell_type": "markdown",
      "metadata": {
        "id": "bzNd8XXD_ZWR"
      },
      "source": [
        "##<h3 id=\"while\">Vòng lặp <code>while</code> là gì?</h3>\n"
      ]
    },
    {
      "cell_type": "markdown",
      "metadata": {
        "id": "7Pvo1fXJ_ZWS"
      },
      "source": [
        "Như bạn thấy, vòng lặp <code> for</code> được sử dụng cho luồng lặp lại có kiểm soát. Tuy nhiên, điều gì sẽ xảy ra nếu chúng ta không biết khi nào muốn dừng vòng lặp? Điều gì sẽ xảy ra nếu chúng ta muốn tiếp tục thực hiện một khối code cho đến khi một điều kiện nhất định được đáp ứng? Vòng lặp <code> while</code> tồn tại như một công cụ để thực hiện lặp lại dựa trên một điều kiện. Khối code sẽ tiếp tục được thực thi cho đến khi điều kiện logic nhất định trả về giá trị boolean **False**."
      ]
    },
    {
      "cell_type": "markdown",
      "metadata": {
        "id": "tOdbgcjm_ZWU"
      },
      "source": [
        "Giả sử chúng ta muốn lặp lại list <code> dates</code> và dừng lại ở năm 1973, sau đó in ra số lần lặp lại. Điều này có thể được thực hiện với khối code sau:"
      ]
    },
    {
      "cell_type": "code",
      "metadata": {
        "id": "zwzEq6eq_ZWV",
        "outputId": "a9279369-bd8a-4d96-a766-a96c1445bc1c",
        "colab": {
          "base_uri": "https://localhost:8080/"
        }
      },
      "source": [
        "# Ví dụ vòng lặp While\n",
        "\n",
        "dates = [1982, 1980, 1973, 2000]\n",
        "\n",
        "i = 0\n",
        "year = dates[0]\n",
        "\n",
        "while(year != 1973):    \n",
        "    print(year)\n",
        "    i = i + 1\n",
        "    year = dates[i]\n",
        "    \n",
        "\n",
        "print(\"It took \", i ,\"repetitions to get out of loop.\")"
      ],
      "execution_count": 7,
      "outputs": [
        {
          "output_type": "stream",
          "name": "stdout",
          "text": [
            "1982\n",
            "1980\n",
            "It took  2 repetitions to get out of loop.\n"
          ]
        }
      ]
    },
    {
      "cell_type": "markdown",
      "metadata": {
        "id": "DDoEftvn_ZWW"
      },
      "source": [
        "Vòng lặp while chỉ lặp đi lặp lại cho đến khi điều kiện trong đối số không được đáp ứng, như trong hình sau:"
      ]
    },
    {
      "cell_type": "markdown",
      "metadata": {
        "id": "P26xenVI_ZWW"
      },
      "source": [
        "<img src=\"https://cf-courses-data.s3.us.cloud-object-storage.appdomain.cloud/IBMDeveloperSkillsNetwork-PY0101EN-SkillsNetwork/labs/Module%203/images/LoopsWhile.gif\" width=\"650\" />\n"
      ]
    },
    {
      "cell_type": "markdown",
      "metadata": {
        "id": "hbt80Wco_ZWW"
      },
      "source": [
        "<hr>\n"
      ]
    },
    {
      "cell_type": "markdown",
      "metadata": {
        "id": "h5OTECTB_ZWW"
      },
      "source": [
        "##<h2 id=\"quiz\">Quiz về Vòng lặp</h2>\n"
      ]
    },
    {
      "cell_type": "markdown",
      "metadata": {
        "id": "IigF7P_v_ZWX"
      },
      "source": [
        "Viết vòng lặp <code> for</code> để in ra tất cả phần tử trong khoảng từ <b> -5 </b> đến <b> 5 </b> bằng hàm range."
      ]
    },
    {
      "cell_type": "code",
      "metadata": {
        "id": "j_hCMW3O_ZWX",
        "outputId": "dec86d4b-f4e8-4925-a3a5-82bc42b6c94f",
        "colab": {
          "base_uri": "https://localhost:8080/"
        }
      },
      "source": [
        "# Viết code của bạn xuống đây và nhấn Shift+Enter để thực hiện\n",
        "for i in range(-5, 6):\n",
        "  print(i)"
      ],
      "execution_count": 9,
      "outputs": [
        {
          "output_type": "stream",
          "name": "stdout",
          "text": [
            "-5\n",
            "-4\n",
            "-3\n",
            "-2\n",
            "-1\n",
            "0\n",
            "1\n",
            "2\n",
            "3\n",
            "4\n",
            "5\n"
          ]
        }
      ]
    },
    {
      "cell_type": "markdown",
      "metadata": {
        "id": "fLgjVewp_ZWX"
      },
      "source": [
        "<details><summary>Click vào đây để xem lời giải</summary>\n",
        "\n",
        "```python\n",
        "for i in range(-5, 6):\n",
        "    print(i)\n",
        "    \n",
        "```\n",
        "\n",
        "</details>\n"
      ]
    },
    {
      "cell_type": "markdown",
      "metadata": {
        "id": "oibhMuHI_ZWX"
      },
      "source": [
        "In các phần tử của list sau:\n",
        "<code> Genres=['rock', 'R&B', 'Soundtrack', 'R&B', 'soul', 'pop']</code>\n",
        "Hãy đảm bảo rằng bạn tuân theo các quy ước của Python."
      ]
    },
    {
      "cell_type": "code",
      "metadata": {
        "id": "qeZQatt2_ZWX",
        "outputId": "11f18f37-d59f-4937-dde9-bb0c9269ca5c",
        "colab": {
          "base_uri": "https://localhost:8080/"
        }
      },
      "source": [
        "# Viết code của bạn xuống đây và nhấn Shift+Enter để thực hiện\n",
        "Genres=['rock', 'R&B', 'Soundtrack', 'R&B', 'soul', 'pop']\n",
        "for item in Genres:\n",
        "  print(item)"
      ],
      "execution_count": 10,
      "outputs": [
        {
          "output_type": "stream",
          "name": "stdout",
          "text": [
            "rock\n",
            "R&B\n",
            "Soundtrack\n",
            "R&B\n",
            "soul\n",
            "pop\n"
          ]
        }
      ]
    },
    {
      "cell_type": "markdown",
      "metadata": {
        "id": "T2SZ9M0u_ZWY"
      },
      "source": [
        "<details><summary>Click vào đây để xem lời giải</summary>\n",
        "\n",
        "```python\n",
        "Genres = ['rock', 'R&B', 'Soundtrack', 'R&B', 'soul', 'pop']\n",
        "for Genre in Genres:\n",
        "    print(Genre)\n",
        "    \n",
        "```\n",
        "\n",
        "</details>\n"
      ]
    },
    {
      "cell_type": "markdown",
      "metadata": {
        "id": "4Pz_TfS1_ZWY"
      },
      "source": [
        "<hr>\n"
      ]
    },
    {
      "cell_type": "markdown",
      "metadata": {
        "id": "YWRatOeV_ZWZ"
      },
      "source": [
        "Viết vòng lặp for in ra list sau: <code> square=['red', 'yellow', 'green', 'Purple', 'blue']</code>"
      ]
    },
    {
      "cell_type": "code",
      "metadata": {
        "id": "ckiZkjBM_ZWZ",
        "outputId": "0abc7d15-7074-471d-9331-6bcfbdfa27b2",
        "colab": {
          "base_uri": "https://localhost:8080/"
        }
      },
      "source": [
        "# Viết code của bạn xuống đây và nhấn Shift+Enter để thực hiện\n",
        "square=['red', 'yellow', 'green', 'Purple', 'blue']\n",
        "for item in square:\n",
        "  print(item)"
      ],
      "execution_count": 11,
      "outputs": [
        {
          "output_type": "stream",
          "name": "stdout",
          "text": [
            "red\n",
            "yellow\n",
            "green\n",
            "Purple\n",
            "blue\n"
          ]
        }
      ]
    },
    {
      "cell_type": "markdown",
      "metadata": {
        "id": "O1L2MGhA_ZWZ"
      },
      "source": [
        "<details><summary>Click vào đây để xem lời giải</summary>\n",
        "\n",
        "```python\n",
        "squares=['red', 'yellow', 'green', 'purple', 'blue']\n",
        "for square in squares:\n",
        "    print(square)\n",
        "    \n",
        "```\n",
        "\n",
        "</details>\n"
      ]
    },
    {
      "cell_type": "markdown",
      "metadata": {
        "id": "tgcvnC9v_ZWa"
      },
      "source": [
        "<hr>\n"
      ]
    },
    {
      "cell_type": "markdown",
      "metadata": {
        "id": "jBt2wAYJ_ZWa"
      },
      "source": [
        "Viết vòng lặp while để hiển thị các giá trị Xếp hạng của danh sách phát album được lưu trữ trong list <code>PlayListRatings</code>. Nếu điểm nhỏ hơn 6, thoát khỏi vòng lặp. List <code>PlayListRatings</code> được cho: <code> PlayListRatings = [10, 9.5, 10, 8, 7.5, 5, 10, 10]</code>"
      ]
    },
    {
      "cell_type": "code",
      "metadata": {
        "id": "FakqA_df_ZWa",
        "outputId": "95694950-86b7-4fec-c373-7eb9a474a032",
        "colab": {
          "base_uri": "https://localhost:8080/"
        }
      },
      "source": [
        "# Viết code của bạn xuống đây và nhấn Shift+Enter để thực hiện\n",
        "PlayListRatings = [10, 9.5, 10, 8, 7.5, 5, 10, 10]\n",
        "i = 0\n",
        "Rating = PlayListRatings[0]\n",
        "while(i < len(PlayListRatings) and Rating >= 6):\n",
        "    print(Rating)\n",
        "    i = i + 1\n",
        "    Rating = PlayListRatings[i]\n",
        "print('\\n---------------------\\n')\n",
        "for item in PlayListRatings:\n",
        "  if item < 6:\n",
        "    break\n",
        "  print(item)"
      ],
      "execution_count": 15,
      "outputs": [
        {
          "output_type": "stream",
          "name": "stdout",
          "text": [
            "10\n",
            "9.5\n",
            "10\n",
            "8\n",
            "7.5\n",
            "\n",
            "---------------------\n",
            "\n",
            "10\n",
            "9.5\n",
            "10\n",
            "8\n",
            "7.5\n"
          ]
        }
      ]
    },
    {
      "cell_type": "markdown",
      "metadata": {
        "id": "07j_mkOV_ZWa"
      },
      "source": [
        "<details><summary>Click vào đây để xem lời giải</summary>\n",
        "\n",
        "```python\n",
        "PlayListRatings = [10, 9.5, 10, 8, 7.5, 5, 10, 10]\n",
        "i = 0\n",
        "Rating = PlayListRatings[0]\n",
        "while(i < len(PlayListRatings) and Rating >= 6):\n",
        "    print(Rating)\n",
        "    i = i + 1\n",
        "    Rating = PlayListRatings[i]\n",
        "    \n",
        "```\n",
        "\n",
        "</details>\n"
      ]
    },
    {
      "cell_type": "markdown",
      "metadata": {
        "id": "yWI05ii5_ZWa"
      },
      "source": [
        "<hr>\n"
      ]
    },
    {
      "cell_type": "markdown",
      "metadata": {
        "id": "EDy-XtxG_ZWb"
      },
      "source": [
        "Viết vòng lặp while để sao chép các string <code> 'orange'</code> của list <code>squares</code> vào list <code>new_squares</code>. Dừng và thoát khỏi vòng lặp nếu giá trị trên list không phải là <code>'orange'</code>:"
      ]
    },
    {
      "cell_type": "code",
      "metadata": {
        "id": "xmtk7nfO_ZWb",
        "outputId": "2b63908c-91e7-4cd4-a1fc-3db57d0cd4a2",
        "colab": {
          "base_uri": "https://localhost:8080/"
        }
      },
      "source": [
        "# Viết code của bạn xuống đây và nhấn Shift+Enter để thực hiện\n",
        "\n",
        "squares = ['orange', 'orange', 'purple', 'blue ', 'orange']\n",
        "\n",
        "new_squares = []\n",
        "i = 0\n",
        "while(i < len(squares) and squares[i] == 'orange'):\n",
        "    new_squares.append(squares[i])\n",
        "    i = i + 1\n",
        "print (new_squares)"
      ],
      "execution_count": 16,
      "outputs": [
        {
          "output_type": "stream",
          "name": "stdout",
          "text": [
            "['orange', 'orange']\n"
          ]
        }
      ]
    },
    {
      "cell_type": "markdown",
      "metadata": {
        "id": "ggQcTchc_ZWb"
      },
      "source": [
        "<details><summary>Click vào đây để xem lời giải</summary>\n",
        "\n",
        "```python\n",
        "squares = ['orange', 'orange', 'purple', 'blue ', 'orange']\n",
        "new_squares = []\n",
        "i = 0\n",
        "while(i < len(squares) and squares[i] == 'orange'):\n",
        "    new_squares.append(squares[i])\n",
        "    i = i + 1\n",
        "print (new_squares)\n",
        "    \n",
        "```\n",
        "\n",
        "</details>\n",
        " \n"
      ]
    }
  ]
}