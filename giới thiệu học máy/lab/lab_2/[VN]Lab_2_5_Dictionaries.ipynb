{
  "nbformat": 4,
  "nbformat_minor": 0,
  "metadata": {
    "kernelspec": {
      "display_name": "Python 3",
      "language": "python",
      "name": "python3"
    },
    "language_info": {
      "codemirror_mode": {
        "name": "ipython",
        "version": 3
      },
      "file_extension": ".py",
      "mimetype": "text/x-python",
      "name": "python",
      "nbconvert_exporter": "python",
      "pygments_lexer": "ipython3",
      "version": "3.7.6"
    },
    "colab": {
      "provenance": []
    }
  },
  "cells": [
    {
      "cell_type": "markdown",
      "metadata": {
        "id": "Ck8Y4I7Bc0Xz"
      },
      "source": [
        "# Dictionary trong Python\n",
        "\n",
        "Thời lượng ước tính: **25** phút\n",
        "\n",
        "## Mục tiêu\n",
        "\n",
        "Sau khi hoàn thành lab này, bạn sẽ có thể:\n",
        "\n",
        "-   Làm việc với các thư viện trong Python, gồm các thao tác\n"
      ]
    },
    {
      "cell_type": "markdown",
      "metadata": {
        "id": "B1hz9Wabc0X-"
      },
      "source": [
        "<h2>Mục lục</h2>\n",
        "<div class=\"alert alert-block alert-info\" style=\"margin-top: 20px\">\n",
        "    <ul>\n",
        "        <li>\n",
        "            <a href=\"#dic\">Dictionary</a>\n",
        "            <ul>\n",
        "                <li><a href=\"content\">Dictionary là gì?</a></li>\n",
        "                <li><a href=\"key\">Key (Khóa)</a></li>\n",
        "            </ul>\n",
        "        </li>\n",
        "        <li>\n",
        "            <a href=\"#quiz\">Quiz về Dictionary</a>\n",
        "        </li>\n",
        "    </ul>\n",
        "\n",
        "</div>\n",
        "\n",
        "<hr>\n"
      ]
    },
    {
      "cell_type": "markdown",
      "metadata": {
        "id": "G0ZowrySc0X_"
      },
      "source": [
        "##<h2 id=\"Dic\">Dictionary</h2>\n"
      ]
    },
    {
      "cell_type": "markdown",
      "metadata": {
        "id": "3bnPVjLjc0X_"
      },
      "source": [
        "##<h3 id=\"content\">Dictionary là gì?</h3>\n"
      ]
    },
    {
      "cell_type": "markdown",
      "metadata": {
        "id": "tV5PRJFPc0YA"
      },
      "source": [
        "Dictionary chứa các khóa (key) và giá trị (value). Sẽ rất hữu ích nếu so sánh dictionary với list. Thay vì các chỉ mục số như list, dictionary có các khóa. Các khóa này được sử dụng để truy cập các giá trị trong dictionary.\n"
      ]
    },
    {
      "cell_type": "markdown",
      "metadata": {
        "id": "W4p4eK7Yc0YA"
      },
      "source": [
        "<img src=\"https://cf-courses-data.s3.us.cloud-object-storage.appdomain.cloud/IBMDeveloperSkillsNetwork-PY0101EN-SkillsNetwork/labs/Module%202/images/DictsList.png\" width=\"650\" />\n"
      ]
    },
    {
      "cell_type": "markdown",
      "metadata": {
        "id": "tCt6yYSvc0YB"
      },
      "source": [
        "Ví dụ về một Dictionary <code>Dict</code>:\n"
      ]
    },
    {
      "cell_type": "code",
      "metadata": {
        "jupyter": {
          "outputs_hidden": false
        },
        "id": "JXZEjGPpc0YB",
        "outputId": "d0e95c00-08cf-499d-b01e-f0e324c112b6",
        "colab": {
          "base_uri": "https://localhost:8080/"
        }
      },
      "source": [
        "# Tạo dictionary\n",
        "\n",
        "Dict = {\"key1\": 1, \"key2\": \"2\", \"key3\": [3, 3, 3], \"key4\": (4, 4, 4), ('key5'): 5, (0, 1): 6}\n",
        "Dict"
      ],
      "execution_count": 1,
      "outputs": [
        {
          "output_type": "execute_result",
          "data": {
            "text/plain": [
              "{'key1': 1,\n",
              " 'key2': '2',\n",
              " 'key3': [3, 3, 3],\n",
              " 'key4': (4, 4, 4),\n",
              " 'key5': 5,\n",
              " (0, 1): 6}"
            ]
          },
          "metadata": {},
          "execution_count": 1
        }
      ]
    },
    {
      "cell_type": "markdown",
      "metadata": {
        "id": "kMzj9-AOc0YC"
      },
      "source": [
        "Các khóa có thể là string (chuỗi):\n"
      ]
    },
    {
      "cell_type": "code",
      "metadata": {
        "jupyter": {
          "outputs_hidden": false
        },
        "id": "MdO16ZcEc0YD",
        "outputId": "1ee088ad-6171-484f-9574-a77264f7497b",
        "colab": {
          "base_uri": "https://localhost:8080/"
        }
      },
      "source": [
        "# Truy cập giá trị bằng khóa\n",
        "\n",
        "Dict[\"key1\"]"
      ],
      "execution_count": 2,
      "outputs": [
        {
          "output_type": "execute_result",
          "data": {
            "text/plain": [
              "1"
            ]
          },
          "metadata": {},
          "execution_count": 2
        }
      ]
    },
    {
      "cell_type": "markdown",
      "metadata": {
        "id": "e5p8mrjkc0YD"
      },
      "source": [
        "Khóa cũng có thể là bất kỳ đối tượng bất biến nào, chẳng hạn như tuple:\n"
      ]
    },
    {
      "cell_type": "code",
      "metadata": {
        "jupyter": {
          "outputs_hidden": false
        },
        "id": "AfvYCAnac0YE",
        "outputId": "0971a012-8d50-4869-c160-e12732c9f458",
        "colab": {
          "base_uri": "https://localhost:8080/"
        }
      },
      "source": [
        "# Truy cập giá trị bằng khóa\n",
        "\n",
        "Dict[(0, 1)]"
      ],
      "execution_count": 3,
      "outputs": [
        {
          "output_type": "execute_result",
          "data": {
            "text/plain": [
              "6"
            ]
          },
          "metadata": {},
          "execution_count": 3
        }
      ]
    },
    {
      "cell_type": "markdown",
      "metadata": {
        "id": "MnyRPJTGc0YE"
      },
      "source": [
        "Mỗi khóa được phân tách khỏi giá trị của nó bằng dấu hai chấm \"<code>:</code>\". Dấu phẩy phân tách các mục và toàn bộ dictionary được đặt trong dấu ngoặc nhọn. Một dictionary trống không có bất kỳ mục nào được viết chỉ bằng cặp dấu ngoặc nhọn như thế này \"<code>{}</code>\"."
      ]
    },
    {
      "cell_type": "code",
      "metadata": {
        "jupyter": {
          "outputs_hidden": false
        },
        "id": "GzYBzxnBc0YF",
        "outputId": "61eb8e8b-211f-4437-de2d-e0cf34da45fc",
        "colab": {
          "base_uri": "https://localhost:8080/"
        }
      },
      "source": [
        "# Tạo dictionary mẫu\n",
        "\n",
        "release_year_dict = {\"Thriller\": \"1982\", \"Back in Black\": \"1980\", \\\n",
        "                    \"The Dark Side of the Moon\": \"1973\", \"The Bodyguard\": \"1992\", \\\n",
        "                    \"Bat Out of Hell\": \"1977\", \"Their Greatest Hits (1971-1975)\": \"1976\", \\\n",
        "                    \"Saturday Night Fever\": \"1977\", \"Rumours\": \"1977\"}\n",
        "release_year_dict"
      ],
      "execution_count": 4,
      "outputs": [
        {
          "output_type": "execute_result",
          "data": {
            "text/plain": [
              "{'Thriller': '1982',\n",
              " 'Back in Black': '1980',\n",
              " 'The Dark Side of the Moon': '1973',\n",
              " 'The Bodyguard': '1992',\n",
              " 'Bat Out of Hell': '1977',\n",
              " 'Their Greatest Hits (1971-1975)': '1976',\n",
              " 'Saturday Night Fever': '1977',\n",
              " 'Rumours': '1977'}"
            ]
          },
          "metadata": {},
          "execution_count": 4
        }
      ]
    },
    {
      "cell_type": "markdown",
      "metadata": {
        "id": "3OEkllXwc0YF"
      },
      "source": [
        "Tóm lại, giống như list, dictionary chứa một dãy các phần tử. Mỗi phần tử được thể hiện bằng một khóa và giá trị tương ứng. Dictionary được tạo bằng cặp dấu ngoặc nhọn chứa các khóa và giá trị được phân tách bằng dấu hai chấm. Mỗi khóa chỉ có thể có một giá trị duy nhất, tuy nhiên, nhiều khóa có thể chứa cùng một giá trị. Khóa chỉ có thể là chuỗi, số hoặc tuple, nhưng giá trị lại có thể là bất kỳ kiểu dữ liệu nào."
      ]
    },
    {
      "cell_type": "markdown",
      "metadata": {
        "id": "EA6-c1NCc0YF"
      },
      "source": [
        "Sẽ rất hữu ích nếu hình dung từ điển dưới dạng bảng, như hình ảnh sau đây. Cột đầu tiên thể hiện các khóa, cột thứ hai thể hiện các giá trị.\n"
      ]
    },
    {
      "cell_type": "markdown",
      "metadata": {
        "id": "HmcOIyGvc0YG"
      },
      "source": [
        "<img src=\"https://cf-courses-data.s3.us.cloud-object-storage.appdomain.cloud/IBMDeveloperSkillsNetwork-PY0101EN-SkillsNetwork/labs/Module%202/images/DictsStructure.png\" width=\"650\" />\n"
      ]
    },
    {
      "cell_type": "markdown",
      "metadata": {
        "id": "uj0XEqLRc0YG"
      },
      "source": [
        "##<h3 id=\"key\">Khóa (Key)</h3>\n"
      ]
    },
    {
      "cell_type": "markdown",
      "metadata": {
        "id": "DVpzf8BWc0YH"
      },
      "source": [
        "Bạn có thể truy xuất các giá trị theo tên:\n"
      ]
    },
    {
      "cell_type": "code",
      "metadata": {
        "jupyter": {
          "outputs_hidden": false
        },
        "id": "zfTlbL34c0YH",
        "outputId": "b88bf0fb-70ea-4ae3-bcec-9f2b6075471f",
        "colab": {
          "base_uri": "https://localhost:8080/",
          "height": 35
        }
      },
      "source": [
        "# Lấy giá trị theo khóa\n",
        "\n",
        "release_year_dict['Thriller'] "
      ],
      "execution_count": 5,
      "outputs": [
        {
          "output_type": "execute_result",
          "data": {
            "text/plain": [
              "'1982'"
            ],
            "application/vnd.google.colaboratory.intrinsic+json": {
              "type": "string"
            }
          },
          "metadata": {},
          "execution_count": 5
        }
      ]
    },
    {
      "cell_type": "markdown",
      "metadata": {
        "id": "EgzeGilrc0YI"
      },
      "source": [
        "Điều này tương ứng với:"
      ]
    },
    {
      "cell_type": "markdown",
      "metadata": {
        "id": "qaZquZyic0YI"
      },
      "source": [
        "<img src=\"https://cf-courses-data.s3.us.cloud-object-storage.appdomain.cloud/IBMDeveloperSkillsNetwork-PY0101EN-SkillsNetwork/labs/Module%202/images/DictsKeyOne.png\" width=\"500\" />\n"
      ]
    },
    {
      "cell_type": "markdown",
      "metadata": {
        "id": "LGjJ2a_Tc0YJ"
      },
      "source": [
        "Tương tự cho <b>The Bodyguard</b>"
      ]
    },
    {
      "cell_type": "code",
      "metadata": {
        "jupyter": {
          "outputs_hidden": false
        },
        "id": "lQ3vxEIfc0YJ",
        "outputId": "1d065d99-5977-478c-bf52-9a3e4425a4ef",
        "colab": {
          "base_uri": "https://localhost:8080/",
          "height": 35
        }
      },
      "source": [
        "# Lấy giá trị theo khóa\n",
        "\n",
        "release_year_dict['The Bodyguard'] "
      ],
      "execution_count": 6,
      "outputs": [
        {
          "output_type": "execute_result",
          "data": {
            "text/plain": [
              "'1992'"
            ],
            "application/vnd.google.colaboratory.intrinsic+json": {
              "type": "string"
            }
          },
          "metadata": {},
          "execution_count": 6
        }
      ]
    },
    {
      "cell_type": "markdown",
      "metadata": {
        "id": "FJmsHSbwc0YJ"
      },
      "source": [
        "<img src=\"https://cf-courses-data.s3.us.cloud-object-storage.appdomain.cloud/IBMDeveloperSkillsNetwork-PY0101EN-SkillsNetwork/labs/Module%202/images/DictsKeyTwo.png\" width=\"500\" />\n"
      ]
    },
    {
      "cell_type": "markdown",
      "metadata": {
        "id": "wVm_BbWTc0YK"
      },
      "source": [
        "Bây giờ chúng ta hãy truy xuất các khóa của dictionary bằng phương thức <code>keys()</code>:\n"
      ]
    },
    {
      "cell_type": "code",
      "metadata": {
        "jupyter": {
          "outputs_hidden": false
        },
        "id": "tnTI661Hc0YK",
        "outputId": "866126db-8e41-44f0-bd4c-26042b047d98",
        "colab": {
          "base_uri": "https://localhost:8080/"
        }
      },
      "source": [
        "# Lấy tất cả các khóa trong dictionary\n",
        "\n",
        "release_year_dict.keys() "
      ],
      "execution_count": 7,
      "outputs": [
        {
          "output_type": "execute_result",
          "data": {
            "text/plain": [
              "dict_keys(['Thriller', 'Back in Black', 'The Dark Side of the Moon', 'The Bodyguard', 'Bat Out of Hell', 'Their Greatest Hits (1971-1975)', 'Saturday Night Fever', 'Rumours'])"
            ]
          },
          "metadata": {},
          "execution_count": 7
        }
      ]
    },
    {
      "cell_type": "markdown",
      "metadata": {
        "id": "TLRhLX10c0YK"
      },
      "source": [
        "Bạn có thể truy xuất các giá trị bằng phương thức  <code>values()</code>:\n"
      ]
    },
    {
      "cell_type": "code",
      "metadata": {
        "jupyter": {
          "outputs_hidden": false
        },
        "id": "qxO95iC7c0YL",
        "outputId": "f2766917-2b02-4cd7-ecd6-84996e1b69bc",
        "colab": {
          "base_uri": "https://localhost:8080/"
        }
      },
      "source": [
        "# Lấy tất cả các giá trị trong dictionary\n",
        "\n",
        "release_year_dict.values() "
      ],
      "execution_count": 8,
      "outputs": [
        {
          "output_type": "execute_result",
          "data": {
            "text/plain": [
              "dict_values(['1982', '1980', '1973', '1992', '1977', '1976', '1977', '1977'])"
            ]
          },
          "metadata": {},
          "execution_count": 8
        }
      ]
    },
    {
      "cell_type": "markdown",
      "metadata": {
        "id": "uLw9Wy8Ac0YL"
      },
      "source": [
        "Chúng ta có thể thêm một mục:\n"
      ]
    },
    {
      "cell_type": "code",
      "metadata": {
        "jupyter": {
          "outputs_hidden": false
        },
        "id": "EbsFogeTc0YL"
      },
      "source": [
        "# Nối giá trị với khóa vào dictionary\n",
        "\n",
        "release_year_dict['Graduation'] = '2007'\n",
        "release_year_dict"
      ],
      "execution_count": null,
      "outputs": []
    },
    {
      "cell_type": "markdown",
      "metadata": {
        "id": "pYRAciWBc0YM"
      },
      "source": [
        "Chúng ta có thể xóa một mục:   \n"
      ]
    },
    {
      "cell_type": "code",
      "metadata": {
        "jupyter": {
          "outputs_hidden": false
        },
        "id": "FuKqQC62c0YM",
        "outputId": "de4003ae-6d3a-412c-f7c4-4c8ff12f38ab",
        "colab": {
          "base_uri": "https://localhost:8080/",
          "height": 235
        }
      },
      "source": [
        "# Xóa mục theo khóa\n",
        "\n",
        "del(release_year_dict['Thriller'])\n",
        "del(release_year_dict['Graduation'])\n",
        "release_year_dict"
      ],
      "execution_count": 10,
      "outputs": [
        {
          "output_type": "error",
          "ename": "KeyError",
          "evalue": "ignored",
          "traceback": [
            "\u001b[0;31m---------------------------------------------------------------------------\u001b[0m",
            "\u001b[0;31mKeyError\u001b[0m                                  Traceback (most recent call last)",
            "\u001b[0;32m<ipython-input-10-d91c435c33e4>\u001b[0m in \u001b[0;36m<cell line: 3>\u001b[0;34m()\u001b[0m\n\u001b[1;32m      1\u001b[0m \u001b[0;31m# Xóa mục theo khóa\u001b[0m\u001b[0;34m\u001b[0m\u001b[0;34m\u001b[0m\u001b[0m\n\u001b[1;32m      2\u001b[0m \u001b[0;34m\u001b[0m\u001b[0m\n\u001b[0;32m----> 3\u001b[0;31m \u001b[0;32mdel\u001b[0m\u001b[0;34m(\u001b[0m\u001b[0mrelease_year_dict\u001b[0m\u001b[0;34m[\u001b[0m\u001b[0;34m'Thriller'\u001b[0m\u001b[0;34m]\u001b[0m\u001b[0;34m)\u001b[0m\u001b[0;34m\u001b[0m\u001b[0;34m\u001b[0m\u001b[0m\n\u001b[0m\u001b[1;32m      4\u001b[0m \u001b[0;32mdel\u001b[0m\u001b[0;34m(\u001b[0m\u001b[0mrelease_year_dict\u001b[0m\u001b[0;34m[\u001b[0m\u001b[0;34m'Graduation'\u001b[0m\u001b[0;34m]\u001b[0m\u001b[0;34m)\u001b[0m\u001b[0;34m\u001b[0m\u001b[0;34m\u001b[0m\u001b[0m\n\u001b[1;32m      5\u001b[0m \u001b[0mrelease_year_dict\u001b[0m\u001b[0;34m\u001b[0m\u001b[0;34m\u001b[0m\u001b[0m\n",
            "\u001b[0;31mKeyError\u001b[0m: 'Thriller'"
          ]
        }
      ]
    },
    {
      "cell_type": "markdown",
      "metadata": {
        "id": "8UA9XvrCc0YM"
      },
      "source": [
        "Bạn có thể xác minh xem liệu một phần tử có trong dictionary không: \n"
      ]
    },
    {
      "cell_type": "code",
      "metadata": {
        "jupyter": {
          "outputs_hidden": false
        },
        "id": "WNFcTKN0c0YN"
      },
      "source": [
        "# Xác minh xem khóa có trong dictionary không\n",
        "\n",
        "'The Bodyguard' in release_year_dict"
      ],
      "execution_count": null,
      "outputs": []
    },
    {
      "cell_type": "markdown",
      "metadata": {
        "id": "RTUAkxUxc0YN"
      },
      "source": [
        "<hr>\n"
      ]
    },
    {
      "cell_type": "markdown",
      "metadata": {
        "id": "u9_gkCLEc0YO"
      },
      "source": [
        "##<h2 id=\"quiz\">Quiz về Dictionary</h2>\n"
      ]
    },
    {
      "cell_type": "markdown",
      "metadata": {
        "id": "oDHnhnMtc0YO"
      },
      "source": [
        "<b> Bạn sẽ cần dictionary này cho hai câu hỏi tới:</b>\n"
      ]
    },
    {
      "cell_type": "code",
      "metadata": {
        "id": "wpUzmg9_c0YO",
        "outputId": "c7f0017a-5697-414f-9dd8-d2238cd3d2b9",
        "colab": {
          "base_uri": "https://localhost:8080/"
        }
      },
      "source": [
        "# Dictionary mẫu câu hỏi\n",
        "\n",
        "soundtrack_dic = {\"The Bodyguard\":\"1992\", \"Saturday Night Fever\":\"1977\"}\n",
        "soundtrack_dic "
      ],
      "execution_count": 11,
      "outputs": [
        {
          "output_type": "execute_result",
          "data": {
            "text/plain": [
              "{'The Bodyguard': '1992', 'Saturday Night Fever': '1977'}"
            ]
          },
          "metadata": {},
          "execution_count": 11
        }
      ]
    },
    {
      "cell_type": "markdown",
      "metadata": {
        "id": "F4Gv86IGc0YP"
      },
      "source": [
        "a) Các khóa trong dictionary <code>soundtrack_dic</code> là?\n"
      ]
    },
    {
      "cell_type": "code",
      "metadata": {
        "id": "tyHK2h7bc0YP",
        "outputId": "f94f1d0f-6716-4a2f-8bd4-31a73bf32df9",
        "colab": {
          "base_uri": "https://localhost:8080/"
        }
      },
      "source": [
        "# Viết code của bạn xuống dưới và nhấn Shift+Enter để thực hiện\n",
        "soundtrack_dic.keys()"
      ],
      "execution_count": 12,
      "outputs": [
        {
          "output_type": "execute_result",
          "data": {
            "text/plain": [
              "dict_keys(['The Bodyguard', 'Saturday Night Fever'])"
            ]
          },
          "metadata": {},
          "execution_count": 12
        }
      ]
    },
    {
      "cell_type": "markdown",
      "metadata": {
        "id": "a047m6DNc0YP"
      },
      "source": [
        "<details><summary>Click vào đây để xem lời giải</summary>\n",
        "\n",
        "```python\n",
        "soundtrack_dic.keys() # The Keys \"The Bodyguard\" and \"Saturday Night Fever\" \n",
        "\n",
        "```\n",
        "\n",
        "</details>\n"
      ]
    },
    {
      "cell_type": "markdown",
      "metadata": {
        "id": "yKMpOvdGc0YQ"
      },
      "source": [
        "b) Các giá trị dictionary <code>soundtrack_dic</code> là?\n"
      ]
    },
    {
      "cell_type": "code",
      "metadata": {
        "id": "4aKxRd56c0YQ",
        "outputId": "3dbba5c9-8e40-4cdf-d48c-b1caca01e880",
        "colab": {
          "base_uri": "https://localhost:8080/"
        }
      },
      "source": [
        "# Viết code của bạn xuống dưới và nhấn Shift+Enter để thực hiện\n",
        "soundtrack_dic.values()"
      ],
      "execution_count": 13,
      "outputs": [
        {
          "output_type": "execute_result",
          "data": {
            "text/plain": [
              "dict_values(['1992', '1977'])"
            ]
          },
          "metadata": {},
          "execution_count": 13
        }
      ]
    },
    {
      "cell_type": "markdown",
      "metadata": {
        "id": "VzMObgHic0YQ"
      },
      "source": [
        "<details><summary>Click vào đây để xem lời giải</summary>\n",
        "\n",
        "```python\n",
        "soundtrack_dic.values() # The values are \"1992\" and \"1977\"\n",
        "\n",
        "```\n",
        "\n",
        "</details>\n"
      ]
    },
    {
      "cell_type": "markdown",
      "metadata": {
        "id": "rafIYhyHc0YQ"
      },
      "source": [
        "<hr>\n"
      ]
    },
    {
      "cell_type": "markdown",
      "metadata": {
        "id": "NqizQEdgc0YR"
      },
      "source": [
        "<b> Bạn sẽ cần dictionary này cho hai câu hỏi tới:</b>\n"
      ]
    },
    {
      "cell_type": "markdown",
      "metadata": {
        "id": "yNxZHPdYc0YR"
      },
      "source": [
        "Các album <b> Back in Black </b>, <b> The Bodyguard </b> và <b> Thriller </b> có doanh số bán đĩa nhạc lần lượt là 50, 50 và 65 triệu:\n"
      ]
    },
    {
      "cell_type": "markdown",
      "metadata": {
        "id": "_lzpnmQDc0YR"
      },
      "source": [
        "a) Tạo dictionary <code>album_sales_dict</code> trong đó các khóa là tên album và giá trị là doanh số (triệu USD).\n"
      ]
    },
    {
      "cell_type": "code",
      "metadata": {
        "id": "xw9Z3Nibc0YR",
        "outputId": "4d3c9968-6f33-4b5b-b32d-7d8d25eda5d7",
        "colab": {
          "base_uri": "https://localhost:8080/"
        }
      },
      "source": [
        "# Viết code của bạn xuống dưới và nhấn Shift+Enter để thực hiện\n",
        "album_sales_dict  = {'Back in Black':50, 'The Bodyguard': 50, 'Thriller':65 }\n",
        "album_sales_dict"
      ],
      "execution_count": 14,
      "outputs": [
        {
          "output_type": "execute_result",
          "data": {
            "text/plain": [
              "{'Back in Black': 50, 'The Bodyguard': 50, 'Thriller': 65}"
            ]
          },
          "metadata": {},
          "execution_count": 14
        }
      ]
    },
    {
      "cell_type": "markdown",
      "metadata": {
        "id": "E_M6mZZ4c0YS"
      },
      "source": [
        "<details><summary>Click vào đây để xem lời giải</summary>\n",
        "\n",
        "```python\n",
        "album_sales_dict = {\"The Bodyguard\":50, \"Back in Black\":50, \"Thriller\":65}\n",
        "\n",
        "```\n",
        "\n",
        "</details>\n"
      ]
    },
    {
      "cell_type": "markdown",
      "metadata": {
        "id": "_S2RfaxNc0YS"
      },
      "source": [
        "b) Dùng dictionary để tìm tổng doanh thu của album <b>Thriller</b>:\n"
      ]
    },
    {
      "cell_type": "code",
      "metadata": {
        "jupyter": {
          "outputs_hidden": false
        },
        "id": "YgKTqBQac0YS",
        "outputId": "76c63292-82b8-4ae1-a405-dfa0917f790f",
        "colab": {
          "base_uri": "https://localhost:8080/"
        }
      },
      "source": [
        "# Viết code của bạn xuống dưới và nhấn Shift+Enter để thực hiện\n",
        "sum = 0\n",
        "for cost in album_sales_dict .values():\n",
        "  sum += cost\n",
        "\n",
        "sum"
      ],
      "execution_count": 19,
      "outputs": [
        {
          "output_type": "execute_result",
          "data": {
            "text/plain": [
              "165"
            ]
          },
          "metadata": {},
          "execution_count": 19
        }
      ]
    },
    {
      "cell_type": "markdown",
      "metadata": {
        "id": "56yN6sWJc0YS"
      },
      "source": [
        "<details><summary>Click vào đây để xem lời giải</summary>\n",
        "\n",
        "```python\n",
        "album_sales_dict[\"Thriller\"]\n",
        "\n",
        "```\n",
        "\n",
        "</details>\n"
      ]
    },
    {
      "cell_type": "markdown",
      "metadata": {
        "id": "RBa2QiJBc0YS"
      },
      "source": [
        "c) Tìm tên các album từ dictionary dùng phương thức <code>keys()</code>:\n"
      ]
    },
    {
      "cell_type": "code",
      "metadata": {
        "jupyter": {
          "outputs_hidden": false
        },
        "id": "6z90Et3ac0YT",
        "outputId": "642db3df-3b98-48f0-9aa5-52ef0d3d1a21",
        "colab": {
          "base_uri": "https://localhost:8080/"
        }
      },
      "source": [
        "# Viết code của bạn xuống dưới và nhấn Shift+Enter để thực hiện\n",
        "album_sales_dict .keys()"
      ],
      "execution_count": 20,
      "outputs": [
        {
          "output_type": "execute_result",
          "data": {
            "text/plain": [
              "dict_keys(['Back in Black', 'The Bodyguard', 'Thriller'])"
            ]
          },
          "metadata": {},
          "execution_count": 20
        }
      ]
    },
    {
      "cell_type": "markdown",
      "metadata": {
        "id": "Yj6ByUctc0YT"
      },
      "source": [
        "<details><summary>Click vào đây để xem lời giải</summary>\n",
        "\n",
        "```python\n",
        "album_sales_dict.keys()\n",
        "\n",
        "```\n",
        "\n",
        "</details>\n"
      ]
    },
    {
      "cell_type": "markdown",
      "metadata": {
        "id": "XRC9UfmOc0YT"
      },
      "source": [
        "d) Tìm giá trị của doanh thu đĩa nhạc từ dictionary sử dụng phương thức <code>values</code>:\n"
      ]
    },
    {
      "cell_type": "code",
      "metadata": {
        "jupyter": {
          "outputs_hidden": false
        },
        "id": "YboSiUhwc0YT",
        "outputId": "6e9e095b-ac95-45fe-ad77-fc88bcaae873",
        "colab": {
          "base_uri": "https://localhost:8080/"
        }
      },
      "source": [
        "# Viết code của bạn xuống dưới và nhấn Shift+Enter để thực hiện\n",
        "album_sales_dict.values()"
      ],
      "execution_count": 21,
      "outputs": [
        {
          "output_type": "execute_result",
          "data": {
            "text/plain": [
              "dict_values([50, 50, 65])"
            ]
          },
          "metadata": {},
          "execution_count": 21
        }
      ]
    },
    {
      "cell_type": "markdown",
      "metadata": {
        "id": "-SSM6mIoc0YT"
      },
      "source": [
        "<details><summary>Click vào đây để xem lời giải</summary>\n",
        "\n",
        "```python\n",
        "album_sales_dict.values()\n",
        "\n",
        "```\n",
        "\n",
        "</details>\n"
      ]
    }
  ]
}