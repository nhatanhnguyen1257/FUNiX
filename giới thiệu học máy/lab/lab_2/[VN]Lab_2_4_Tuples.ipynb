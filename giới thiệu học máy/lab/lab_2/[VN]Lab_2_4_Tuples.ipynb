{
  "nbformat": 4,
  "nbformat_minor": 0,
  "metadata": {
    "kernelspec": {
      "display_name": "Python 3",
      "language": "python",
      "name": "python3"
    },
    "language_info": {
      "codemirror_mode": {
        "name": "ipython",
        "version": 3
      },
      "file_extension": ".py",
      "mimetype": "text/x-python",
      "name": "python",
      "nbconvert_exporter": "python",
      "pygments_lexer": "ipython3",
      "version": "3.7.6"
    },
    "colab": {
      "provenance": []
    }
  },
  "cells": [
    {
      "cell_type": "markdown",
      "metadata": {
        "id": "4kM0IRV8mut-"
      },
      "source": [
        "# Tuple trong Python\n",
        "\n",
        "Thời lượng ước tính: **15** phút\n",
        "\n",
        "## Mục tiêu\n",
        "\n",
        "Sau khi hoàn thành lab này, bạn sẽ có thể:\n",
        "\n",
        "-   Thực hiện các thao tác cơ bản với tuple trong Python, gồm indexing (chỉ mục), slicing sorting (sắp xếp)\n"
      ]
    },
    {
      "cell_type": "markdown",
      "metadata": {
        "id": "syX73afimuuF"
      },
      "source": [
        "<h2>Mục lục</h2>\n",
        "<div class=\"alert alert-block alert-info\" style=\"margin-top: 20px\">\n",
        "    <ul>\n",
        "        <li>\n",
        "            <a href=\"#dataset\">Về tập dữ liệu</a>\n",
        "        </li>\n",
        "        <li>\n",
        "            <a href=\"#tuple\">Tuple</a>\n",
        "            <ul>\n",
        "                 <li><a href=\"index\">Indexing</a></li>\n",
        "                <li><a href=\"concat\">Nối các tuple</a></li>\n",
        "                <li><a href=\"slice\">Slicing</a></li>\n",
        "                <li><a href=\"sort\">Sorting</a></li>\n",
        "                <li><a href=\"nested\">Tuple lồng nhau</a></li>\n",
        "            </ul>\n",
        "        </li>\n",
        "        <li>\n",
        "            <a href=\"#escape\">Quiz về Tuple</a>\n",
        "        </li>\n",
        "    </ul>\n",
        " \n",
        "</div>\n",
        "\n",
        "<hr>\n"
      ]
    },
    {
      "cell_type": "markdown",
      "metadata": {
        "id": "75NHKbk0muuG"
      },
      "source": [
        "##<h2 id=\"dataset\">Về tập dữ liệu</h2>\n"
      ]
    },
    {
      "cell_type": "markdown",
      "metadata": {
        "id": "5mh8bP2mmuuG"
      },
      "source": [
        "Hãy tưởng tượng bạn nhận được các đề xuất về album từ bạn bè và tổng hợp tất cả các đề xuất thành một bảng, với thông tin cụ thể về từng album.\n",
        "\n",
        "Trong bảng, thông tin mỗi bộ phim nằm trong một hàng và các cột:\n",
        "\n",
        "-   **artist** - Tên nghệ sĩ\n",
        "-   **album** - Tên album\n",
        "-   **released_year** - Năm phát hành album\n",
        "-   **length_min_sec** - Độ dài album (giờ, phút, giây)\n",
        "-   **genre** - Thể loại album\n",
        "-   **music_recording_sales_millions** - Doanh thu đĩa nhạc (triệu USD) trên [SONG://DATABASE](http://www.song-database.com?cm_mmc=Email_Newsletter-_-Developer_Ed%2BTech-_-WW_WW-_-SkillsNetwork-Courses-IBMDeveloperSkillsNetwork-PY0101EN-SkillsNetwork-19487395&cm_mmca1=000026UJ&cm_mmca2=10006555&cm_mmca3=M12345678&cvosrc=email.Newsletter.M12345678&cvo_campaign=000026UJ&cm_mmc=Email_Newsletter-_-Developer_Ed%2BTech-_-WW_WW-_-SkillsNetwork-Courses-IBMDeveloperSkillsNetwork-PY0101EN-SkillsNetwork-19487395&cm_mmca1=000026UJ&cm_mmca2=10006555&cm_mmca3=M12345678&cvosrc=email.Newsletter.M12345678&cvo_campaign=000026UJ&cm_mmc=Email_Newsletter-_-Developer_Ed%2BTech-_-WW_WW-_-SkillsNetwork-Courses-IBMDeveloperSkillsNetwork-PY0101EN-SkillsNetwork-19487395&cm_mmca1=000026UJ&cm_mmca2=10006555&cm_mmca3=M12345678&cvosrc=email.Newsletter.M12345678&cvo_campaign=000026UJ)\n",
        "-   **claimed_sales_millions** - Doanh số đã tuyên bố của album (triệu USD) trên [SONG://DATABASE](http://www.song-database.com?cm_mmc=Email_Newsletter-_-Developer_Ed%2BTech-_-WW_WW-_-SkillsNetwork-Courses-IBMDeveloperSkillsNetwork-PY0101EN-SkillsNetwork-19487395&cm_mmca1=000026UJ&cm_mmca2=10006555&cm_mmca3=M12345678&cvosrc=email.Newsletter.M12345678&cvo_campaign=000026UJ)\n",
        "-   **date_released** - Ngày phát hành album\n",
        "-   **soundtrack** - Cho biết album có phải là movie soundtrack (Y - Có) hay không (N - Không)\n",
        "-   **rating_of_friends** - Cho biết xếp hạng từ bạn bè từ 1 tới 10\n",
        "    <br>\n",
        "    <br>\n",
        "\n",
        "Có thể xem tập dữ liệu bên dưới:\n",
        "\n",
        "<font size=\"1\">\n",
        "<table font-size:xx-small>\n",
        "  <tr>\n",
        "    <th>Artist</th>\n",
        "    <th>Album</th> \n",
        "    <th>Released</th>\n",
        "    <th>Length</th>\n",
        "    <th>Genre</th> \n",
        "    <th>Music recording sales (millions)</th>\n",
        "    <th>Claimed sales (millions)</th>\n",
        "    <th>Released</th>\n",
        "    <th>Soundtrack</th>\n",
        "    <th>Rating (friends)</th>\n",
        "  </tr>\n",
        "  <tr>\n",
        "    <td>Michael Jackson</td>\n",
        "    <td>Thriller</td> \n",
        "    <td>1982</td>\n",
        "    <td>00:42:19</td>\n",
        "    <td>Pop, rock, R&B</td>\n",
        "    <td>46</td>\n",
        "    <td>65</td>\n",
        "    <td>30-Nov-82</td>\n",
        "    <td></td>\n",
        "    <td>10.0</td>\n",
        "  </tr>\n",
        "  <tr>\n",
        "    <td>AC/DC</td>\n",
        "    <td>Back in Black</td> \n",
        "    <td>1980</td>\n",
        "    <td>00:42:11</td>\n",
        "    <td>Hard rock</td>\n",
        "    <td>26.1</td>\n",
        "    <td>50</td>\n",
        "    <td>25-Jul-80</td>\n",
        "    <td></td>\n",
        "    <td>8.5</td>\n",
        "  </tr>\n",
        "    <tr>\n",
        "    <td>Pink Floyd</td>\n",
        "    <td>The Dark Side of the Moon</td> \n",
        "    <td>1973</td>\n",
        "    <td>00:42:49</td>\n",
        "    <td>Progressive rock</td>\n",
        "    <td>24.2</td>\n",
        "    <td>45</td>\n",
        "    <td>01-Mar-73</td>\n",
        "    <td></td>\n",
        "    <td>9.5</td>\n",
        "  </tr>\n",
        "    <tr>\n",
        "    <td>Whitney Houston</td>\n",
        "    <td>The Bodyguard</td> \n",
        "    <td>1992</td>\n",
        "    <td>00:57:44</td>\n",
        "    <td>Soundtrack/R&B, soul, pop</td>\n",
        "    <td>26.1</td>\n",
        "    <td>50</td>\n",
        "    <td>25-Jul-80</td>\n",
        "    <td>Y</td>\n",
        "    <td>7.0</td>\n",
        "  </tr>\n",
        "    <tr>\n",
        "    <td>Meat Loaf</td>\n",
        "    <td>Bat Out of Hell</td> \n",
        "    <td>1977</td>\n",
        "    <td>00:46:33</td>\n",
        "    <td>Hard rock, progressive rock</td>\n",
        "    <td>20.6</td>\n",
        "    <td>43</td>\n",
        "    <td>21-Oct-77</td>\n",
        "    <td></td>\n",
        "    <td>7.0</td>\n",
        "  </tr>\n",
        "    <tr>\n",
        "    <td>Eagles</td>\n",
        "    <td>Their Greatest Hits (1971-1975)</td> \n",
        "    <td>1976</td>\n",
        "    <td>00:43:08</td>\n",
        "    <td>Rock, soft rock, folk rock</td>\n",
        "    <td>32.2</td>\n",
        "    <td>42</td>\n",
        "    <td>17-Feb-76</td>\n",
        "    <td></td>\n",
        "    <td>9.5</td>\n",
        "  </tr>\n",
        "    <tr>\n",
        "    <td>Bee Gees</td>\n",
        "    <td>Saturday Night Fever</td> \n",
        "    <td>1977</td>\n",
        "    <td>1:15:54</td>\n",
        "    <td>Disco</td>\n",
        "    <td>20.6</td>\n",
        "    <td>40</td>\n",
        "    <td>15-Nov-77</td>\n",
        "    <td>Y</td>\n",
        "    <td>9.0</td>\n",
        "  </tr>\n",
        "    <tr>\n",
        "    <td>Fleetwood Mac</td>\n",
        "    <td>Rumours</td> \n",
        "    <td>1977</td>\n",
        "    <td>00:40:01</td>\n",
        "    <td>Soft rock</td>\n",
        "    <td>27.9</td>\n",
        "    <td>40</td>\n",
        "    <td>04-Feb-77</td>\n",
        "    <td></td>\n",
        "    <td>9.5</td>\n",
        "  </tr>\n",
        "</table></font>\n"
      ]
    },
    {
      "cell_type": "markdown",
      "metadata": {
        "id": "yH6WdUurmuuH"
      },
      "source": [
        "<hr>\n"
      ]
    },
    {
      "cell_type": "markdown",
      "metadata": {
        "id": "A7qcH8d8muuI"
      },
      "source": [
        "## <h2 id=\"tuple\">Tuple</h2>\n"
      ]
    },
    {
      "cell_type": "markdown",
      "metadata": {
        "id": "xsN9BcG6muuJ"
      },
      "source": [
        "Trong Python có các kiểu dữ liệu khác nhau như: string (chuỗi), integer (số nguyên) và float (số thực). Tất cả các kiểu dữ liệu này có thể được chứa trong một tuple như sau:\n"
      ]
    },
    {
      "cell_type": "markdown",
      "metadata": {
        "id": "6bi2F1AImuuJ"
      },
      "source": [
        "<img src=\"https://cf-courses-data.s3.us.cloud-object-storage.appdomain.cloud/IBMDeveloperSkillsNetwork-PY0101EN-SkillsNetwork/labs/Module%202/images/TuplesType.png\" width=\"750\" align=\"center\" />\n"
      ]
    },
    {
      "cell_type": "markdown",
      "metadata": {
        "id": "FFNL9nJGmuuK"
      },
      "source": [
        "Bây giờ, hãy tạo tuple đầu tiên của bạn với string, integer và float.\n"
      ]
    },
    {
      "cell_type": "code",
      "metadata": {
        "id": "-W-a07BumuuK",
        "colab": {
          "base_uri": "https://localhost:8080/"
        },
        "outputId": "dd6ca2f4-45a1-4f27-b354-d7e5a5d8d308"
      },
      "source": [
        "# Tạo tuple đầu tiên\n",
        "\n",
        "tuple1 = (\"disco\",10,1.2 )\n",
        "tuple1"
      ],
      "execution_count": 1,
      "outputs": [
        {
          "output_type": "execute_result",
          "data": {
            "text/plain": [
              "('disco', 10, 1.2)"
            ]
          },
          "metadata": {},
          "execution_count": 1
        }
      ]
    },
    {
      "cell_type": "markdown",
      "metadata": {
        "id": "1n1evunEmuuL"
      },
      "source": [
        "Kiểu dữ liệu của biến là **tuple**. \n"
      ]
    },
    {
      "cell_type": "code",
      "metadata": {
        "id": "VFhA75qTmuuL"
      },
      "source": [
        "# In ra kiểu của tuple vừa tạo\n",
        "\n",
        "type(tuple1)"
      ],
      "execution_count": null,
      "outputs": []
    },
    {
      "cell_type": "markdown",
      "metadata": {
        "id": "O4dm-npCmuuL"
      },
      "source": [
        "##<h3 id=\"index\">Indexing (Chỉ mục)</h3>\n"
      ]
    },
    {
      "cell_type": "markdown",
      "metadata": {
        "id": "794PrDdSmuuL"
      },
      "source": [
        "Mỗi phần tử của một tuple có thể được truy cập thông qua một chỉ mục. Bảng sau đây đại diện cho mối quan hệ giữa chỉ mục và các mục trong tuple. Mỗi phần tử có thể được lấy bằng tên của tuple theo sau bởi một dấu ngoặc vuông với số chỉ mục:\n"
      ]
    },
    {
      "cell_type": "markdown",
      "metadata": {
        "id": "IwOSFyhtmuuM"
      },
      "source": [
        "<img src=\"https://cf-courses-data.s3.us.cloud-object-storage.appdomain.cloud/IBMDeveloperSkillsNetwork-PY0101EN-SkillsNetwork/labs/Module%202/images/TuplesIndex.gif\" width=\"750\" align=\"center\">\n"
      ]
    },
    {
      "cell_type": "markdown",
      "metadata": {
        "id": "Aw8PdHp5muuM"
      },
      "source": [
        "Chúng ta có thể in ra từng giá trị trong tuple:\n"
      ]
    },
    {
      "cell_type": "code",
      "metadata": {
        "id": "Qi9uZ8CZmuuM",
        "colab": {
          "base_uri": "https://localhost:8080/"
        },
        "outputId": "d0d7b0e1-ac34-449b-fcfb-ad810d5dba1d"
      },
      "source": [
        "# In ra biến ở mỗi chỉ mục\n",
        "\n",
        "print(tuple1[0])\n",
        "print(tuple1[1])\n",
        "print(tuple1[2])"
      ],
      "execution_count": 2,
      "outputs": [
        {
          "output_type": "stream",
          "name": "stdout",
          "text": [
            "disco\n",
            "10\n",
            "1.2\n"
          ]
        }
      ]
    },
    {
      "cell_type": "markdown",
      "metadata": {
        "id": "OmJQSUJSmuuM"
      },
      "source": [
        "Chúng ta có thể in ra **type (kiểu)** của từng giá trị trong tuple:\n"
      ]
    },
    {
      "cell_type": "code",
      "metadata": {
        "id": "sq0fY7V3muuM",
        "colab": {
          "base_uri": "https://localhost:8080/"
        },
        "outputId": "c587c2e4-3ef9-4669-daae-e6ef05a4921c"
      },
      "source": [
        "# In ra kiểu của giá trị ở mỗi chỉ mục\n",
        "\n",
        "print(type(tuple1[0]))\n",
        "print(type(tuple1[1]))\n",
        "print(type(tuple1[2]))"
      ],
      "execution_count": 3,
      "outputs": [
        {
          "output_type": "stream",
          "name": "stdout",
          "text": [
            "<class 'str'>\n",
            "<class 'int'>\n",
            "<class 'float'>\n"
          ]
        }
      ]
    },
    {
      "cell_type": "markdown",
      "metadata": {
        "id": "jn5AFaqSmuuN"
      },
      "source": [
        "Chúng ta cũng có thể sử dụng chỉ mục âm, sử dụng cùng bảng trên với các giá trị âm tương ứng:\n"
      ]
    },
    {
      "cell_type": "markdown",
      "metadata": {
        "id": "MCRFiC4YmuuN"
      },
      "source": [
        "<img src=\"https://cf-courses-data.s3.us.cloud-object-storage.appdomain.cloud/IBMDeveloperSkillsNetwork-PY0101EN-SkillsNetwork/labs/Module%202/images/TuplesNeg.png\" width=\"750\" align=\"center\">\n"
      ]
    },
    {
      "cell_type": "markdown",
      "metadata": {
        "id": "dn6E9J7ymuuN"
      },
      "source": [
        "Chúng ta có thể lấy phần tử cuối cùng như sau (lần này chúng ta sẽ không sử dụng câu lệnh print để hiển thị các giá trị):\n"
      ]
    },
    {
      "cell_type": "code",
      "metadata": {
        "id": "bxrIhoEOmuuN",
        "colab": {
          "base_uri": "https://localhost:8080/"
        },
        "outputId": "09832e4d-d8e2-4f3b-edf7-fd4dff78ff10"
      },
      "source": [
        "# Sử dụng chỉ mục âm để lấy giá trị của phần tử cuối\n",
        "\n",
        "tuple1[-1]"
      ],
      "execution_count": 4,
      "outputs": [
        {
          "output_type": "execute_result",
          "data": {
            "text/plain": [
              "1.2"
            ]
          },
          "metadata": {},
          "execution_count": 4
        }
      ]
    },
    {
      "cell_type": "markdown",
      "metadata": {
        "id": "SoO_3frGmuuN"
      },
      "source": [
        "Chúng ta có thể hiển thị hai phần tử tiếp theo như sau:\n"
      ]
    },
    {
      "cell_type": "code",
      "metadata": {
        "id": "3EQBzducmuuO",
        "colab": {
          "base_uri": "https://localhost:8080/"
        },
        "outputId": "09c25497-823a-4a2f-c63f-825f1774e18d"
      },
      "source": [
        "# Sử dụng chỉ mục âm để lấy giá trị của phần tử cuối thứ hai\n",
        "\n",
        "tuple1[-2]"
      ],
      "execution_count": 5,
      "outputs": [
        {
          "output_type": "execute_result",
          "data": {
            "text/plain": [
              "10"
            ]
          },
          "metadata": {},
          "execution_count": 5
        }
      ]
    },
    {
      "cell_type": "code",
      "metadata": {
        "id": "eN2KPkDfmuuO",
        "colab": {
          "base_uri": "https://localhost:8080/",
          "height": 35
        },
        "outputId": "29a73c2d-d3a1-499f-d564-e79ccf3e5aaa"
      },
      "source": [
        "# Sử dụng chỉ mục âm để lấy giá trị của phần tử cuối thứ ba\n",
        "\n",
        "tuple1[-3]"
      ],
      "execution_count": 6,
      "outputs": [
        {
          "output_type": "execute_result",
          "data": {
            "text/plain": [
              "'disco'"
            ],
            "application/vnd.google.colaboratory.intrinsic+json": {
              "type": "string"
            }
          },
          "metadata": {},
          "execution_count": 6
        }
      ]
    },
    {
      "cell_type": "markdown",
      "metadata": {
        "id": "QEFM20YAmuuO"
      },
      "source": [
        "##<h3 id=\"concate\">Nối Tuple</h3>\n"
      ]
    },
    {
      "cell_type": "markdown",
      "metadata": {
        "id": "-OAqP87ImuuO"
      },
      "source": [
        "Chúng ta có thể nối hoặc kết hợp các tuple sử dụng dấu **+**:\n"
      ]
    },
    {
      "cell_type": "code",
      "metadata": {
        "id": "QUcXXB6kmuuO",
        "colab": {
          "base_uri": "https://localhost:8080/"
        },
        "outputId": "e8461db4-5fa8-4c1b-b549-71b0ce28d479"
      },
      "source": [
        "# Nối 2 tuple\n",
        "\n",
        "tuple2 = tuple1 + (\"hard rock\", 10)\n",
        "tuple2"
      ],
      "execution_count": 7,
      "outputs": [
        {
          "output_type": "execute_result",
          "data": {
            "text/plain": [
              "('disco', 10, 1.2, 'hard rock', 10)"
            ]
          },
          "metadata": {},
          "execution_count": 7
        }
      ]
    },
    {
      "cell_type": "markdown",
      "metadata": {
        "id": "6NSpJ3WhmuuP"
      },
      "source": [
        "Chúng ta có thể chia nhỏ tuple, thu nhiều giá trị như được minh họa trong hình bên dưới:\n"
      ]
    },
    {
      "cell_type": "markdown",
      "metadata": {
        "id": "2vlg2BzfmuuP"
      },
      "source": [
        "<img src=\"https://cf-courses-data.s3.us.cloud-object-storage.appdomain.cloud/IBMDeveloperSkillsNetwork-PY0101EN-SkillsNetwork/labs/Module%202/images/TuplesSlice.gif\" width=\"750\" align=\"center\">\n"
      ]
    },
    {
      "cell_type": "markdown",
      "metadata": {
        "id": "IP1axCxWmuuP"
      },
      "source": [
        "##<h3 id=\"slice\">Slicing</h3>\n"
      ]
    },
    {
      "cell_type": "markdown",
      "metadata": {
        "id": "dfbv2RyZmuuP"
      },
      "source": [
        " Chúng ta có thể chia nhỏ tuple, có các tuple mới với các phần tử tương ứng:\n"
      ]
    },
    {
      "cell_type": "code",
      "metadata": {
        "id": "aTW9VcIvmuuP",
        "colab": {
          "base_uri": "https://localhost:8080/"
        },
        "outputId": "7c9e1532-8e89-4b7c-b0f4-95e24d0ef73f"
      },
      "source": [
        "# Chia nhỏ tuple từ chỉ mục 0 tới chỉ mục 2\n",
        "\n",
        "tuple2[0:3]"
      ],
      "execution_count": 8,
      "outputs": [
        {
          "output_type": "execute_result",
          "data": {
            "text/plain": [
              "('disco', 10, 1.2)"
            ]
          },
          "metadata": {},
          "execution_count": 8
        }
      ]
    },
    {
      "cell_type": "markdown",
      "metadata": {
        "id": "6P8DW4LkmuuP"
      },
      "source": [
        "Chúng ta có thể lấy hai phần tử cuối cùng của tuple:\n"
      ]
    },
    {
      "cell_type": "code",
      "metadata": {
        "id": "YZhVkJ-gmuuQ",
        "colab": {
          "base_uri": "https://localhost:8080/"
        },
        "outputId": "6945a8e8-ed92-4fbd-a87a-796efa50ceea"
      },
      "source": [
        "# Chia nhỏ tuple từ chỉ mục 3 tới chỉ mục 4\n",
        "\n",
        "tuple2[3:5]"
      ],
      "execution_count": 9,
      "outputs": [
        {
          "output_type": "execute_result",
          "data": {
            "text/plain": [
              "('hard rock', 10)"
            ]
          },
          "metadata": {},
          "execution_count": 9
        }
      ]
    },
    {
      "cell_type": "markdown",
      "metadata": {
        "id": "xlyxhw4dmuuQ"
      },
      "source": [
        "Chúng ta có thể lấy độ dài của một tuple bằng cách sử dụng lệnh <code>len</code>:\n"
      ]
    },
    {
      "cell_type": "code",
      "metadata": {
        "id": "a5sTHC7vmuuQ"
      },
      "source": [
        "# Lấy độ dài của tuple\n",
        "\n",
        "len(tuple2)"
      ],
      "execution_count": null,
      "outputs": []
    },
    {
      "cell_type": "markdown",
      "metadata": {
        "id": "VwGKov2nmuuQ"
      },
      "source": [
        "Hình này cho thấy số phần tử:\n"
      ]
    },
    {
      "cell_type": "markdown",
      "metadata": {
        "id": "VWUKl9ulmuuQ"
      },
      "source": [
        "<img src=\"https://cf-courses-data.s3.us.cloud-object-storage.appdomain.cloud/IBMDeveloperSkillsNetwork-PY0101EN-SkillsNetwork/labs/Module%202/images/TuplesElement.png\" width=\"750\" align=\"center\">\n"
      ]
    },
    {
      "cell_type": "markdown",
      "metadata": {
        "id": "weriJERhmuuR"
      },
      "source": [
        "##<h3 id=\"sort\">Sorting (Sắp xếp)</h3>\n"
      ]
    },
    {
      "cell_type": "markdown",
      "metadata": {
        "id": "VIw0zDETmuuR"
      },
      "source": [
        "Xem xét tuple sau:\n"
      ]
    },
    {
      "cell_type": "code",
      "metadata": {
        "collapsed": true,
        "id": "F_h1ej7ymuuR"
      },
      "source": [
        "# Tuple mẫu\n",
        "\n",
        "Ratings = (0, 9, 6, 5, 10, 8, 9, 6, 2)"
      ],
      "execution_count": null,
      "outputs": []
    },
    {
      "cell_type": "markdown",
      "metadata": {
        "id": "AJ2J_W4nmuuR"
      },
      "source": [
        "Chúng ta có thể sắp xếp các giá trị trong một tuple và lưu nó vào một tuple mới:\n"
      ]
    },
    {
      "cell_type": "code",
      "metadata": {
        "id": "9KsJUQHWmuuR"
      },
      "source": [
        "# Sắp xếp tuple\n",
        "\n",
        "RatingsSorted = sorted(Ratings)\n",
        "RatingsSorted"
      ],
      "execution_count": null,
      "outputs": []
    },
    {
      "cell_type": "markdown",
      "metadata": {
        "id": "yFCgfaQnmuuR"
      },
      "source": [
        "##<h3 id=\"nest\">Nested Tuple (Tuple lồng nhau)</h3>\n"
      ]
    },
    {
      "cell_type": "markdown",
      "metadata": {
        "id": "cJd4OPHZmuuS"
      },
      "source": [
        "Một tuple có thể chứa một tuple khác hay các kiểu dữ liệu phức tạp hơn. Quá trình này được gọi là 'nesting'. Hãy xem xét tuple sau với một số phần tử:\n"
      ]
    },
    {
      "cell_type": "code",
      "metadata": {
        "collapsed": true,
        "id": "11ejk3MomuuS"
      },
      "source": [
        "# Tạo một nest tuple\n",
        "\n",
        "NestedT =(1, 2, (\"pop\", \"rock\") ,(3,4),(\"disco\",(1,2)))"
      ],
      "execution_count": null,
      "outputs": []
    },
    {
      "cell_type": "markdown",
      "metadata": {
        "id": "TCiUzYgQmuuT"
      },
      "source": [
        "Mỗi phần tử trong tuple bao gồm các tuple khác có thể được lấy thông qua một chỉ mục như trong hình:\n"
      ]
    },
    {
      "cell_type": "markdown",
      "metadata": {
        "id": "CLo7Yq-tmuuT"
      },
      "source": [
        "<img src=\"https://cf-courses-data.s3.us.cloud-object-storage.appdomain.cloud/IBMDeveloperSkillsNetwork-PY0101EN-SkillsNetwork/labs/Module%202/images/TuplesNestOne.png\" width=\"750\" align=\"center\">\n"
      ]
    },
    {
      "cell_type": "code",
      "metadata": {
        "id": "hHOwBe6XmuuT"
      },
      "source": [
        "# In phần tử trên từng chỉ mục\n",
        "\n",
        "print(\"Element 0 of Tuple: \", NestedT[0])\n",
        "print(\"Element 1 of Tuple: \", NestedT[1])\n",
        "print(\"Element 2 of Tuple: \", NestedT[2])\n",
        "print(\"Element 3 of Tuple: \", NestedT[3])\n",
        "print(\"Element 4 of Tuple: \", NestedT[4])"
      ],
      "execution_count": null,
      "outputs": []
    },
    {
      "cell_type": "markdown",
      "metadata": {
        "id": "28AiS9d1muuU"
      },
      "source": [
        "Chúng ta có thể sử dụng chỉ mục thứ hai để truy cập các tuple khác như  hình minh họa:\n"
      ]
    },
    {
      "cell_type": "markdown",
      "metadata": {
        "id": "vKUurX1CmuuU"
      },
      "source": [
        "<img src=\"https://cf-courses-data.s3.us.cloud-object-storage.appdomain.cloud/IBMDeveloperSkillsNetwork-PY0101EN-SkillsNetwork/labs/Module%202/images/TuplesNestTwo.png\" width=\"750\" align=\"center\">\n"
      ]
    },
    {
      "cell_type": "markdown",
      "metadata": {
        "id": "oszVwIuTmuuU"
      },
      "source": [
        "Chúng ta có thể truy cập nested tuple :\n"
      ]
    },
    {
      "cell_type": "code",
      "metadata": {
        "id": "Vi_M4HMNmuuU"
      },
      "source": [
        "# In phân tử trên mỗi chỉ mục gồm các chỉ mục lồng nhau\n",
        "\n",
        "print(\"Element 2, 0 of Tuple: \",   NestedT[2][0])\n",
        "print(\"Element 2, 1 of Tuple: \",   NestedT[2][1])\n",
        "print(\"Element 3, 0 of Tuple: \",   NestedT[3][0])\n",
        "print(\"Element 3, 1 of Tuple: \",   NestedT[3][1])\n",
        "print(\"Element 4, 0 of Tuple: \",   NestedT[4][0])\n",
        "print(\"Element 4, 1 of Tuple: \",   NestedT[4][1])"
      ],
      "execution_count": null,
      "outputs": []
    },
    {
      "cell_type": "markdown",
      "metadata": {
        "id": "wDF7q1EomuuV"
      },
      "source": [
        "Chúng ta có thể truy cập các string trong nested tuple thứ hai sử dụng chỉ mục thứ ba:\n"
      ]
    },
    {
      "cell_type": "code",
      "metadata": {
        "id": "Lba_fNLcmuuV"
      },
      "source": [
        "# In phần tử đầu tiên trong nested tuple thứ hai\n",
        "\n",
        "NestedT[2][1][0]"
      ],
      "execution_count": null,
      "outputs": []
    },
    {
      "cell_type": "code",
      "metadata": {
        "id": "C4i7R3qwmuuV"
      },
      "source": [
        "# In phần tử thứ hai trong nested tuple thứ hai\n",
        "\n",
        "NestedT[2][1][1]"
      ],
      "execution_count": null,
      "outputs": []
    },
    {
      "cell_type": "markdown",
      "metadata": {
        "id": "iafRZ9bymuuV"
      },
      "source": [
        "Chúng ta có thể hình dung quá trình này qua một cây. Mỗi chỉ mục mới tương ứng với một cấp độ sâu hơn ở cây:"
      ]
    },
    {
      "cell_type": "markdown",
      "metadata": {
        "id": "LZNPtfuhmuuV"
      },
      "source": [
        "<img src=\"https://cf-courses-data.s3.us.cloud-object-storage.appdomain.cloud/IBMDeveloperSkillsNetwork-PY0101EN-SkillsNetwork/labs/Module%202/images/TuplesNestThree.gif\" width=\"750\" align=\"center\">\n"
      ]
    },
    {
      "cell_type": "markdown",
      "metadata": {
        "id": "QyO3kjtnmuuV"
      },
      "source": [
        "Tương tự, chúng ta có thể truy cập các phần tử được lồng sâu hơn trong cây với chỉ mục thứ tư:"
      ]
    },
    {
      "cell_type": "code",
      "metadata": {
        "id": "Do5Qi36imuuW"
      },
      "source": [
        "# In phần tử đầu tiên trong nested tuple thứ tư\n",
        "\n",
        "NestedT[4][1][0]"
      ],
      "execution_count": null,
      "outputs": []
    },
    {
      "cell_type": "code",
      "metadata": {
        "id": "L4kp4asGmuuW"
      },
      "source": [
        "# In phần tử thứ hai trong nested tuple thứ tư\n",
        "\n",
        "NestedT[4][1][1]"
      ],
      "execution_count": null,
      "outputs": []
    },
    {
      "cell_type": "markdown",
      "metadata": {
        "id": "wWOaTlQpmuuW"
      },
      "source": [
        "Hình sau cho thấy mối quan hệ giữa cây và phần tử <code> NestedT[4][1][1]</code>:\n"
      ]
    },
    {
      "cell_type": "markdown",
      "metadata": {
        "id": "nPiSuuInmuuW"
      },
      "source": [
        "<img src=\"https://cf-courses-data.s3.us.cloud-object-storage.appdomain.cloud/IBMDeveloperSkillsNetwork-PY0101EN-SkillsNetwork/labs/Module%202/images/TuplesNestFour.gif\" width=\"750\" align=\"center\">\n"
      ]
    },
    {
      "cell_type": "markdown",
      "metadata": {
        "id": "gQj5XodxmuuW"
      },
      "source": [
        "##<h2 id=\"quiz\">Quiz về Tuple</h2>\n"
      ]
    },
    {
      "cell_type": "markdown",
      "metadata": {
        "id": "IW80VPgDmuuW"
      },
      "source": [
        "Xem xét tuple sau:\n"
      ]
    },
    {
      "cell_type": "code",
      "metadata": {
        "id": "m09XSKPzmuuX",
        "colab": {
          "base_uri": "https://localhost:8080/"
        },
        "outputId": "13777a7d-14c8-4229-99af-fbc7fc5fabfb"
      },
      "source": [
        "# tuple mẫu\n",
        "\n",
        "genres_tuple = (\"pop\", \"rock\", \"soul\", \"hard rock\", \"soft rock\", \\\n",
        "                \"R&B\", \"progressive rock\", \"disco\") \n",
        "genres_tuple"
      ],
      "execution_count": 10,
      "outputs": [
        {
          "output_type": "execute_result",
          "data": {
            "text/plain": [
              "('pop',\n",
              " 'rock',\n",
              " 'soul',\n",
              " 'hard rock',\n",
              " 'soft rock',\n",
              " 'R&B',\n",
              " 'progressive rock',\n",
              " 'disco')"
            ]
          },
          "metadata": {},
          "execution_count": 10
        }
      ]
    },
    {
      "cell_type": "markdown",
      "metadata": {
        "id": "BU0gDzRymuuX"
      },
      "source": [
        "Tìm độ dài của tuple, <code>genres_tuple</code>:\n"
      ]
    },
    {
      "cell_type": "code",
      "metadata": {
        "id": "BWtve2ewmuuX",
        "colab": {
          "base_uri": "https://localhost:8080/"
        },
        "outputId": "cf2f6454-d0bc-4bd3-a4c4-8752a91b23d1"
      },
      "source": [
        "# Viết code của bạn xuống đây và nhấn Shift+Enter để thực hiện\n",
        "len( genres_tuple)"
      ],
      "execution_count": 11,
      "outputs": [
        {
          "output_type": "execute_result",
          "data": {
            "text/plain": [
              "8"
            ]
          },
          "metadata": {},
          "execution_count": 11
        }
      ]
    },
    {
      "cell_type": "markdown",
      "metadata": {
        "id": "DsvMRPOwmuuX"
      },
      "source": [
        "<img src=\"https://cf-courses-data.s3.us.cloud-object-storage.appdomain.cloud/IBMDeveloperSkillsNetwork-PY0101EN-SkillsNetwork/labs/Module%202/images/TuplesQuiz.png\" width=\"1100\" align=\"center\">\n"
      ]
    },
    {
      "cell_type": "markdown",
      "metadata": {
        "id": "-fi8_7lFmuuX"
      },
      "source": [
        "<details><summary>Click vào đây để xem lời giải</summary>\n",
        "\n",
        "```python\n",
        "len(genres_tuple)\n",
        "```\n",
        "\n",
        "</details>\n"
      ]
    },
    {
      "cell_type": "markdown",
      "metadata": {
        "id": "XBoD5OwMmuuY"
      },
      "source": [
        "Truy cập phần tử đối với chỉ mục 3:\n"
      ]
    },
    {
      "cell_type": "code",
      "metadata": {
        "id": "HH3ExSyImuuY",
        "colab": {
          "base_uri": "https://localhost:8080/",
          "height": 35
        },
        "outputId": "9c7b24d2-ac63-480b-923b-ff453b2d1b4e"
      },
      "source": [
        "# Viết code của bạn xuống đây và nhấn Shift+Enter để thực hiện\n",
        "genres_tuple[3]"
      ],
      "execution_count": 12,
      "outputs": [
        {
          "output_type": "execute_result",
          "data": {
            "text/plain": [
              "'hard rock'"
            ],
            "application/vnd.google.colaboratory.intrinsic+json": {
              "type": "string"
            }
          },
          "metadata": {},
          "execution_count": 12
        }
      ]
    },
    {
      "cell_type": "markdown",
      "metadata": {
        "id": "gcU53WzkmuuY"
      },
      "source": [
        "<details><summary>Click vào đây để xem lời giải</summary>\n",
        "\n",
        "```python\n",
        "genres_tuple[3]\n",
        "\n",
        "```\n",
        "\n",
        "</details>\n"
      ]
    },
    {
      "cell_type": "markdown",
      "metadata": {
        "id": "93_nbHofmuuY"
      },
      "source": [
        "Sử dụng slicing để lấy các chỉ mục 3, 4 và 5:"
      ]
    },
    {
      "cell_type": "code",
      "metadata": {
        "id": "VmgwXXEQmuuY",
        "colab": {
          "base_uri": "https://localhost:8080/"
        },
        "outputId": "d884011e-d306-4472-e5ee-a56f79f3397d"
      },
      "source": [
        "# Viết code của bạn xuống đây và nhấn Shift+Enter để thực hiện\n",
        "\n",
        "genres_tuple[3:6]\n"
      ],
      "execution_count": 13,
      "outputs": [
        {
          "output_type": "execute_result",
          "data": {
            "text/plain": [
              "('hard rock', 'soft rock', 'R&B')"
            ]
          },
          "metadata": {},
          "execution_count": 13
        }
      ]
    },
    {
      "cell_type": "markdown",
      "metadata": {
        "id": "2tQmiL_KmuuY"
      },
      "source": [
        "<details><summary>Click vào đây để xem lời giải</summary>\n",
        "\n",
        "```python\n",
        "genres_tuple[3:6]\n",
        "\n",
        "```\n",
        "\n",
        "</details>\n"
      ]
    },
    {
      "cell_type": "markdown",
      "metadata": {
        "id": "77sGWRVEmuuZ"
      },
      "source": [
        "Tìm hai phần tử đầu tiên của tuple <code>genres_tuple</code>:\n"
      ]
    },
    {
      "cell_type": "code",
      "metadata": {
        "id": "Y6II7NPbmuuZ",
        "colab": {
          "base_uri": "https://localhost:8080/"
        },
        "outputId": "c932ae76-01f5-4772-8ffd-d470bcba7579"
      },
      "source": [
        "# Viết code của bạn xuống đây và nhấn Shift+Enter để thực hiện\n",
        "genres_tuple[0:2]"
      ],
      "execution_count": 14,
      "outputs": [
        {
          "output_type": "execute_result",
          "data": {
            "text/plain": [
              "('pop', 'rock')"
            ]
          },
          "metadata": {},
          "execution_count": 14
        }
      ]
    },
    {
      "cell_type": "markdown",
      "metadata": {
        "id": "gZwKfzJumuuZ"
      },
      "source": [
        "<details><summary>Click vào đây để xem lời giải</summary>\n",
        "\n",
        "```python\n",
        "genres_tuple[0:2]\n",
        "\n",
        "```\n",
        "\n",
        "</details>\n"
      ]
    },
    {
      "cell_type": "markdown",
      "metadata": {
        "id": "JMomDp2LmuuZ"
      },
      "source": [
        "Tìm chỉ mục đầu tiên của <code>\"disco\"</code>:\n"
      ]
    },
    {
      "cell_type": "code",
      "metadata": {
        "id": "4_VL5cdrmuuZ",
        "colab": {
          "base_uri": "https://localhost:8080/"
        },
        "outputId": "04dcbf0b-fc19-4b56-da71-af661b093857"
      },
      "source": [
        "# Viết code của bạn xuống đây và nhấn Shift+Enter để thực hiện\n",
        "genres_tuple.index('disco')"
      ],
      "execution_count": 16,
      "outputs": [
        {
          "output_type": "execute_result",
          "data": {
            "text/plain": [
              "7"
            ]
          },
          "metadata": {},
          "execution_count": 16
        }
      ]
    },
    {
      "cell_type": "markdown",
      "metadata": {
        "id": "_Vrxha1jmuua"
      },
      "source": [
        "<details><summary>Click vào đây để xem lời giải</summary>\n",
        "\n",
        "```python\n",
        "genres_tuple.index(\"disco\")\n",
        "\n",
        "```\n",
        "\n",
        "</details>\n"
      ]
    },
    {
      "cell_type": "markdown",
      "metadata": {
        "id": "gJqvF4n0muua"
      },
      "source": [
        "Tạo một danh sách được sắp xếp từ Tuple <code> C_tuple=(- 5, 1, -3)</code>:\n"
      ]
    },
    {
      "cell_type": "code",
      "metadata": {
        "id": "9AMLeXPjmuua",
        "colab": {
          "base_uri": "https://localhost:8080/"
        },
        "outputId": "404a8ca0-994c-426a-ba9f-4b5743d9a745"
      },
      "source": [
        "# Viết code của bạn xuống đây và nhấn Shift+Enter để thực hiện\n",
        "C_tuple=(- 5, 1, -3)\n",
        "C_list = sorted(C_tuple)\n",
        "C_list"
      ],
      "execution_count": 18,
      "outputs": [
        {
          "output_type": "execute_result",
          "data": {
            "text/plain": [
              "[-5, -3, 1]"
            ]
          },
          "metadata": {},
          "execution_count": 18
        }
      ]
    },
    {
      "cell_type": "markdown",
      "metadata": {
        "id": "pGhfxDaEmuua"
      },
      "source": [
        "<details><summary>Click vào đây để xem lời giải</summary>\n",
        "\n",
        "```python\n",
        "C_tuple = (-5, 1, -3)\n",
        "C_list = sorted(C_tuple)\n",
        "C_list\n",
        "\n",
        "```\n",
        "\n",
        "</details>\n"
      ]
    }
  ]
}