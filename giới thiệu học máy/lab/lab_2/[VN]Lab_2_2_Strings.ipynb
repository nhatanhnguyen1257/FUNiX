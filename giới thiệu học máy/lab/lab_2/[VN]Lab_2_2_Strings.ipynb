{
  "nbformat": 4,
  "nbformat_minor": 0,
  "metadata": {
    "kernelspec": {
      "display_name": "Python 3",
      "language": "python",
      "name": "python3"
    },
    "language_info": {
      "codemirror_mode": {
        "name": "ipython",
        "version": 3
      },
      "file_extension": ".py",
      "mimetype": "text/x-python",
      "name": "python",
      "nbconvert_exporter": "python",
      "pygments_lexer": "ipython3",
      "version": "3.6.8"
    },
    "colab": {
      "provenance": []
    }
  },
  "cells": [
    {
      "cell_type": "markdown",
      "metadata": {
        "id": "uGGiSa1WIw-o"
      },
      "source": [
        "# Các thao tác với String\n",
        "\n",
        "Thời lượng ước tính: **15** phút\n",
        "\n",
        "## Mục tiêu\n",
        "\n",
        "Sau khi hoàn thành lab này, bạn sẽ có thể:\n",
        "\n",
        "*   Làm việc với String\n",
        "*   Thực hiện các thao tác với String\n",
        "*   Thao tác String sử dụng indexing và escape sequence"
      ]
    },
    {
      "cell_type": "markdown",
      "metadata": {
        "id": "Yn2X7jDFIw-q"
      },
      "source": [
        "<h2>Mục lục</h2>\n",
        "<div class=\"alert alert-block alert-info\" style=\"margin-top: 20px\">\n",
        "    <ul>\n",
        "        <li>\n",
        "            <a href=\"#strings\">String là gì?</a>\n",
        "        </li>\n",
        "        <li>\n",
        "            <a href=\"#index\">Indexing (Chỉ mục)</a>\n",
        "            <ul>\n",
        "                <li><a href=\"neg\">Chỉ mục âm</a></li>\n",
        "                <li><a href=\"slice\">Slicing</a></li>\n",
        "                <li><a href=\"stride\">Stride</a></li>\n",
        "                <li><a href=\"concat\">Nối String</a></li>\n",
        "            </ul>\n",
        "        </li>\n",
        "        <li>\n",
        "            <a href=\"#escape\">Escape Sequence</a>\n",
        "        </li>\n",
        "        <li>\n",
        "            <a href=\"#operations\">Thao tác với String</a>\n",
        "        </li>\n",
        "        <li>\n",
        "            <a href=\"#quiz\">Quiz về Strings</a>\n",
        "        </li>\n",
        "    </ul>\n",
        "    </div>\n",
        "\n",
        "<hr>"
      ]
    },
    {
      "cell_type": "markdown",
      "metadata": {
        "id": "X9LLnH0fIw-q"
      },
      "source": [
        "<h2 id=\"strings\">String là gì?</h2>"
      ]
    },
    {
      "cell_type": "markdown",
      "metadata": {
        "id": "9Od13zsFIw-r"
      },
      "source": [
        "Ví dụ sau cho thấy một string chứa trong cặp dấu nháy kép:"
      ]
    },
    {
      "cell_type": "code",
      "metadata": {
        "id": "4SHlZ_3cIw-r",
        "outputId": "b5b099bf-0c8d-48d8-916b-891c1d7aa3b3",
        "colab": {
          "base_uri": "https://localhost:8080/",
          "height": 35
        }
      },
      "source": [
        "# Sử dụng dấu nháy kép để xác định string\n",
        "\n",
        "\"Michael Jackson\""
      ],
      "execution_count": 1,
      "outputs": [
        {
          "output_type": "execute_result",
          "data": {
            "text/plain": [
              "'Michael Jackson'"
            ],
            "application/vnd.google.colaboratory.intrinsic+json": {
              "type": "string"
            }
          },
          "metadata": {},
          "execution_count": 1
        }
      ]
    },
    {
      "cell_type": "markdown",
      "metadata": {
        "id": "VRJWHtBvIw-s"
      },
      "source": [
        "Chúng ta cũng có thể sử dụng dấu nháy đơn:"
      ]
    },
    {
      "cell_type": "code",
      "metadata": {
        "id": "DEwLYbihIw-s",
        "outputId": "7f2bed7a-854f-4a4e-e21e-6221ab267c6d",
        "colab": {
          "base_uri": "https://localhost:8080/",
          "height": 35
        }
      },
      "source": [
        "# Sử dụng dấu nháy đơn để xác định string\n",
        "\n",
        "'Michael Jackson'"
      ],
      "execution_count": 2,
      "outputs": [
        {
          "output_type": "execute_result",
          "data": {
            "text/plain": [
              "'Michael Jackson'"
            ],
            "application/vnd.google.colaboratory.intrinsic+json": {
              "type": "string"
            }
          },
          "metadata": {},
          "execution_count": 2
        }
      ]
    },
    {
      "cell_type": "markdown",
      "metadata": {
        "id": "vM5sL0l9Iw-s"
      },
      "source": [
        "String có thể là sự kết hợp của khoảng trắng và chữ số: "
      ]
    },
    {
      "cell_type": "code",
      "metadata": {
        "id": "P5unS99wIw-s",
        "outputId": "99ed4304-84cb-4421-b846-9b70a7777aa0",
        "colab": {
          "base_uri": "https://localhost:8080/",
          "height": 35
        }
      },
      "source": [
        "# Chữ số và khoảng trắng trong string\n",
        "\n",
        "'1 2 3 4 5 6 '"
      ],
      "execution_count": 3,
      "outputs": [
        {
          "output_type": "execute_result",
          "data": {
            "text/plain": [
              "'1 2 3 4 5 6 '"
            ],
            "application/vnd.google.colaboratory.intrinsic+json": {
              "type": "string"
            }
          },
          "metadata": {},
          "execution_count": 3
        }
      ]
    },
    {
      "cell_type": "markdown",
      "metadata": {
        "id": "8AbVaxOhIw-t"
      },
      "source": [
        "String cũng có thể là sự kết hợp của các ký tự đặc biệt: "
      ]
    },
    {
      "cell_type": "code",
      "metadata": {
        "id": "0LbO6tgeIw-t",
        "outputId": "331e938c-89b2-407c-e71a-7e7f69e590ef",
        "colab": {
          "base_uri": "https://localhost:8080/",
          "height": 35
        }
      },
      "source": [
        "# Ký tự đặc biệt trong string\n",
        "\n",
        "'@#2_#]&*^%$'"
      ],
      "execution_count": 4,
      "outputs": [
        {
          "output_type": "execute_result",
          "data": {
            "text/plain": [
              "'@#2_#]&*^%$'"
            ],
            "application/vnd.google.colaboratory.intrinsic+json": {
              "type": "string"
            }
          },
          "metadata": {},
          "execution_count": 4
        }
      ]
    },
    {
      "cell_type": "markdown",
      "metadata": {
        "id": "oxGsl71hIw-t"
      },
      "source": [
        "Chúng ta có thể in ra string sử dụng câu lệnh print:"
      ]
    },
    {
      "cell_type": "code",
      "metadata": {
        "id": "5OjWtNIPIw-t",
        "outputId": "028650fb-ee56-4e1a-f909-319b24f70237",
        "colab": {
          "base_uri": "https://localhost:8080/"
        }
      },
      "source": [
        "# In ra string\n",
        "\n",
        "print(\"hello!\")"
      ],
      "execution_count": 5,
      "outputs": [
        {
          "output_type": "stream",
          "name": "stdout",
          "text": [
            "hello!\n"
          ]
        }
      ]
    },
    {
      "cell_type": "markdown",
      "metadata": {
        "id": "-t2kWkMjIw-u"
      },
      "source": [
        "Chúng ta có thể liên kết hoặc gán string cho một biến khác:\n"
      ]
    },
    {
      "cell_type": "code",
      "metadata": {
        "id": "p2hY2mgkIw-u",
        "outputId": "d28c3833-54fd-48b1-df26-c7bb9005abdb",
        "colab": {
          "base_uri": "https://localhost:8080/",
          "height": 35
        }
      },
      "source": [
        "# Gán string cho một biến\n",
        "\n",
        "Name = \"Michael Jackson\"\n",
        "Name"
      ],
      "execution_count": 6,
      "outputs": [
        {
          "output_type": "execute_result",
          "data": {
            "text/plain": [
              "'Michael Jackson'"
            ],
            "application/vnd.google.colaboratory.intrinsic+json": {
              "type": "string"
            }
          },
          "metadata": {},
          "execution_count": 6
        }
      ]
    },
    {
      "cell_type": "markdown",
      "metadata": {
        "id": "K1ne2nJJIw-u"
      },
      "source": [
        "<hr>"
      ]
    },
    {
      "cell_type": "markdown",
      "metadata": {
        "id": "9cKf6pPsIw-u"
      },
      "source": [
        "<h2 id=\"index\">Chỉ mục</h2>"
      ]
    },
    {
      "cell_type": "markdown",
      "metadata": {
        "id": "wn-RdOJvIw-v"
      },
      "source": [
        "Sẽ rất hữu ích nếu coi string là một dãy có thứ tự. Mỗi phần tử trong dãy có thể được truy cập bằng cách sử dụng một chỉ số được biểu thị bằng mảng số:  "
      ]
    },
    {
      "cell_type": "markdown",
      "metadata": {
        "id": "A1Xygi5OIw-v"
      },
      "source": [
        "<img src=\"https://s3-api.us-geo.objectstorage.softlayer.net/cf-courses-data/CognitiveClass/PY0101EN/Chapter%201/Images/StringsIndex.png\" width=\"600\" align=\"center\" />"
      ]
    },
    {
      "cell_type": "markdown",
      "metadata": {
        "id": "9Vu5myzXIw-v"
      },
      "source": [
        "Chỉ mục đầu tiên có thể được truy cập như sau:"
      ]
    },
    {
      "cell_type": "markdown",
      "metadata": {
        "id": "87FzQ3w8Iw-v"
      },
      "source": [
        "<hr/>\n",
        "<div class=\"alert alert-success alertsuccess\" style=\"margin-top: 20px\">\n",
        "[Tip]: Bởi vì chỉ mục bắt đầu từ 0, có nghĩa là chỉ mục đầu tiên nằm trên chỉ mục 0.\n",
        "</div>\n",
        "<hr/>"
      ]
    },
    {
      "cell_type": "code",
      "metadata": {
        "id": "AiC3IP9-Iw-w",
        "outputId": "56b3e094-8295-448a-f67d-25ddaf84e3c3",
        "colab": {
          "base_uri": "https://localhost:8080/"
        }
      },
      "source": [
        "# In ra phần tử đầu tiên trong string\n",
        "\n",
        "print(Name[0])"
      ],
      "execution_count": 7,
      "outputs": [
        {
          "output_type": "stream",
          "name": "stdout",
          "text": [
            "M\n"
          ]
        }
      ]
    },
    {
      "cell_type": "markdown",
      "metadata": {
        "id": "npSZD_6SIw-w"
      },
      "source": [
        "Chúng ta có thể truy cập chỉ mục 6:"
      ]
    },
    {
      "cell_type": "code",
      "metadata": {
        "id": "CwjqCofWIw-w",
        "outputId": "160849f3-0b98-4b1f-ff0f-ce63885d7360",
        "colab": {
          "base_uri": "https://localhost:8080/"
        }
      },
      "source": [
        "# In ra phần tử ở chỉ mục 6 trong string\n",
        "\n",
        "print(Name[6])"
      ],
      "execution_count": 8,
      "outputs": [
        {
          "output_type": "stream",
          "name": "stdout",
          "text": [
            "l\n"
          ]
        }
      ]
    },
    {
      "cell_type": "markdown",
      "metadata": {
        "id": "5NV5RJRoIw-w"
      },
      "source": [
        "Hơn nữa, chúng ta có thể truy cập chỉ mục thứ 13:"
      ]
    },
    {
      "cell_type": "code",
      "metadata": {
        "id": "Utjb2vKfIw-x",
        "outputId": "237b3097-c2bb-4f4b-922f-f9405e2c907b",
        "colab": {
          "base_uri": "https://localhost:8080/"
        }
      },
      "source": [
        "# In ra phần tử ở chỉ mục thư 13 trong string\n",
        "\n",
        "print(Name[13])"
      ],
      "execution_count": 9,
      "outputs": [
        {
          "output_type": "stream",
          "name": "stdout",
          "text": [
            "o\n"
          ]
        }
      ]
    },
    {
      "cell_type": "markdown",
      "metadata": {
        "id": "gAHwanv4Iw-x"
      },
      "source": [
        "<h3 id=\"neg\">Chỉ mục âm</h3>"
      ]
    },
    {
      "cell_type": "markdown",
      "metadata": {
        "id": "QiVK3RtlIw-x"
      },
      "source": [
        " Chúng ta có thể dùng chỉ mục âm với string:"
      ]
    },
    {
      "cell_type": "markdown",
      "metadata": {
        "id": "D06mKfJUIw-x"
      },
      "source": [
        "<img src=\"https://s3-api.us-geo.objectstorage.softlayer.net/cf-courses-data/CognitiveClass/PY0101EN/Chapter%201/Images/StringsNeg.png\" width=\"600\" align=\"center\" />"
      ]
    },
    {
      "cell_type": "markdown",
      "metadata": {
        "id": "T2ezEC7sIw-x"
      },
      "source": [
        "Chỉ mục âm có thể giúp chúng ta đếm phần tử từ cuối string."
      ]
    },
    {
      "cell_type": "markdown",
      "metadata": {
        "id": "bhA18GRtIw-y"
      },
      "source": [
        "Phần tử cuối cùng được cho bởi chỉ mục -1: "
      ]
    },
    {
      "cell_type": "code",
      "metadata": {
        "id": "WVuMSryCIw-y",
        "outputId": "12990322-bb14-4e21-d073-301c61635606",
        "colab": {
          "base_uri": "https://localhost:8080/"
        }
      },
      "source": [
        "# In ra phần tử cuối trong string\n",
        "\n",
        "print(Name[-1])"
      ],
      "execution_count": 10,
      "outputs": [
        {
          "output_type": "stream",
          "name": "stdout",
          "text": [
            "n\n"
          ]
        }
      ]
    },
    {
      "cell_type": "markdown",
      "metadata": {
        "id": "I0LHZvdnIw-y"
      },
      "source": [
        "Phần tử đầu tiên có thể nhận được bằng chỉ mục -15:"
      ]
    },
    {
      "cell_type": "code",
      "metadata": {
        "id": "hHSpAEJPIw-y",
        "outputId": "b46c8baa-70eb-4e4f-cf07-6aa1e324735e",
        "colab": {
          "base_uri": "https://localhost:8080/"
        }
      },
      "source": [
        "# In ra phần tử đầu tiên trong string\n",
        "\n",
        "print(Name[-15])"
      ],
      "execution_count": 11,
      "outputs": [
        {
          "output_type": "stream",
          "name": "stdout",
          "text": [
            "M\n"
          ]
        }
      ]
    },
    {
      "cell_type": "markdown",
      "metadata": {
        "id": "paAlmQZqIw-y"
      },
      "source": [
        "Chúng ta có thể tìm số ký tự trong một string bằng cách sử dụng <code>len</code>, viết tắt của length:"
      ]
    },
    {
      "cell_type": "code",
      "metadata": {
        "id": "Vzx9VNcbIw-z",
        "outputId": "409f2570-750c-4fd0-b83b-1dd835892455",
        "colab": {
          "base_uri": "https://localhost:8080/"
        }
      },
      "source": [
        "# Tìm độ dài của string\n",
        "\n",
        "len(\"Michael Jackson\")"
      ],
      "execution_count": 12,
      "outputs": [
        {
          "output_type": "execute_result",
          "data": {
            "text/plain": [
              "15"
            ]
          },
          "metadata": {},
          "execution_count": 12
        }
      ]
    },
    {
      "cell_type": "markdown",
      "metadata": {
        "id": "khQnYozQIw-z"
      },
      "source": [
        "<h3 id=\"slice\">Slicing</h3>"
      ]
    },
    {
      "cell_type": "markdown",
      "metadata": {
        "id": "4OjlgibjIw-z"
      },
      "source": [
        "Chúng ta có thể lấy nhiều ký tự từ một string bằng cách sử dụng slicing (lấy khoảng giá trị), chúng ta có thể lấy phần tử 0 đến 4 và 8 đến 12:  "
      ]
    },
    {
      "cell_type": "markdown",
      "metadata": {
        "id": "PFIZKA1WIw-z"
      },
      "source": [
        "<img src=\"https://s3-api.us-geo.objectstorage.softlayer.net/cf-courses-data/CognitiveClass/PY0101EN/Chapter%201/Images/StringsSlice.png\" width=\"600\" align=\"center\" />"
      ]
    },
    {
      "cell_type": "markdown",
      "metadata": {
        "id": "r3TWrnj7Iw-z"
      },
      "source": [
        "<hr/>\n",
        "<div class=\"alert alert-success alertsuccess\" style=\"margin-top: 20px\">\n",
        "[Tip]: Khi lấy khoảng giá trị, chỉ mục đầu tiên(số đầu tiên) là vị trí chỉ mục bắt đầu lấy là giá và chỉ mục thứ hai (số thứ hai) là vị trí chỉ mục ngừng lấy giá trị.\n",
        "</div>\n",
        "<hr/>"
      ]
    },
    {
      "cell_type": "code",
      "metadata": {
        "id": "KJSXJ12IIw-0",
        "outputId": "07c723e8-30ce-4e1d-e3e3-ec2baf16f2ad",
        "colab": {
          "base_uri": "https://localhost:8080/",
          "height": 35
        }
      },
      "source": [
        "# Lấy khoảng trên biến Name chỉ với chỉ mục 0 đến chỉ mục 3\n",
        "\n",
        "Name[0:4]"
      ],
      "execution_count": 13,
      "outputs": [
        {
          "output_type": "execute_result",
          "data": {
            "text/plain": [
              "'Mich'"
            ],
            "application/vnd.google.colaboratory.intrinsic+json": {
              "type": "string"
            }
          },
          "metadata": {},
          "execution_count": 13
        }
      ]
    },
    {
      "cell_type": "code",
      "metadata": {
        "id": "6fD9vuG1Iw-0",
        "outputId": "eff233a9-0366-4390-c486-4ed3ee8aed05",
        "colab": {
          "base_uri": "https://localhost:8080/",
          "height": 35
        }
      },
      "source": [
        "# Lấy khoảng trên biến Name chỉ với chỉ mục 8 đến chỉ mục 11\n",
        "\n",
        "Name[8:12]"
      ],
      "execution_count": 14,
      "outputs": [
        {
          "output_type": "execute_result",
          "data": {
            "text/plain": [
              "'Jack'"
            ],
            "application/vnd.google.colaboratory.intrinsic+json": {
              "type": "string"
            }
          },
          "metadata": {},
          "execution_count": 14
        }
      ]
    },
    {
      "cell_type": "markdown",
      "metadata": {
        "id": "S9A2Pc1wIw-0"
      },
      "source": [
        "<h3 id=\"stride\">Stride</h3>"
      ]
    },
    {
      "cell_type": "markdown",
      "metadata": {
        "id": "d_tYE51JIw-1"
      },
      "source": [
        "Chúng ta cũng có thể nhập giá trị stride như sau, với '2' cho biết rằng chúng ta đang chọn mọi biến thứ hai:"
      ]
    },
    {
      "cell_type": "markdown",
      "metadata": {
        "id": "46FHvY4vIw-1"
      },
      "source": [
        "<img src=\"https://s3-api.us-geo.objectstorage.softlayer.net/cf-courses-data/CognitiveClass/PY0101EN/Chapter%201/Images/StringsStride.png\" width=\"600\" align=\"center\" />"
      ]
    },
    {
      "cell_type": "code",
      "metadata": {
        "id": "8eay9_vHIw-1",
        "outputId": "a402dcba-4630-458a-81fa-ddba0605a423",
        "colab": {
          "base_uri": "https://localhost:8080/",
          "height": 35
        }
      },
      "source": [
        "# Lấy cách một phần tử. Các phần tử ở chỉ mục 1, 3, 5 …\n",
        "\n",
        "Name[::2]"
      ],
      "execution_count": 15,
      "outputs": [
        {
          "output_type": "execute_result",
          "data": {
            "text/plain": [
              "'McalJcsn'"
            ],
            "application/vnd.google.colaboratory.intrinsic+json": {
              "type": "string"
            }
          },
          "metadata": {},
          "execution_count": 15
        }
      ]
    },
    {
      "cell_type": "markdown",
      "metadata": {
        "id": "tw12GxokIw-1"
      },
      "source": [
        "Chúng ta cũng có thể kết hợp slicing với stride. Trong trường hợp này, chúng ta chọn năm phần tử đầu tiên và sau đó sử dụng stride: "
      ]
    },
    {
      "cell_type": "code",
      "metadata": {
        "id": "2lB3icdbIw-1",
        "outputId": "a1088290-ad2d-41d6-d3aa-77465e39911c",
        "colab": {
          "base_uri": "https://localhost:8080/",
          "height": 35
        }
      },
      "source": [
        "# Lấy cách một phần tử trong phạm vi từ chỉ mục 0 tới chỉ mục 4\n",
        "\n",
        "Name[0:5:2]"
      ],
      "execution_count": 16,
      "outputs": [
        {
          "output_type": "execute_result",
          "data": {
            "text/plain": [
              "'Mca'"
            ],
            "application/vnd.google.colaboratory.intrinsic+json": {
              "type": "string"
            }
          },
          "metadata": {},
          "execution_count": 16
        }
      ]
    },
    {
      "cell_type": "markdown",
      "metadata": {
        "id": "OD_cW3VUIw-2"
      },
      "source": [
        "<h3 id=\"concat\">Nối String</h3>"
      ]
    },
    {
      "cell_type": "markdown",
      "metadata": {
        "id": "mX8WG3T6Iw-2"
      },
      "source": [
        "Chúng ta có thể nối hoặc kết hợp các string bằng cách sử dụng các ký hiệu cộng và kết quả được một string mới là sự kết hợp của cả hai:\n"
      ]
    },
    {
      "cell_type": "code",
      "metadata": {
        "id": "DxCcpBUtIw-2",
        "outputId": "4fddd6ec-3e82-4b19-82c8-71670093a4ff",
        "colab": {
          "base_uri": "https://localhost:8080/",
          "height": 35
        }
      },
      "source": [
        "# Nối 2 string\n",
        "\n",
        "Statement = Name + \"is the best\"\n",
        "Statement"
      ],
      "execution_count": 17,
      "outputs": [
        {
          "output_type": "execute_result",
          "data": {
            "text/plain": [
              "'Michael Jacksonis the best'"
            ],
            "application/vnd.google.colaboratory.intrinsic+json": {
              "type": "string"
            }
          },
          "metadata": {},
          "execution_count": 17
        }
      ]
    },
    {
      "cell_type": "markdown",
      "metadata": {
        "id": "Ui-R0Yz5Iw-2"
      },
      "source": [
        "Để sao chép các giá trị của một string, chúng ta chỉ cần nhân string với số lần chúng ta muốn sao chép nó. Trong trường hợp này là 3. Kết quả là một string mới, bao gồm 3 bản sao của string ban đầu:"
      ]
    },
    {
      "cell_type": "code",
      "metadata": {
        "id": "WYMq656gIw-3",
        "outputId": "29124a48-8218-4156-e614-ecd3a7835c49",
        "colab": {
          "base_uri": "https://localhost:8080/",
          "height": 35
        }
      },
      "source": [
        "# In string sau 3 lần\n",
        "\n",
        "3 * \"Michael Jackson\""
      ],
      "execution_count": 18,
      "outputs": [
        {
          "output_type": "execute_result",
          "data": {
            "text/plain": [
              "'Michael JacksonMichael JacksonMichael Jackson'"
            ],
            "application/vnd.google.colaboratory.intrinsic+json": {
              "type": "string"
            }
          },
          "metadata": {},
          "execution_count": 18
        }
      ]
    },
    {
      "cell_type": "markdown",
      "metadata": {
        "id": "0TZK6PUDIw-3"
      },
      "source": [
        "Bạn có thể tạo một string mới bằng cách đặt nó thành biến ban đầu. Được nối với một string mới, kết quả là string mới thay đổi từ Michael Jackson thành \"Michael Jackson is the best\".\n"
      ]
    },
    {
      "cell_type": "code",
      "metadata": {
        "id": "48GlcpNKIw-3",
        "outputId": "803c5cd9-b239-4946-80ab-443b5b22d9df",
        "colab": {
          "base_uri": "https://localhost:8080/",
          "height": 35
        }
      },
      "source": [
        "# Nối string\n",
        "\n",
        "Name = \"Michael Jackson\"\n",
        "Name = Name + \" is the best\"\n",
        "Name"
      ],
      "execution_count": 19,
      "outputs": [
        {
          "output_type": "execute_result",
          "data": {
            "text/plain": [
              "'Michael Jackson is the best'"
            ],
            "application/vnd.google.colaboratory.intrinsic+json": {
              "type": "string"
            }
          },
          "metadata": {},
          "execution_count": 19
        }
      ]
    },
    {
      "cell_type": "markdown",
      "metadata": {
        "id": "AY5D1ZUuIw-3"
      },
      "source": [
        "<hr>"
      ]
    },
    {
      "cell_type": "markdown",
      "metadata": {
        "id": "_7Y9c93GIw-4"
      },
      "source": [
        "<h2 id=\"escape\">Escape Sequence</h2>"
      ]
    },
    {
      "cell_type": "markdown",
      "metadata": {
        "id": "0TQHZ-qbIw-4"
      },
      "source": [
        "Dấu gạch chéo ngược biểu thị sự bắt đầu của escape sequence. Escape thể hiện rằng các string có thể khó nhập. Ví dụ, \\n đại diện cho một dòng mới. Đầu ra được đưa ra bởi một dòng mới sau khi bắt gặp \\n:"
      ]
    },
    {
      "cell_type": "code",
      "metadata": {
        "id": "pf_uGt7wIw-4",
        "outputId": "2fdbbe8b-9d90-41ce-818d-e4d799363645",
        "colab": {
          "base_uri": "https://localhost:8080/"
        }
      },
      "source": [
        "# Dòng mới escape sequence\n",
        "\n",
        "print(\" Michael Jackson \\n is the best\" )"
      ],
      "execution_count": 20,
      "outputs": [
        {
          "output_type": "stream",
          "name": "stdout",
          "text": [
            " Michael Jackson \n",
            " is the best\n"
          ]
        }
      ]
    },
    {
      "cell_type": "markdown",
      "metadata": {
        "id": "CkKvwn0AIw-4"
      },
      "source": [
        "Tương tự, \\t thể hiện một khoảng cách (tương tự tạo khoảng cách khi nhấn nút tab): "
      ]
    },
    {
      "cell_type": "code",
      "metadata": {
        "id": "oB1ekiRFIw-5",
        "outputId": "431b8c78-4c65-4db3-af59-b8377026157e",
        "colab": {
          "base_uri": "https://localhost:8080/"
        }
      },
      "source": [
        "# Tab escape sequence\n",
        "\n",
        "print(\" Michael Jackson \\t is the best\" )"
      ],
      "execution_count": 21,
      "outputs": [
        {
          "output_type": "stream",
          "name": "stdout",
          "text": [
            " Michael Jackson \t is the best\n"
          ]
        }
      ]
    },
    {
      "cell_type": "markdown",
      "metadata": {
        "id": "AqGNcZsXIw-5"
      },
      "source": [
        "Nếu bạn muốn đặt dấu gạch chéo ngược trong string của mình, hãy sử dụng dấu gạch chéo ngược kép:"
      ]
    },
    {
      "cell_type": "code",
      "metadata": {
        "id": "SGPbWHuPIw-5",
        "outputId": "726dc0f9-155f-4a40-f94c-94df36fbe4ba",
        "colab": {
          "base_uri": "https://localhost:8080/"
        }
      },
      "source": [
        "# Đưa |\\\\ vào string\n",
        "\n",
        "print(\" Michael Jackson \\\\ is the best\" )"
      ],
      "execution_count": 22,
      "outputs": [
        {
          "output_type": "stream",
          "name": "stdout",
          "text": [
            " Michael Jackson \\ is the best\n"
          ]
        }
      ]
    },
    {
      "cell_type": "markdown",
      "metadata": {
        "id": "WZUly_-XIw-5"
      },
      "source": [
        "Chúng ta cũng có thể đặt \"r\" trước string để hiển thị dấu gạch chéo ngược:"
      ]
    },
    {
      "cell_type": "code",
      "metadata": {
        "id": "u9sGu58oIw-5",
        "outputId": "cd892a3c-4b76-443e-8415-de3a794c102b",
        "colab": {
          "base_uri": "https://localhost:8080/"
        }
      },
      "source": [
        "# r cho python biết là string sẽ được hiển thị ở dạng raw\n",
        "print(r\" Michael Jackson \\ is the best\" )"
      ],
      "execution_count": 23,
      "outputs": [
        {
          "output_type": "stream",
          "name": "stdout",
          "text": [
            " Michael Jackson \\ is the best\n"
          ]
        }
      ]
    },
    {
      "cell_type": "markdown",
      "metadata": {
        "id": "P36EttTQIw-5"
      },
      "source": [
        "<hr>"
      ]
    },
    {
      "cell_type": "markdown",
      "metadata": {
        "id": "6F63b5w3Iw-6"
      },
      "source": [
        "<h2 id=\"operations\">Thao tác với String</h2>"
      ]
    },
    {
      "cell_type": "markdown",
      "metadata": {
        "id": "3RnqtPEcIw-6"
      },
      "source": [
        "Có nhiều phương thức thao tác string trong Python có thể sử dụng để thao tác dữ liệu. Chúng ta sẽ sử dụng một số thao tác string cơ bản trên dữ liệu."
      ]
    },
    {
      "cell_type": "markdown",
      "metadata": {
        "id": "BaWCH2j0Iw-6"
      },
      "source": [
        "Hãy thử phương thức <code>upper</code>; phương thức này chuyển đổi các ký tự chữ thường thành các ký tự viết hoa:"
      ]
    },
    {
      "cell_type": "code",
      "metadata": {
        "id": "ZGetfoNQIw-6",
        "outputId": "a1de2a30-95bb-4cd1-9df4-d845373247d8",
        "colab": {
          "base_uri": "https://localhost:8080/"
        }
      },
      "source": [
        "# Chuyển tất cả các ký tự viết thường trong string sang ký tự viết hoa\n",
        "\n",
        "A = \"Thriller is the sixth studio album\"\n",
        "print(\"before upper:\", A)\n",
        "B = A.upper()\n",
        "print(\"After upper:\", B)"
      ],
      "execution_count": 24,
      "outputs": [
        {
          "output_type": "stream",
          "name": "stdout",
          "text": [
            "before upper: Thriller is the sixth studio album\n",
            "After upper: THRILLER IS THE SIXTH STUDIO ALBUM\n"
          ]
        }
      ]
    },
    {
      "cell_type": "markdown",
      "metadata": {
        "id": "hJhTt4drIw-6"
      },
      "source": [
        "Phương thức <code> replace</code> thay thế một phân đoạn của string, tức là thay một sub-string (chuỗi con) bằng một string mới. Chúng ta nhập phần của string muốn thay đổi. Đối số thứ hai là những gì chúng ta muốn trao đổi phân đoạn và kết quả được một string mới với phân đoạn đã thay đổi:\n"
      ]
    },
    {
      "cell_type": "code",
      "metadata": {
        "id": "tfbodP6DIw-7",
        "outputId": "d4b003ee-071b-46b1-942b-dd8278216cbe",
        "colab": {
          "base_uri": "https://localhost:8080/",
          "height": 35
        }
      },
      "source": [
        "# Thay thế substring cũ với substring đích mới là phân đoạn được tìm thấy trong string\n",
        "\n",
        "A = \"Michael Jackson is the best\"\n",
        "B = A.replace('Michael', 'Janet')\n",
        "B"
      ],
      "execution_count": 25,
      "outputs": [
        {
          "output_type": "execute_result",
          "data": {
            "text/plain": [
              "'Janet Jackson is the best'"
            ],
            "application/vnd.google.colaboratory.intrinsic+json": {
              "type": "string"
            }
          },
          "metadata": {},
          "execution_count": 25
        }
      ]
    },
    {
      "cell_type": "markdown",
      "metadata": {
        "id": "6e5ansgWIw-7"
      },
      "source": [
        "Phương thức <code> find</code> tìm một sub-string. Đối số là sub-string bạn muốn tìm và đầu ra là chỉ mục đầu tiên của dãy. Chúng ta có thể tìm thấy sub-string <code> jack</code> hoặc <code> el</code>."
      ]
    },
    {
      "cell_type": "markdown",
      "metadata": {
        "id": "90AycbCPIw-7"
      },
      "source": [
        "<img src=\"https://s3-api.us-geo.objectstorage.softlayer.net/cf-courses-data/CognitiveClass/PY0101EN/Chapter%201/Images/StringsFind.png\" width=\"600\" align=\"center\" />"
      ]
    },
    {
      "cell_type": "code",
      "metadata": {
        "id": "wVX-qvWuIw-7",
        "outputId": "68456bcd-f934-4b29-9920-bc54d294eebb",
        "colab": {
          "base_uri": "https://localhost:8080/"
        }
      },
      "source": [
        "# Tìm substring trong string. Output sẽ chỉ là chỉ mục của phần tử đầu tiên của substring trong string\n",
        "\n",
        "Name = \"Michael Jackson\"\n",
        "Name.find('el')"
      ],
      "execution_count": 26,
      "outputs": [
        {
          "output_type": "execute_result",
          "data": {
            "text/plain": [
              "5"
            ]
          },
          "metadata": {},
          "execution_count": 26
        }
      ]
    },
    {
      "cell_type": "code",
      "metadata": {
        "id": "fcXiifp7Iw-8",
        "outputId": "5cced57f-a9a0-4028-e7c2-f264e8504c8b",
        "colab": {
          "base_uri": "https://localhost:8080/"
        }
      },
      "source": [
        "# Tìm substring trong string\n",
        "\n",
        "Name.find('Jack')"
      ],
      "execution_count": 28,
      "outputs": [
        {
          "output_type": "execute_result",
          "data": {
            "text/plain": [
              "8"
            ]
          },
          "metadata": {},
          "execution_count": 28
        }
      ]
    },
    {
      "cell_type": "markdown",
      "metadata": {
        "id": "acNTCRWfIw-8"
      },
      "source": [
        "Nếu sub-string không nằm trong string thì kết quả đầu ra là phủ nhận. Ví dụ: string 'Jasdfasdasdf' không phải là sub-string:"
      ]
    },
    {
      "cell_type": "code",
      "metadata": {
        "collapsed": true,
        "id": "oSCgbSc_Iw-8",
        "outputId": "ba040658-fe98-4d82-ec6d-d4e29b5fcfcc",
        "colab": {
          "base_uri": "https://localhost:8080/"
        }
      },
      "source": [
        "# Nếu không tìm thấy substring trong string\n",
        "\n",
        "Name.find('Jasdfasdasdf')"
      ],
      "execution_count": 27,
      "outputs": [
        {
          "output_type": "execute_result",
          "data": {
            "text/plain": [
              "-1"
            ]
          },
          "metadata": {},
          "execution_count": 27
        }
      ]
    },
    {
      "cell_type": "markdown",
      "metadata": {
        "id": "XzmorhLpIw-8"
      },
      "source": [
        "<hr>"
      ]
    },
    {
      "cell_type": "markdown",
      "metadata": {
        "id": "U6_QvvNpIw-8"
      },
      "source": [
        "<h2 id=\"quiz\">Quiz về String</h2>"
      ]
    },
    {
      "cell_type": "markdown",
      "metadata": {
        "id": "b46a5K6JIw-9"
      },
      "source": [
        "Giá trị của biến <code>A</code> sau khi đoạn code sau được thực thi là bao nhiêu?"
      ]
    },
    {
      "cell_type": "code",
      "metadata": {
        "collapsed": true,
        "id": "PmeSA_ibIw-9"
      },
      "source": [
        "# Viết code của bạn xuống đây và nhấn Shift+Enter để thực hiện\n",
        "\n",
        "A = \"1\""
      ],
      "execution_count": 30,
      "outputs": []
    },
    {
      "cell_type": "markdown",
      "metadata": {
        "id": "aI5u_zdQXOWp"
      },
      "source": [
        "<details><summary>Click vào đây để xem lời giải</summary>\n",
        "\n",
        "```python\n",
        "\"1\"\n",
        "\n",
        "```\n",
        "\n",
        "</details>\n"
      ]
    },
    {
      "cell_type": "markdown",
      "metadata": {
        "id": "Rpdfut1IIw-9"
      },
      "source": [
        "Giá trị của biến <code>B</code> sau khi đoạn code sau được thực thi là bao nhiêu?"
      ]
    },
    {
      "cell_type": "code",
      "metadata": {
        "collapsed": true,
        "id": "xBYdlk3IIw--"
      },
      "source": [
        "# Viết code của bạn xuống đây và nhấn Shift+Enter để thực hiện\n",
        "\n",
        "B = \"2\"\n",
        "# = '2'"
      ],
      "execution_count": 38,
      "outputs": []
    },
    {
      "cell_type": "markdown",
      "metadata": {
        "id": "zCL956jYXOWp"
      },
      "source": [
        "<details><summary>Click vào đây để xem lời giải</summary>\n",
        "\n",
        "```python\n",
        "\"2\"\n",
        "\n",
        "```\n",
        "\n",
        "</details>\n"
      ]
    },
    {
      "cell_type": "markdown",
      "metadata": {
        "id": "P50XcZYiIw--"
      },
      "source": [
        "Giá trị của biến <code>C</code> sau khi đoạn code sau được thực thi là bao nhiêu?"
      ]
    },
    {
      "cell_type": "code",
      "metadata": {
        "id": "SxkNwck_Iw--"
      },
      "source": [
        "# Viết code của bạn xuống đây và nhấn Shift+Enter để thực hiện\n",
        "\n",
        "C = A + B\n",
        "# = 12"
      ],
      "execution_count": 39,
      "outputs": []
    },
    {
      "cell_type": "markdown",
      "metadata": {
        "id": "7j-tfIKRXOWq"
      },
      "source": [
        "<details><summary>Click vào đây để xem lời giải</summary>\n",
        "\n",
        "```python\n",
        "\"12\"\n",
        "\n",
        "```\n",
        "\n",
        "</details>\n"
      ]
    },
    {
      "cell_type": "markdown",
      "metadata": {
        "id": "so_o6N_vIw-_"
      },
      "source": [
        "<hr>"
      ]
    },
    {
      "cell_type": "markdown",
      "metadata": {
        "id": "Y69Cg1mmIw-_"
      },
      "source": [
        "Hãy xem xét biến <code>D</code> sử dụng slicing để in ra ba phần tử đầu tiên:"
      ]
    },
    {
      "cell_type": "code",
      "metadata": {
        "id": "NXyOH5DBIw-_",
        "outputId": "fd0c68e2-a771-4488-d25a-86d5f0184076",
        "colab": {
          "base_uri": "https://localhost:8080/"
        }
      },
      "source": [
        "# Viết code của bạn xuống đây và nhấn Shift+Enter để thực hiện\n",
        "\n",
        "D = \"ABCDEFG\"\n",
        "print(D[0:3])"
      ],
      "execution_count": 37,
      "outputs": [
        {
          "output_type": "stream",
          "name": "stdout",
          "text": [
            "ABC\n"
          ]
        }
      ]
    },
    {
      "cell_type": "markdown",
      "metadata": {
        "id": "cscLTFC8XOWq"
      },
      "source": [
        "<details><summary>Click vào đây để xem lời giải</summary>\n",
        "\n",
        "```python\n",
        "print(d[:3]) \n",
        "\n",
        "# or \n",
        "\n",
        "print(d[0:3])\n",
        "\n",
        "```\n",
        "\n",
        "</details>\n"
      ]
    },
    {
      "cell_type": "markdown",
      "metadata": {
        "id": "fZSH__R4Iw_A"
      },
      "source": [
        "<hr>"
      ]
    },
    {
      "cell_type": "code",
      "source": [
        "E = 'clocrkr1e1c1t'\n",
        "print(E[::2])"
      ],
      "metadata": {
        "id": "_xyDCYf3q2-_",
        "outputId": "63d41858-d30c-41d2-9c9b-9154e75ba3b9",
        "colab": {
          "base_uri": "https://localhost:8080/"
        }
      },
      "execution_count": 45,
      "outputs": [
        {
          "output_type": "stream",
          "name": "stdout",
          "text": [
            "correct\n"
          ]
        }
      ]
    },
    {
      "cell_type": "markdown",
      "metadata": {
        "id": "a6zrw9gMIw_A"
      },
      "source": [
        "Sử dụng giá trị stride là 2 để in ra mọi ký tự vị trí chẵn của string\n",
        " <code> E</code>:"
      ]
    },
    {
      "cell_type": "code",
      "metadata": {
        "collapsed": true,
        "id": "3-JnSe4IIw_A",
        "outputId": "bba6c876-da97-4f4d-a4eb-91488d160629",
        "colab": {
          "base_uri": "https://localhost:8080/"
        }
      },
      "source": [
        "# Viết code của bạn xuống đây và nhấn Shift+Enter để thực hiện\n",
        "\n",
        "E = 'clocrkr1e1c1t'\n",
        "print(E[::2])"
      ],
      "execution_count": 46,
      "outputs": [
        {
          "output_type": "stream",
          "name": "stdout",
          "text": [
            "correct\n"
          ]
        }
      ]
    },
    {
      "cell_type": "markdown",
      "metadata": {
        "id": "pIUu_fOEXOWr"
      },
      "source": [
        "<details><summary>Click vào đây để xem lời giải</summary>\n",
        "\n",
        "```python\n",
        "print(e[::2])\n",
        "\n",
        "```\n",
        "\n",
        "</details>\n"
      ]
    },
    {
      "cell_type": "markdown",
      "metadata": {
        "id": "MnKTo6fEIw_A"
      },
      "source": [
        "<hr>"
      ]
    },
    {
      "cell_type": "markdown",
      "metadata": {
        "id": "Fai4oIdAIw_B"
      },
      "source": [
        "In ra dấu gạch chéo ngược:"
      ]
    },
    {
      "cell_type": "code",
      "metadata": {
        "id": "Z2nxzNA9Iw_B",
        "outputId": "db038231-9301-4748-dbaf-0255fef30665",
        "colab": {
          "base_uri": "https://localhost:8080/"
        }
      },
      "source": [
        "# Viết code của bạn xuống đây và nhấn Shift+Enter để thực hiện\n",
        "print(\"\\\\\")"
      ],
      "execution_count": 50,
      "outputs": [
        {
          "output_type": "stream",
          "name": "stdout",
          "text": [
            "\\\n"
          ]
        }
      ]
    },
    {
      "cell_type": "markdown",
      "metadata": {
        "id": "qnBQLeksXOWr"
      },
      "source": [
        "<details><summary>Click vào đây để xem lời giải</summary>\n",
        "\n",
        "```python\n",
        "print(\"\\\\\")\n",
        "\n",
        "or\n",
        "\n",
        "print(r\"\\ \")\n",
        "\n",
        "```\n",
        "\n",
        "</details>\n"
      ]
    },
    {
      "cell_type": "markdown",
      "metadata": {
        "id": "RDRwV1xpIw_B"
      },
      "source": [
        "<hr>"
      ]
    },
    {
      "cell_type": "markdown",
      "metadata": {
        "id": "OwYFJAnOIw_B"
      },
      "source": [
        "Chuyển giá trị của biến <code> f</code> thành chữ in hoa:"
      ]
    },
    {
      "cell_type": "code",
      "metadata": {
        "id": "zvKEodduIw_B",
        "outputId": "306a1d14-a83c-4018-8059-bb3f0e2eec75",
        "colab": {
          "base_uri": "https://localhost:8080/"
        }
      },
      "source": [
        "# Viết code của bạn xuống đây và nhấn Shift+Enter để thực hiện\n",
        "\n",
        "f = \"You are wrong\"\n",
        "print(f.upper())"
      ],
      "execution_count": 52,
      "outputs": [
        {
          "output_type": "stream",
          "name": "stdout",
          "text": [
            "YOU ARE WRONG\n"
          ]
        }
      ]
    },
    {
      "cell_type": "markdown",
      "metadata": {
        "id": "MHlui6_hXOWs"
      },
      "source": [
        "<details><summary>Click vào đây để xem lời giải</summary>\n",
        "\n",
        "```python\n",
        "f.upper()\n",
        "\n",
        "```\n",
        "\n",
        "</details>\n"
      ]
    },
    {
      "cell_type": "markdown",
      "metadata": {
        "id": "U8GHkYC1Iw_C"
      },
      "source": [
        "<hr>"
      ]
    },
    {
      "cell_type": "markdown",
      "metadata": {
        "id": "m_7cn2CzIw_C"
      },
      "source": [
        "Xem xét biến <code> g</code> và tìm chỉ mục đầu tiên của sub-string <code> snow</code>:"
      ]
    },
    {
      "cell_type": "code",
      "metadata": {
        "id": "QLWwZR32Iw_C",
        "outputId": "084cbeb5-c641-4dd1-e549-782bbd31acc7",
        "colab": {
          "base_uri": "https://localhost:8080/"
        }
      },
      "source": [
        "# Viết code của bạn xuống đây và nhấn Shift+Enter để thực hiện\n",
        "\n",
        "g = \"Mary had a little lamb Little lamb, little lamb Mary had a little lamb \\\n",
        "Its fleece was white as snow And everywhere that Mary went Mary went, Mary went \\\n",
        "Everywhere that Mary went The lamb was sure to go\"\n",
        "\n",
        "print(g.find(\"snow\"))"
      ],
      "execution_count": 55,
      "outputs": [
        {
          "output_type": "stream",
          "name": "stdout",
          "text": [
            "95\n"
          ]
        }
      ]
    },
    {
      "cell_type": "markdown",
      "metadata": {
        "id": "k_3ks3UNXOWs"
      },
      "source": [
        "<details><summary>Click vào đây để xem lời giải</summary>\n",
        "\n",
        "```python\n",
        "g.find(\"snow\")\n",
        "\n",
        "```\n",
        "\n",
        "</details>\n"
      ]
    },
    {
      "cell_type": "markdown",
      "metadata": {
        "id": "qiPxnNyNIw_D"
      },
      "source": [
        "Trong biến <code> g</code>, thay thế sub-string <code> Mary</code> bằng <code> Bob</code>:"
      ]
    },
    {
      "cell_type": "code",
      "metadata": {
        "id": "Hju97S9IIw_D",
        "outputId": "03ad5e27-529d-453b-91d8-7be4a73801e6",
        "colab": {
          "base_uri": "https://localhost:8080/"
        }
      },
      "source": [
        "# Viết code của bạn xuống đây và nhấn Shift+Enter để thực hiện\n",
        "\n",
        "g = g.replace('Mary', 'Bob')\n",
        "print(g)"
      ],
      "execution_count": 57,
      "outputs": [
        {
          "output_type": "stream",
          "name": "stdout",
          "text": [
            "Bob had a little lamb Little lamb, little lamb Bob had a little lamb Its fleece was white as snow And everywhere that Bob went Bob went, Bob went Everywhere that Bob went The lamb was sure to go\n"
          ]
        }
      ]
    },
    {
      "cell_type": "markdown",
      "metadata": {
        "id": "EXV4K2GqXOWt"
      },
      "source": [
        "<details><summary>Click vào đây để xem lời giải</summary>\n",
        "\n",
        "```python\n",
        "g.replace(\"Mary\", \"Bob\")\n",
        "\n",
        "```\n",
        "\n",
        "</details>\n"
      ]
    }
  ]
}